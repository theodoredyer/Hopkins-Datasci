{
 "cells": [
  {
   "cell_type": "code",
   "execution_count": 1,
   "metadata": {
    "colab": {},
    "colab_type": "code",
    "id": "bKRHA22Fszwd"
   },
   "outputs": [],
   "source": [
    "import warnings\n",
    "warnings.filterwarnings(\"ignore\")"
   ]
  },
  {
   "cell_type": "code",
   "execution_count": 2,
   "metadata": {
    "colab": {
     "base_uri": "https://localhost:8080/",
     "height": 136
    },
    "colab_type": "code",
    "id": "zGhGeDbux8Po",
    "outputId": "61ac35fd-ee29-4716-8d50-16062abaf657"
   },
   "outputs": [],
   "source": [
    "#!pip install -U pandasql"
   ]
  },
  {
   "cell_type": "code",
   "execution_count": 3,
   "metadata": {
    "colab": {},
    "colab_type": "code",
    "id": "MabaKUfbx-y8"
   },
   "outputs": [],
   "source": [
    "import pandas as pd\n",
    "from pandasql import sqldf\n",
    "import seaborn as sns\n",
    "import matplotlib.pyplot as plt"
   ]
  },
  {
   "cell_type": "code",
   "execution_count": 4,
   "metadata": {
    "colab": {},
    "colab_type": "code",
    "id": "tV5rdO2iyZLn"
   },
   "outputs": [],
   "source": [
    "pysqldf = lambda q: sqldf(q, globals())"
   ]
  },
  {
   "cell_type": "markdown",
   "metadata": {
    "colab_type": "text",
    "id": "z18n24xt6XYy"
   },
   "source": [
    "# Titanic: Case Study in Probability\n",
    "\n",
    "In this case study, we look at the passenger data from the *Titanic* and demonstrate some concepts in probability.\n",
    "In the process, we will need to introduce a few concepts in ETL (Extract, Transform, and Load) and EDA (Exploratory Data Analysis) that we won't cover for a few weeks.\n",
    "You may think of it as a preview.\n",
    "And when we get to the relevant modules, you can come back to this case study and find another example of *those* concepts.\n",
    "We will also return to this case study later in the semester and add some Monte Carlo Simulation.\n",
    "\n",
    "The *Titanic* data is interesting for a few reasons.\n",
    "First, it's a well known event with widely available domain knowledge.\n",
    "Second, it often shows up as a data science example.\n",
    "However, it's not really the straightforward example it's often made out to be and we need to spend a moment discussing why."
   ]
  },
  {
   "cell_type": "markdown",
   "metadata": {
    "colab_type": "text",
    "id": "z18n24xt6XYy"
   },
   "source": [
    "## Independently and Identically Distributed\n",
    "\n",
    "Almost all of our algorithms, all of our analytics go back to probability and the famous \"balls in an urn\" example.\n",
    "When you get purchase data, disease data, forest data, water level data, and start to analyze it, most tools depend on a somewhat cryptic assumption: \"the data is i.i.d.\".\n",
    "What's this \"i.i.d.\"?\n",
    "\n",
    "![IID](resources/iid.jpg){width=\"50%\"}\n",
    "\n",
    "IID stands for \"identically and independently distributed\".\n",
    "If we think of the canonical example of balls in an urn, this means that the probability of picking any particular ball must be the same for *every* ball and not depend on picking *any* particular ball.\n",
    "Thus the probability of picking the first red ball cannot be different than the probability of picking the second red ball (identically).\n",
    "For the urn example, this comes from the assumption \"with replacement\" that is often, even usually, added.\n",
    "Additionaly, the probability of picking a red ball after picking a green ball cannot be different from picking a red ball first (independent).\n",
    "It does *not* say that the probability of picking a red ball must be the same as the probability of picking a green ball.\n",
    "This is just a claim about the constancy of the underlying process that's generating observations.\n",
    "\n",
    "The \"independently\" assumption means successive observations are unrelated.\n",
    "In other words, picking a red ball cannot change the probability of picking a green ball.\n",
    "A real life example might help.\n",
    "\n",
    "Let's say we have a year's worth of purchase data that we're analyzing for a daily deals company (or maybe we're analyzing hard disk defects or disease outbreaks).\n",
    "In order to receive a daily deals email, you have to register so we can send you the email.\n",
    "Only a small fraction of those who register actually make a purchase.\n",
    "We want to understand the behavior of those purchasers so that we might be able to influence non-purchasers to become purchasers.\n",
    "\n",
    "Here the \"urn\" is the process that covers the selection of deals, how they're advertised, potential customers, their incomes and budgets, preferences, marketing, and what they had to eat that morning.\n",
    "Each \"ball\" is a purchase or not (you can think of this as drawing \"red\"--purchase--or \"green\"--no purchase-balls from the urn).\n",
    "\n",
    "So are these data IID?\n",
    "In the strictess sense, probably not, they're very unlikely to be *identically* distributed.\n",
    "The issue is that the process is most definitely changing...competitors are changing their advertising, new items come up for sale, etc.\n",
    "However, we will often treat the data as identically distributed because the things that are changing are not, in general, known.\n",
    "This is a general issue in Data Science that needs to be kept in mind.\n",
    "The relationships we study in sales and marketing are not remotely as constant as the relationships studied in physics and chemistry.\n",
    "\n",
    "Now, are these data independent?\n",
    "That is, is every purchase independent of every other purchase?\n",
    "\n",
    "Well, not *all* of them.\n",
    "Someone may be a purchaser because a friend purchased something.\n",
    "Someone may make a purchase because they made a purchase earlier in the month (or year) and like the quality of the product or the customer service.\n",
    "If a customer makes more than one purchase, then their characteristics (\"features\") are represented two (2) or more times in the data.\n",
    "Because one ball in the urn (\"purchase\") affected another ball in the urn (\"purchase\"), the balls (observations) are not independently distributed.\n",
    "We generally handle this problem by thinking very hard about it and then concluding it doesn't matter.\n",
    "(As I say, almost all of our analytical tools require IID...if we conclude it does matter, everything gets trickier).\n",
    "However, even if we conclude that the lack of IID doesn't matter for the analysis *as a whole*, it may matter incredibly if we start building *training* and *test* data sets because elements in the two sets may be correlated with each other.\n",
    "We'll return to *that* problem later in the course.\n",
    "For now, let us return to Titanic."
   ]
  },
  {
   "cell_type": "markdown",
   "metadata": {
    "colab_type": "text",
    "id": "z18n24xt6XYy"
   },
   "source": [
    "## Titanic as an Urn of Balls\n",
    "\n",
    "The \"urn\" in this case is the process whereby people found themselves as passengers on Titanic, the ensuing journey, collision with the iceberg, the evacuation procedures, and subsequent rescue of those in the lifeboats.\n",
    "Each \"ball\"--the \"red\" and \"green\" in this case--is surviving or not surviving the disaster.\n",
    "Of course, people who never boarded Titanic survived.\n",
    "But, if you were the wife or child of someone who boarded Titanic, you had a high probability of being there yourself.\n",
    "And, as it turns out, survival was also highly correlated among families.\n",
    "Having a family member of some kind on board is actually a feature in the data set but that doesn't quite settle the question of whether the outcomes (draws from the urn) are independent.\n",
    "They don't seem to be.\n",
    "\n",
    "We have to think about whether this matters to our results or not.\n",
    "And it's important to realize that, in the end, our analyses are always approximations and estimates."
   ]
  },
  {
   "cell_type": "markdown",
   "metadata": {
    "colab_type": "text",
    "id": "z18n24xt6XYy"
   },
   "source": [
    "## Titanic as a Single Event\n",
    "\n",
    "One final word before we turn to the analysis.\n",
    "One might reasonably object to the analysis of the Titanic data as a *probabilitistic* or even just *predictive* exercise because it was a one time event.\n",
    "Obviously, it makes sense to build a model to predict whether a picture is a dog or a cat, or to build a model from past purchases to predict future purchases, because both of these are on-going or repeating *processes*.\n",
    "\n",
    "But can we build a model of Titanic survivability in a meaningful way?\n",
    "My response is that it is worthwhile to look at the Titanic data for a number of reasons.\n",
    "First, despite its not being a repeating process, analyzing the data still has pedagogical value.\n",
    "Second, it's interesting and available (which is no mean feat).\n",
    "Third, we can engage in some \"hypothetical history\".\n",
    "Deterministic processes with many small inputs need only a nudge here and there to go in a completely different direction.\n",
    "Thus, we can engage in a bit of hypothetical history, explore the multiverse if you like, by treating a one time event probabilistically.\n",
    "Finally, *Titanic* had two sister ships.\n",
    "One of them actually sank in the Mediterrean during World War I and *sank even faster* than Titanic did.\n",
    "However, there was significantly less loss of life.\n",
    "Why?\n",
    "The Mediterrean is much warmer than the North Atlantic and *Olympic* was nearer an island from which rescue boats were launched.\n",
    "The third sister ship sailed without incident.\n",
    "\n",
    "<div style=\"background: lemonchiffon; margin:20px; padding: 20px;\">\n",
    "    <strong>Important</strong>\n",
    "    <p>\n",
    "Many of the topics discussed here will not have been covered yet.\n",
    "For example, ETL and EDA will not have been covered as of the Probability module.\n",
    "Just skim those sections and anything that says \"Review\" should be interpreted as \"Preview\".\n",
    "The goal is to get you familiar with a lot of examples of the entire process over the course of the semester.\n",
    "    </p>\n",
    "    <p>\n",
    "        You will find a number of messages like this through the notebook that \"break\" character. In your own submissions, do not \"break the 4th wall\", that is, \"I'm doing this because it says so in <em>Fundamentals</em>\" or \"This is an assignment...\" are not permissible.\n",
    "    </p>\n",
    "    <p>\n",
    "        Markdown cells in Jupyter notebooks support raw HTML and CSS as well as Markdown. This isn't true of all notebook platforms, however. For example, Colab does not support raw HTML.\n",
    "    </p>\n",
    "    \n",
    "</div>"
   ]
  },
  {
   "cell_type": "markdown",
   "metadata": {
    "colab_type": "text",
    "id": "jRZkoKTB1_gE"
   },
   "source": [
    "## Domain Knowledge\n",
    "\n",
    "Domain knowledge is incredibly important for data science and should generally, after the identification of the problem/question, be the main starting point.\n",
    "Although we will concern ourselves chiefly with probability, there exists several interesting questions in hypothetical history surrounding Titanic.\n",
    "One of these is, \"how many more could have been saved if there had been more lifeboats aboard Titanic?\".\n",
    "Although we will not address this question directly (yet), domain knowledge will even help us with our investigation of probabilities so let's see what we can find out.\n",
    "\n",
    "1. According to [Wikipedia](https://en.wikipedia.org/wiki/RMS_Titanic)'s main and secondary articles on Titanic, there were an estimated 2,227 passengers and crew on board when Titanic sank (1317 passengers). However, Titanic was not full. The official capacity of Titanic was more than 3,547 passengers and crew.\n",
    "2. The capacity, by class, of Titanic was as follows:\n",
    "\n",
    "| Type      | Count |\n",
    "|-----------|------:|\n",
    "| 1st Class | 833   |\n",
    "| 2nd Class | 614   |\n",
    "| 3rd Class | 1,006  |\n",
    "| Crew      | 900   |\n",
    "\n",
    "\n",
    "3. The location of cabins differed and played a role in passenger survival. The less desirable (3rd Class) cabins were lower (Decks D-G, but mostly F & G) and the more desirable (1st class) cabins were higher (Decks A-C, although 1st class facilities extended down to F Deck). 2nd Class Cabins were located on D-F Decks. G Desk flooded within 5-10 minutes after the collision and F Deck shortly thereafter.\n",
    "\n",
    "### Lifeboats\n",
    "\n",
    "Lifeboats figured heavily into the disaster and subsequent investigation. Several forces conspired to doom any vessel of Titanic's size should there be a disaster at sea. First, maritime regulations had not caught up with ships on the scale of Titanic. Second, there was a general, anecdotally supported view, of \"every ship its own lifeboat\" and therefore if a ship was \"unsinkable\", if disaster did strike, it would remain afloat until rescue ships came and the few available lifeboats would ferry the passengers and crew to safety.\n",
    "\n",
    "1. Titanic was designed to carry 64 lifeboats. That number was halved to 32 then again to 16, so as to maximize the available deckspace.\n",
    "2. In the end, Titanic carried 14 regular lifeboats (65 passengers officially, 40 in practice), 2 cutters (40 passengers officially), and 4 collapsible lifeboats--more like rafts (47 passengers officially).\n",
    "\n",
    "The total capacity of the lifeboats was 828. If Titanic had had 64 regular lifeboats, the capacity would have been 2,560, which was more than enough for the passengers and crew at the time, although not enough if Titanic had been at capacity. However, that doesn't mean that Titanic could have successfully *launched* those lifeboats.\n",
    "\n",
    "Aside from the number of lifeboats, there were several ways in which the lifeboats were problematic and central to the disaster.\n",
    "\n",
    "1. The lifeboats and infrastructure were new, during the disaster, several lifeboats were lowered only with difficulty.\n",
    "2. There was only precursory training on the lifeboat system before sailing and there were no lifeboat drills once Titanic left Southampton. Many of the crew had no idea what they were supposed to do or where they were supposed to be in the event of a disaster (the instructions had been left unread or forgotten).\n",
    "3. Crew were reticent to load many people onto lifeboats because they were afraid they would buckle. In fact, the lifeboats had been tested with the weight of 70 men; a fact they were unaware of.\n",
    "4. Passengers were not sufficiently informed or aware of their situation and many refused to get into lifeboats until too late.\n",
    "5. The launch of the lifeboats did not start until nearly a hour after Titanic struck the iceberg. By this time, the 3rd class passenger decks had been fully flooded.\n",
    "6. Most fatefully, the starboard crew and the port crew interpreted the instruction \"women and children in and lower away\" differently. Murdoch and crew, on the starboard side, interpreted the instruction to mean: women and children *first* while Lightoller and crew, working on the port side, intrepreted the instruction to mean: women and children *only*.\n",
    "\n",
    "Thus, on the starboard side, if there were no women or children waiting, men were permitted into the lifeboats whereas on the port side, lifeboats were lowered nearly empty even if men were waiting for a spot.\n",
    "Interestingly, James Cameron weaves some of this information into in his movie [*Titanic*](https://www.youtube.com/watch?v=iPskEv01h98), although not necessarily in a historically accurate way.\n",
    "\n",
    "\n",
    "| Lifeboat tally |        |           |        |\n",
    "|----------------|--------|-----------|--------|\n",
    "| Port           |        | Starboard |        |\n",
    "| Boat           | Aboard | Boat      | Aboard |\n",
    "| 2              | 18     | 1         | 12     |\n",
    "| 4              | 42     | 3         | 40     |\n",
    "| 6              | 29     | 5         | 36     |\n",
    "| 8              | 28     | 7         | 28     |\n",
    "| 10             | 39     | 9         | 38     |\n",
    "| 12             | 29     | 11        | 68     |\n",
    "| 14             | 48     | 13        | 63     |\n",
    "| 16             | 39     | 15        | 64     |\n",
    "| B              | (21)   | A         | 12     |\n",
    "| D              | 22     | C         | 45     |\n",
    "| Total:         | 308    | Total:    | 404    |\n",
    "\n",
    "\n",
    "The numbers refer to regular lifeboats/cutters and the letters to the collapsible lifeboats. Lifeboat A floated off the deck while being launched and Lifeboat B landed upside down; surviving passengers were transfered to other lifeboats.\n",
    "\n",
    "Titanic struck the iceberg at 11:40 pm, ship's time.\n",
    "The lower decks were flooded in 10 minutes and the lifeboats were not launched for a full hour after the iceberg was struck."
   ]
  },
  {
   "cell_type": "markdown",
   "metadata": {
    "colab_type": "text",
    "id": "tV0UtJS6yljm"
   },
   "source": [
    "## <a id=\"etl\">ETL</a>\n",
    "\n",
    "\n",
    "<div style=\"background: palegreen; margin:20px; padding: 20px;\">\n",
    "    <strong>Review (Module 4)</strong>\n",
    "    <p>\n",
    "        <ol>\n",
    "            <li>What does \"ETL\" stand for?</li>\n",
    "            <li>In words a non-technical person would understand, what makes a data set \"tidy data\"? Can you think of an example (a table or data set) of Titanic data that would <em>not</em> be \"tidy\"?</li>\n",
    "            <li>How do the concepts of provenance and reproducibility apply?</li>\n",
    "        </ol>\n",
    "    </p>\n",
    "</div>\n",
    "\n",
    "There are several copies of \"the\" Titanic data set available.\n",
    "The most extensive one is from Lake Forest University, `titantic3`.\n",
    "As described by M. L. Frank, `titanic` is drawn from *Encyclopedia Titanica* and contains information for all passengers but not crew.\n",
    "About half of the passengers are missing values for `age`.\n",
    "\n",
    "`titanic2` was created by Robert Dawson of St. Mary's University to include records for the crew.\n",
    "Additionally, all records have a value for `age` but it has been turned into a categorical variable with values `adult` or `child`.\n",
    "\n",
    "`titanic3` was created by Thomas Cason of the University of Virginia and is the most up-to-date data set for the Titanic as of 2 August 1999.\n",
    "It does not include crew records.\n",
    "\n",
    "### Data Dictionary\n",
    "\n",
    "The `titanic3` data set has the following variables:\n",
    "\n",
    "\n",
    "| Variable  | Description                       | Notes                                                                                                                    |\n",
    "|-----------|-----------------------------------|---------------------------------------------------------------------------------------------------------------------------|\n",
    "| pclass    | Passenger Class                   | (1 = 1st, 2 = 2nd, 3 = 3rd)                                                                                                 |\n",
    "| survived  | Survived or not                       | (0 = No, 1 = Yes)                                                                                                         |\n",
    "| name      | Name                              |                                                                                                                           |\n",
    "| sex   | Sex                               |                                                                                                                           |\n",
    "| age   |   Age                                 |                                                                                                                           |\n",
    "| sibsp     | Number of Siblings/Spouses Aboard | Brother, Sister, Stepbrother, or Stepsister, Husband or Wife of Passenger Aboard Titanic (Mistresses and Fiances Ignored) |\n",
    "| parch     | Number of Parents/Children Aboard | Mother or Father, Son, Daughter, Stepson, or Stepdaughter of Passenger Aboard Titanic                                     |\n",
    "| ticket    | Ticket Number                     |                                                                                                                           |\n",
    "| fare      | Passenger Fare (British pound)    |                                                                                                                           |\n",
    "| cabin     | Cabin                             |                                                                                                                           |\n",
    "| embarked  | Port of Embarkation               | (C = Cherbourg, Q = Queenstown, S = Southampton)                                                                          |\n",
    "| boat      | Lifeboat                          |                                                                                                                           |\n",
    "| body      | Body Identification Number        |                                                                                                                           |\n",
    "| home.dest | Home/Destination                  |                                                                                                                           |\n",
    "\n",
    "\n",
    "This data set represents \"tidy\" data according to the Hadley Wickham's definition:\n",
    "\n",
    "1. Each row is an observation (a passenger).\n",
    "2. Each column is a variable (age, name).\n",
    "3. Each \"cell\" (intersection of row and column) is a value of that variable for that observation.\n",
    "\n",
    "ETL stands for *extract, transform, and load*.\n",
    "While \"transform\" is an overloaded term in data science, in this case, \"transform\" is associated with turning *untidy* data into *tidy* data.\n",
    "As a result, there are no obvious transforms we need to apply at this time because the data comes from a single file that is already \"tidy\".\n",
    "However, there are other kinds of transformations we may want to perform later, during Exporatory Data Analysis. Those will including such things as turning numerical variables into categorical variables and taking logs and square roots.\n",
    "\n",
    "![Not Those Transforms](resources/transforms.jpg){width=\"50%\"}\n",
    "\n",
    "### Obtaining the Data\n",
    "\n",
    "The data can be found at:\n",
    "\n",
    "http://biostat.mc.vanderbilt.edu/wiki/pub/Main/DataSets/titanic3.xls\n",
    "\n",
    "which we can load directly into a Pandas `DataFrame`."
   ]
  },
  {
   "cell_type": "code",
   "execution_count": 5,
   "metadata": {
    "colab": {},
    "colab_type": "code",
    "id": "GWtB5A32ycCo"
   },
   "outputs": [],
   "source": [
    "titanic = pd.read_excel(\"http://biostat.mc.vanderbilt.edu/wiki/pub/Main/DataSets/titanic3.xls\")"
   ]
  },
  {
   "cell_type": "markdown",
   "metadata": {
    "colab_type": "text",
    "id": "XKsIv87RzgnQ"
   },
   "source": [
    "<div style=\"background: lemonchiffon; margin:20px; padding: 20px;\">\n",
    "    <strong>Note</strong>\n",
    "    <p>\n",
    "        <tt>df.info()</tt> can be used to get basic information about a DataFrame including variable names, total entries with values (\"non-null\"), and the storage data type.\n",
    "        Using <tt>info()</tt> can be your first test that everything happened as you expected.\n",
    "For example, the Data Dictionary could be wrong, or one or more variables in might have a different value in the file than they do in the Data Dictionary. \n",
    "    </p>\n",
    "    <p>During ETL, once you have your data in a DataFrame, this should be the first step.</p>\n",
    "</div>"
   ]
  },
  {
   "cell_type": "code",
   "execution_count": 6,
   "metadata": {
    "colab": {
     "base_uri": "https://localhost:8080/",
     "height": 374
    },
    "colab_type": "code",
    "id": "oVj-5zEZzb42",
    "outputId": "dc58ea92-3533-4dce-f9de-6654df5cd205"
   },
   "outputs": [
    {
     "name": "stdout",
     "output_type": "stream",
     "text": [
      "<class 'pandas.core.frame.DataFrame'>\n",
      "RangeIndex: 1309 entries, 0 to 1308\n",
      "Data columns (total 14 columns):\n",
      " #   Column     Non-Null Count  Dtype  \n",
      "---  ------     --------------  -----  \n",
      " 0   pclass     1309 non-null   int64  \n",
      " 1   survived   1309 non-null   int64  \n",
      " 2   name       1309 non-null   object \n",
      " 3   sex        1309 non-null   object \n",
      " 4   age        1046 non-null   float64\n",
      " 5   sibsp      1309 non-null   int64  \n",
      " 6   parch      1309 non-null   int64  \n",
      " 7   ticket     1309 non-null   object \n",
      " 8   fare       1308 non-null   float64\n",
      " 9   cabin      295 non-null    object \n",
      " 10  embarked   1307 non-null   object \n",
      " 11  boat       486 non-null    object \n",
      " 12  body       121 non-null    float64\n",
      " 13  home.dest  745 non-null    object \n",
      "dtypes: float64(3), int64(4), object(7)\n",
      "memory usage: 143.3+ KB\n"
     ]
    }
   ],
   "source": [
    "titanic.info()"
   ]
  },
  {
   "cell_type": "markdown",
   "metadata": {
    "colab_type": "text",
    "id": "K7hZNngJz-sV"
   },
   "source": [
    "Here we can see that the variables are as defined in the data dictionary.\n",
    "Additionally, each of the variables are the expected type.\n",
    "For example, `name`, `sex`, `cabin`, `embarked`, `boat`, `home.dest` are all strings (\"object\").\n",
    "The only variable that's questionnable is `ticket` (Ticket Number) but it's entirely possible for ticket numbers to include alphabetic characters and not just numbers.\n",
    "\n",
    "Given that some of the categorical variables have numeric encodings, all of the other variables have the proper numeric *programming language* types (`pclass`, `survived`, `age`, `sibsp`, `parch`, `fare`, `body`)\n",
    "\n",
    "Looking through the non-null counts, we can see that the maximum number of observations we should have is 1309 for any given variable.\n",
    "Based on this, we can see we have only partial information for `age`, `fare`, `cabin`, `embarked`, `boat`, `body`, and `home.dest`.\n",
    "The missing values make sense in some cases.\n",
    "If the passenger did not survive, they may not necessarily have a `boat` (lifeboat) number.\n",
    "If the passenger did survive or did not survive and wasn't recovered, they won't have a body identification number.\n",
    "\n",
    "And just in general, it makes sense that records might not have survived for every passenger so that we might know their `cabin` or `home.dest`.\n",
    "And even so, these might be correlated with other variables (such as lacking a cabin number and 3rd class) and we might check them later.\n",
    "\n",
    "Finally, we must be cautious that just because `pclass` is encoded as an `int`, this is just a code, 1st class plus 2nd class does not equal 3rd class!\n",
    "Taking the average of this variable is meaningless.\n",
    "\n",
    "<div style=\"background: palegreen; margin:20px; padding: 20px;\">\n",
    "    <strong>Review</strong>\n",
    "    <p>\n",
    "        Name the main <strong>data science</strong> data types. What's the difference between computer/programming language data types and data science data types?</p>\n",
    "</div>"
   ]
  },
  {
   "cell_type": "markdown",
   "metadata": {
    "colab_type": "text",
    "id": "yBqQkCE30tDh"
   },
   "source": [
    "## <a id=\"eda\">Exploratory Data Analysis</a>\n",
    "\n",
    "<div style=\"background: palegreen; margin:20px; padding: 20px;\">\n",
    "    <strong>Review (Module 5)</strong>\n",
    "    <p>What process do we follow in order to make Exploratory Data Analysis (EDA) as rigorous as possible?</p>\n",
    "</div>\n",
    "\n",
    "We start with an overall count of the records so we can use it later:\n"
   ]
  },
  {
   "cell_type": "code",
   "execution_count": 7,
   "metadata": {
    "colab": {
     "base_uri": "https://localhost:8080/",
     "height": 34
    },
    "colab_type": "code",
    "id": "aJoWqZTn47H_",
    "outputId": "be33983b-1a51-4f9c-ec68-2289be96bf7e"
   },
   "outputs": [],
   "source": [
    "passengers = len(titanic)"
   ]
  },
  {
   "cell_type": "code",
   "execution_count": 8,
   "metadata": {},
   "outputs": [
    {
     "data": {
      "text/plain": [
       "1309"
      ]
     },
     "execution_count": 8,
     "metadata": {},
     "output_type": "execute_result"
    }
   ],
   "source": [
    "passengers"
   ]
  },
  {
   "cell_type": "markdown",
   "metadata": {
    "colab_type": "text",
    "id": "i9TzpPrhRAr_"
   },
   "source": [
    "## Variables Examined\n",
    "\n",
    "There are a number of variables that we will not be using.\n",
    "For example, `name` will not be used.\n",
    "Although it's entirely possible someone might have said, \"Do you know how I am?\", we have no way of knowing this and operationalizing that information based on the name alone.\n",
    "\n",
    "Additionally, we will not use:\n",
    "\n",
    "* `ticket` (ticket number) - it's not feasible to see how ticket number influenced survival.\n",
    "* `embarked` (port of embarcation) - it's unlikely that the port that someone boarded *Titanic* is relevant.\n",
    "* `home.dest` (home destination) - it's not likely that the home destination of a passenger influenced their survival.\n",
    "\n",
    "Finally, we won't use:\n",
    "\n",
    "* `lifeboat` - because being in a lifeboat basically indicates that someone survived.\n",
    "* `body` - because a body number basically indicates that someone did *not* survive.\n",
    "\n",
    "Therefore, we will look at:\n",
    "\n",
    "1. `pclass`\n",
    "2. `sex`\n",
    "3. `age`\n",
    "4. `sibsp` (siblings)\n",
    "5. `parch` (parents or children)\n",
    "6. `fare`\n",
    "7. `cabin` (possibly more information that just pclass)\n",
    "8. `survival`"
   ]
  },
  {
   "cell_type": "markdown",
   "metadata": {},
   "source": [
    "\n",
    "<div style=\"background: lemonchiffon; margin:20px; padding: 20px;\">\n",
    "    <strong>Note</strong>\n",
    "    <p>Our basic framework for EDA in this course is:</p>\n",
    "    <ol>\n",
    "        <li>Single Variable Exploration</li>\n",
    "        <li>Pairwise Comparisons guided by\n",
    "            <ol>\n",
    "                <li>domain knowledge</li>\n",
    "                <li>question or problem</li>\n",
    "                <li>correlation</li>\n",
    "            </ol>\n",
    "        </li>\n",
    "        <li>Higher Dimension Comparisons</li>\n",
    "    </ol>\n",
    "    <p>and we will follow that here. You should not deviate from the framework on your Labs and Problem Sets.</p>    \n",
    "</div>\n"
   ]
  },
  {
   "cell_type": "markdown",
   "metadata": {
    "colab_type": "text",
    "id": "V5PUQF3S0kdu"
   },
   "source": [
    "### Passenger Class (pclass)\n",
    "\n",
    "`pclass` is the class of the passenger, either 1st, 2nd, or 3rd class.\n",
    "It is a categorical variable but it has been encoded here as an integer.\n",
    "We need to be careful.\n",
    "`pclass` can be seen as a proxy variable for socio-economic status and indicative of the location of the person's cabin, which proved to be vital during the disaster.\n",
    "At 11:40p, most of the 3rd class passengers would have been in their cabins where as the 1st class passengers would have been closer to the deck.\n",
    "\n",
    "We will first look at the `pclass` variable and then look at simple counts or distributions by value.\n",
    "What do we expect to see?\n",
    "\n",
    "We have a count of passenger *cabins* above.\n",
    "There were roughly 800 1st class, 600 2nd class, and 1000 3rd class cabins.\n",
    "Now, the 3rd class cabins could hold more people than the 1st class cabins so there should be many more 3rd class passengers than 1st class.\n",
    "\n",
    "\n",
    "<div style=\"background: lemonchiffon; margin:20px; padding: 20px;\">\n",
    "    <strong>Note</strong>\n",
    "    <p>There are at least two ways to calculate counts by value. We'll show the way it was done in <em>Fundamentals</em> and then show how we can use <tt>pandasql</tt> as well.</p>\n",
    "    <p><tt>describe()</tt> returns a Series which does not have \"nice\" formatting. Wrapping a Series in a DataFrame gives us the \"nice\" HTML formatting.</p>\n",
    "</div>\n",
    "\n",
    "As we have twice noted, if we `describe()` `pclass`, Pandas will fulfill our command:"
   ]
  },
  {
   "cell_type": "code",
   "execution_count": 9,
   "metadata": {
    "colab": {
     "base_uri": "https://localhost:8080/",
     "height": 297
    },
    "colab_type": "code",
    "id": "FLsvs7Qcz88L",
    "outputId": "ad69d9dc-749e-4cef-b2af-806abb93ed61"
   },
   "outputs": [
    {
     "data": {
      "text/html": [
       "<div>\n",
       "<style scoped>\n",
       "    .dataframe tbody tr th:only-of-type {\n",
       "        vertical-align: middle;\n",
       "    }\n",
       "\n",
       "    .dataframe tbody tr th {\n",
       "        vertical-align: top;\n",
       "    }\n",
       "\n",
       "    .dataframe thead th {\n",
       "        text-align: right;\n",
       "    }\n",
       "</style>\n",
       "<table border=\"1\" class=\"dataframe\">\n",
       "  <thead>\n",
       "    <tr style=\"text-align: right;\">\n",
       "      <th></th>\n",
       "      <th>pclass</th>\n",
       "    </tr>\n",
       "  </thead>\n",
       "  <tbody>\n",
       "    <tr>\n",
       "      <th>count</th>\n",
       "      <td>1309.000000</td>\n",
       "    </tr>\n",
       "    <tr>\n",
       "      <th>mean</th>\n",
       "      <td>2.294882</td>\n",
       "    </tr>\n",
       "    <tr>\n",
       "      <th>std</th>\n",
       "      <td>0.837836</td>\n",
       "    </tr>\n",
       "    <tr>\n",
       "      <th>min</th>\n",
       "      <td>1.000000</td>\n",
       "    </tr>\n",
       "    <tr>\n",
       "      <th>25%</th>\n",
       "      <td>2.000000</td>\n",
       "    </tr>\n",
       "    <tr>\n",
       "      <th>50%</th>\n",
       "      <td>3.000000</td>\n",
       "    </tr>\n",
       "    <tr>\n",
       "      <th>75%</th>\n",
       "      <td>3.000000</td>\n",
       "    </tr>\n",
       "    <tr>\n",
       "      <th>max</th>\n",
       "      <td>3.000000</td>\n",
       "    </tr>\n",
       "  </tbody>\n",
       "</table>\n",
       "</div>"
      ],
      "text/plain": [
       "            pclass\n",
       "count  1309.000000\n",
       "mean      2.294882\n",
       "std       0.837836\n",
       "min       1.000000\n",
       "25%       2.000000\n",
       "50%       3.000000\n",
       "75%       3.000000\n",
       "max       3.000000"
      ]
     },
     "execution_count": 9,
     "metadata": {},
     "output_type": "execute_result"
    }
   ],
   "source": [
    "pd.DataFrame(titanic[\"pclass\"].describe())"
   ]
  },
  {
   "cell_type": "markdown",
   "metadata": {
    "colab_type": "text",
    "id": "U4Z-LpHb58r3"
   },
   "source": [
    "but it doesn't make any sense.\n",
    "It is meaningless to say that the mean class was \"2.29\".\n",
    "Pandas isn't going to automatically do the right thing.\n",
    "You should by not \"describing\" a categorical variable, even with a numeric encoding.\n",
    "\n",
    "\n",
    "<div style=\"background: lemonchiffon; margin:20px; padding: 20px;\">\n",
    "    <strong>Note</strong>\n",
    "    <p>You can access a variable in a DataFrame using either Dictionary notation: <tt>titanic[\"pclass\"]</tt> or Object notation: <tt>titanic.pclass</tt></p>\n",
    "    <p>Which one you use is entirely up to you but it's best to be consistent. If you have variables with spaces in the names, you'll have to use the \"dictionary\" notation and you should just stick with it. You'll be forced to use dictionary notation if you access multiple variables at once <tt>titanic[[\"pclass\", \"sex\"]]</tt>.</p>\n",
    "    <p>Because you almost always have to use Dictionary notation at some point, I usually just stick with Dictionary notation.</p>\n",
    "</div>\n",
    "\n",
    "\n",
    "<div style=\"background: tomato; margin:20px; padding: 20px;\">\n",
    "    <strong>Warning</strong>\n",
    "    <p>I sometimes see students assign variables in DataFrames to another variable:\n",
    "    <pre style=\"background: tomato;\">\n",
    "    pclass = titanic[\"pclass\"]\n",
    "    </pre>\n",
    "    I'm not exactly sure why one would do that so <strong>don't</strong>. There's just no reason to do this whatsoever, especially when you can use Object notation.</p>\n",
    "</div>\n",
    "\n",
    "\n",
    "\n",
    "Thus even though `pclass` is numeric, we should treat it as categorical data and just look at counts and relative frequency.\n",
    "Relative frequency holds a particular interested for us because it can be thought of as an estimate of probability."
   ]
  },
  {
   "cell_type": "code",
   "execution_count": 10,
   "metadata": {
    "colab": {
     "base_uri": "https://localhost:8080/",
     "height": 142
    },
    "colab_type": "code",
    "id": "StaHBACv5cU-",
    "outputId": "e97c71c7-fac1-493e-c55c-b0c843fe800b"
   },
   "outputs": [
    {
     "data": {
      "text/html": [
       "<div>\n",
       "<style scoped>\n",
       "    .dataframe tbody tr th:only-of-type {\n",
       "        vertical-align: middle;\n",
       "    }\n",
       "\n",
       "    .dataframe tbody tr th {\n",
       "        vertical-align: top;\n",
       "    }\n",
       "\n",
       "    .dataframe thead th {\n",
       "        text-align: right;\n",
       "    }\n",
       "</style>\n",
       "<table border=\"1\" class=\"dataframe\">\n",
       "  <thead>\n",
       "    <tr style=\"text-align: right;\">\n",
       "      <th></th>\n",
       "      <th>pclass</th>\n",
       "    </tr>\n",
       "  </thead>\n",
       "  <tbody>\n",
       "    <tr>\n",
       "      <th>1</th>\n",
       "      <td>323</td>\n",
       "    </tr>\n",
       "    <tr>\n",
       "      <th>2</th>\n",
       "      <td>277</td>\n",
       "    </tr>\n",
       "    <tr>\n",
       "      <th>3</th>\n",
       "      <td>709</td>\n",
       "    </tr>\n",
       "  </tbody>\n",
       "</table>\n",
       "</div>"
      ],
      "text/plain": [
       "   pclass\n",
       "1     323\n",
       "2     277\n",
       "3     709"
      ]
     },
     "execution_count": 10,
     "metadata": {},
     "output_type": "execute_result"
    }
   ],
   "source": [
    "pd.DataFrame(titanic[\"pclass\"].value_counts().sort_index())"
   ]
  },
  {
   "cell_type": "markdown",
   "metadata": {
    "colab_type": "text",
    "id": "J4cTsmiJ8s4z"
   },
   "source": [
    "Our hypothesis is nearly correct.\n",
    "There are about the same number of 1st and 2nd class passengers (at least proportionate to their count of cabins) but there are more than twice as many 3rd class passengers."
   ]
  },
  {
   "cell_type": "code",
   "execution_count": 11,
   "metadata": {
    "colab": {
     "base_uri": "https://localhost:8080/",
     "height": 142
    },
    "colab_type": "code",
    "id": "QVtTAfxX7lt7",
    "outputId": "3478139e-3259-418c-9d0a-2a7c7e42b13f"
   },
   "outputs": [
    {
     "data": {
      "text/html": [
       "<div>\n",
       "<style scoped>\n",
       "    .dataframe tbody tr th:only-of-type {\n",
       "        vertical-align: middle;\n",
       "    }\n",
       "\n",
       "    .dataframe tbody tr th {\n",
       "        vertical-align: top;\n",
       "    }\n",
       "\n",
       "    .dataframe thead th {\n",
       "        text-align: right;\n",
       "    }\n",
       "</style>\n",
       "<table border=\"1\" class=\"dataframe\">\n",
       "  <thead>\n",
       "    <tr style=\"text-align: right;\">\n",
       "      <th></th>\n",
       "      <th>pclass</th>\n",
       "    </tr>\n",
       "  </thead>\n",
       "  <tbody>\n",
       "    <tr>\n",
       "      <th>1</th>\n",
       "      <td>0.246753</td>\n",
       "    </tr>\n",
       "    <tr>\n",
       "      <th>2</th>\n",
       "      <td>0.211612</td>\n",
       "    </tr>\n",
       "    <tr>\n",
       "      <th>3</th>\n",
       "      <td>0.541635</td>\n",
       "    </tr>\n",
       "  </tbody>\n",
       "</table>\n",
       "</div>"
      ],
      "text/plain": [
       "     pclass\n",
       "1  0.246753\n",
       "2  0.211612\n",
       "3  0.541635"
      ]
     },
     "execution_count": 11,
     "metadata": {},
     "output_type": "execute_result"
    }
   ],
   "source": [
    "pd.DataFrame(titanic[\"pclass\"].value_counts(normalize=True).sort_index())"
   ]
  },
  {
   "cell_type": "markdown",
   "metadata": {
    "colab_type": "text",
    "id": "HbouXPs49GaX"
   },
   "source": [
    "More than half the passengers were 3rd class, with 1st and 2nd classes making up 25% and 20% respectively."
   ]
  },
  {
   "cell_type": "code",
   "execution_count": 12,
   "metadata": {
    "colab": {
     "base_uri": "https://localhost:8080/",
     "height": 392
    },
    "colab_type": "code",
    "id": "aPHODZ6R9E57",
    "outputId": "5a555e66-9d72-492c-a716-10d88d45839d"
   },
   "outputs": [
    {
     "data": {
      "image/png": "[encoded data removed]",
      "text/plain": [
       "<Figure size 720x432 with 1 Axes>"
      ]
     },
     "metadata": {
      "needs_background": "light"
     },
     "output_type": "display_data"
    }
   ],
   "source": [
    "pclass_proportions = titanic[\"pclass\"].value_counts(normalize=True).sort_index()\n",
    "x = range( len( pclass_proportions))\n",
    "width = 1/1.5\n",
    "\n",
    "figure = plt.figure(figsize=(10, 6))\n",
    "\n",
    "axes = figure.add_subplot(1, 1, 1)\n",
    "axes.bar(x, pclass_proportions, width, color=\"dimgray\", align=\"center\")\n",
    "axes.set_xticks([0, 1, 2])\n",
    "axes.set_xticklabels([\"1st\", \"2nd\", \"3rd\"])\n",
    "axes.set_title( \"Relative Frequency of $pclass$ Values\")\n",
    "axes.set_ylabel( \"Percent\")\n",
    "axes.set_ylim((0,1))\n",
    "axes.xaxis.grid(False)\n",
    "\n",
    "plt.show()\n",
    "plt.close()"
   ]
  },
  {
   "cell_type": "markdown",
   "metadata": {
    "colab_type": "text",
    "id": "DUPvB1ht-H3o"
   },
   "source": [
    "<div style=\"background: lemonchiffon; margin: 20px; padding: 20px\">\n",
    "    <strong>Note</strong>\n",
    "    <p>\n",
    "        Remember, although in <em>Fundamentals</em> (Module 5) we show both the bar chart for counts and bar chart for relative frequency (proportions), we don't <em>usually</em> need show both in the real world. When they are right next to each other, they have the exact same shapes, just different y-axis labels.\n",
    "    </p>\n",
    "    <p>\n",
    "        When charting percentages it's often desirable to make the y-range the full 0 to 100%, if the bars all add up to 100%.\n",
    "    </p>\n",
    "</div>"
   ]
  },
  {
   "cell_type": "markdown",
   "metadata": {},
   "source": [
    "Here is the same calculation using `pandasql`.\n",
    "Either way is completely fine, although `pandasql` is probably more useful for more complex calculations including joins across data frames."
   ]
  },
  {
   "cell_type": "code",
   "execution_count": 13,
   "metadata": {
    "colab": {},
    "colab_type": "code",
    "id": "VczfOQ3J95_H"
   },
   "outputs": [],
   "source": [
    "pclass_counts = pysqldf(\"SELECT pclass, count(*) AS cnt FROM titanic GROUP BY pclass ORDER BY pclass\")"
   ]
  },
  {
   "cell_type": "code",
   "execution_count": 14,
   "metadata": {
    "colab": {
     "base_uri": "https://localhost:8080/",
     "height": 142
    },
    "colab_type": "code",
    "id": "ZP8R6_RR-y7W",
    "outputId": "fb09539f-0b42-482d-911a-a8f7feda1b51"
   },
   "outputs": [
    {
     "data": {
      "text/html": [
       "<div>\n",
       "<style scoped>\n",
       "    .dataframe tbody tr th:only-of-type {\n",
       "        vertical-align: middle;\n",
       "    }\n",
       "\n",
       "    .dataframe tbody tr th {\n",
       "        vertical-align: top;\n",
       "    }\n",
       "\n",
       "    .dataframe thead th {\n",
       "        text-align: right;\n",
       "    }\n",
       "</style>\n",
       "<table border=\"1\" class=\"dataframe\">\n",
       "  <thead>\n",
       "    <tr style=\"text-align: right;\">\n",
       "      <th></th>\n",
       "      <th>pclass</th>\n",
       "      <th>cnt</th>\n",
       "    </tr>\n",
       "  </thead>\n",
       "  <tbody>\n",
       "    <tr>\n",
       "      <th>0</th>\n",
       "      <td>1</td>\n",
       "      <td>323</td>\n",
       "    </tr>\n",
       "    <tr>\n",
       "      <th>1</th>\n",
       "      <td>2</td>\n",
       "      <td>277</td>\n",
       "    </tr>\n",
       "    <tr>\n",
       "      <th>2</th>\n",
       "      <td>3</td>\n",
       "      <td>709</td>\n",
       "    </tr>\n",
       "  </tbody>\n",
       "</table>\n",
       "</div>"
      ],
      "text/plain": [
       "   pclass  cnt\n",
       "0       1  323\n",
       "1       2  277\n",
       "2       3  709"
      ]
     },
     "execution_count": 14,
     "metadata": {},
     "output_type": "execute_result"
    }
   ],
   "source": [
    "pclass_counts"
   ]
  },
  {
   "cell_type": "markdown",
   "metadata": {
    "colab_type": "text",
    "id": "3X3PfECy_G3f"
   },
   "source": [
    "We can add the percent by manipulating the dataframe:"
   ]
  },
  {
   "cell_type": "code",
   "execution_count": 15,
   "metadata": {
    "colab": {},
    "colab_type": "code",
    "id": "NXif218Y-0ZV"
   },
   "outputs": [],
   "source": [
    "pclass_counts[\"percent\"] = pclass_counts[\"cnt\"]/passengers"
   ]
  },
  {
   "cell_type": "code",
   "execution_count": 16,
   "metadata": {
    "colab": {
     "base_uri": "https://localhost:8080/",
     "height": 142
    },
    "colab_type": "code",
    "id": "rNecRXSs_Ar9",
    "outputId": "8b94d0d3-9c80-4127-bf46-5fcbb7606409"
   },
   "outputs": [
    {
     "data": {
      "text/html": [
       "<div>\n",
       "<style scoped>\n",
       "    .dataframe tbody tr th:only-of-type {\n",
       "        vertical-align: middle;\n",
       "    }\n",
       "\n",
       "    .dataframe tbody tr th {\n",
       "        vertical-align: top;\n",
       "    }\n",
       "\n",
       "    .dataframe thead th {\n",
       "        text-align: right;\n",
       "    }\n",
       "</style>\n",
       "<table border=\"1\" class=\"dataframe\">\n",
       "  <thead>\n",
       "    <tr style=\"text-align: right;\">\n",
       "      <th></th>\n",
       "      <th>pclass</th>\n",
       "      <th>cnt</th>\n",
       "      <th>percent</th>\n",
       "    </tr>\n",
       "  </thead>\n",
       "  <tbody>\n",
       "    <tr>\n",
       "      <th>0</th>\n",
       "      <td>1</td>\n",
       "      <td>323</td>\n",
       "      <td>0.246753</td>\n",
       "    </tr>\n",
       "    <tr>\n",
       "      <th>1</th>\n",
       "      <td>2</td>\n",
       "      <td>277</td>\n",
       "      <td>0.211612</td>\n",
       "    </tr>\n",
       "    <tr>\n",
       "      <th>2</th>\n",
       "      <td>3</td>\n",
       "      <td>709</td>\n",
       "      <td>0.541635</td>\n",
       "    </tr>\n",
       "  </tbody>\n",
       "</table>\n",
       "</div>"
      ],
      "text/plain": [
       "   pclass  cnt   percent\n",
       "0       1  323  0.246753\n",
       "1       2  277  0.211612\n",
       "2       3  709  0.541635"
      ]
     },
     "execution_count": 16,
     "metadata": {},
     "output_type": "execute_result"
    }
   ],
   "source": [
    "pclass_counts"
   ]
  },
  {
   "cell_type": "markdown",
   "metadata": {},
   "source": [
    "Because we usually *do* want both you'd think that the `pandas` library would let us but, no, it does not.\n",
    "In fact, there's a long discussion about this very [feature](https://github.com/pandas-dev/pandas/issues/16851) where they convinced themselves it belonged in a \"cookbook\".\n",
    "We will follow the path blazed by the OP and write our own.\n",
    "This will also demonstrate a bit of OOP hacking in Python.\n",
    "\n",
    "First, we create a function.\n",
    "This function takes `self` as the first argument, which will be a pandas `Series` object."
   ]
  },
  {
   "cell_type": "code",
   "execution_count": 17,
   "metadata": {},
   "outputs": [],
   "source": [
    "from pandas.core.algorithms import value_counts\n",
    "from pandas.core.reshape.concat import concat\n"
   ]
  },
  {
   "cell_type": "code",
   "execution_count": 18,
   "metadata": {},
   "outputs": [],
   "source": [
    "def summarize_category(series):\n",
    "        res_regu = value_counts(series)\n",
    "        res_norm = value_counts(series, normalize=True)\n",
    "        result = concat([res_regu, res_norm], axis=1, keys=['Count', 'Frequency'])\n",
    "        result = result.sort_index()\n",
    "        return result"
   ]
  },
  {
   "cell_type": "markdown",
   "metadata": {},
   "source": [
    "All `Series` objects within this notebook, from this point on, will have the `summarize_category()` *method*."
   ]
  },
  {
   "cell_type": "code",
   "execution_count": 19,
   "metadata": {},
   "outputs": [
    {
     "data": {
      "text/html": [
       "<div>\n",
       "<style scoped>\n",
       "    .dataframe tbody tr th:only-of-type {\n",
       "        vertical-align: middle;\n",
       "    }\n",
       "\n",
       "    .dataframe tbody tr th {\n",
       "        vertical-align: top;\n",
       "    }\n",
       "\n",
       "    .dataframe thead th {\n",
       "        text-align: right;\n",
       "    }\n",
       "</style>\n",
       "<table border=\"1\" class=\"dataframe\">\n",
       "  <thead>\n",
       "    <tr style=\"text-align: right;\">\n",
       "      <th></th>\n",
       "      <th>Count</th>\n",
       "      <th>Frequency</th>\n",
       "    </tr>\n",
       "  </thead>\n",
       "  <tbody>\n",
       "    <tr>\n",
       "      <th>1</th>\n",
       "      <td>323</td>\n",
       "      <td>0.246753</td>\n",
       "    </tr>\n",
       "    <tr>\n",
       "      <th>2</th>\n",
       "      <td>277</td>\n",
       "      <td>0.211612</td>\n",
       "    </tr>\n",
       "    <tr>\n",
       "      <th>3</th>\n",
       "      <td>709</td>\n",
       "      <td>0.541635</td>\n",
       "    </tr>\n",
       "  </tbody>\n",
       "</table>\n",
       "</div>"
      ],
      "text/plain": [
       "   Count  Frequency\n",
       "1    323   0.246753\n",
       "2    277   0.211612\n",
       "3    709   0.541635"
      ]
     },
     "execution_count": 19,
     "metadata": {},
     "output_type": "execute_result"
    }
   ],
   "source": [
    "summarize_category(titanic[\"pclass\"])"
   ]
  },
  {
   "cell_type": "markdown",
   "metadata": {
    "colab_type": "text",
    "id": "Ss-GayPr_Y2j"
   },
   "source": [
    "### Relative Frequency to Probability\n",
    "\n",
    "We've previously mentioned that probability is the calculus of uncertainy.\n",
    "How does uncertainty come into play here?\n",
    "At first glance, it would seem like there is *no* uncertainty here at all because the *Titanic* is not an on-going process.\n",
    "For an *on-going* process, we can use frequencies to quantitfy our uncertainty about what the next observation is going to be.\n",
    "If we have 1309 observations, what do we expect the 1310th one to be?\n",
    "This interpretation--which is the usual one for Data Science--doesn't make sense in the case of the Titanic, it's not always sinking, spitting out new observations. :/\n",
    "\n",
    "Instead, for problems like Titanic, we think of the uncertainty as covering a randomly selected observation.\n",
    "If we just pick a passenger off *Titanic* at random, what kind of passenger might it be?\n",
    "There is a good chance (54%), that it will be a 3rd class passenger.\n",
    "Using our probability notation, we have:\n",
    "\n",
    "$p(pclass:3rd) = 54.2\\%$\n",
    "\n",
    "Similarly,\n",
    "\n",
    "$p(pclass:1st) = 24.7\\%$\n",
    "\n",
    "and\n",
    "\n",
    "$p(pclass:2nd) = 21.2\\%$\n",
    "\n",
    "\n",
    "<div style=\"background: lemonchiffon; margin: 20px; padding: 20px;\">\n",
    "    <strong>Note</strong>\n",
    "<p>It is not the usual practice to restate all the relative frequencies in terms of probabilities.\n",
    "We are doing it in this case study to ground the discussion of probabilities in a real problem with real data.\n",
    "We usually treat such relative frequencies as *implicit* estimates of probability.\n",
    "    With the understanding that uncertainty underlies all such real world processes.</p>\n",
    "    \n",
    "</div>"
   ]
  },
  {
   "cell_type": "markdown",
   "metadata": {},
   "source": [
    "## Sex (`sex`)\n",
    "\n",
    "Sex is a categorical variable.\n",
    "Althogh we know that the variable is categorical, we don't know the encoding.\n",
    "The data dictionary doesn't give us any information on what the values of this variable look like so let's see what the possibilities are:"
   ]
  },
  {
   "cell_type": "code",
   "execution_count": 20,
   "metadata": {
    "colab": {
     "base_uri": "https://localhost:8080/",
     "height": 34
    },
    "colab_type": "code",
    "id": "lna-6z0NmX3O",
    "outputId": "2913e05d-c0ad-4886-8676-2ad236b43252"
   },
   "outputs": [
    {
     "data": {
      "text/plain": [
       "array(['female', 'male'], dtype=object)"
      ]
     },
     "execution_count": 20,
     "metadata": {},
     "output_type": "execute_result"
    }
   ],
   "source": [
    "titanic[\"sex\"].unique()"
   ]
  },
  {
   "cell_type": "markdown",
   "metadata": {
    "colab_type": "text",
    "id": "mh1STu-OmrDj"
   },
   "source": [
    "The values are the string literals \"female\" and \"male\".\n",
    "If we were to be using these values in a model, we might need to convert them them but we shouldn't do so prematurely.\n",
    "Leave such transformations until they're actually needed.\n",
    "\n",
    "The distribution of the sexes is generally 50/50 but it's unlikely that we would have had such a distribution on Titanic.\n",
    "Given the times (1912), it's much more likely that there were more men than woman passengers, especially for 3rd class."
   ]
  },
  {
   "cell_type": "code",
   "execution_count": 21,
   "metadata": {
    "colab": {},
    "colab_type": "code",
    "id": "-gYNi1yoATWg"
   },
   "outputs": [
    {
     "data": {
      "text/html": [
       "<div>\n",
       "<style scoped>\n",
       "    .dataframe tbody tr th:only-of-type {\n",
       "        vertical-align: middle;\n",
       "    }\n",
       "\n",
       "    .dataframe tbody tr th {\n",
       "        vertical-align: top;\n",
       "    }\n",
       "\n",
       "    .dataframe thead th {\n",
       "        text-align: right;\n",
       "    }\n",
       "</style>\n",
       "<table border=\"1\" class=\"dataframe\">\n",
       "  <thead>\n",
       "    <tr style=\"text-align: right;\">\n",
       "      <th></th>\n",
       "      <th>Count</th>\n",
       "      <th>Frequency</th>\n",
       "    </tr>\n",
       "  </thead>\n",
       "  <tbody>\n",
       "    <tr>\n",
       "      <th>female</th>\n",
       "      <td>466</td>\n",
       "      <td>0.355997</td>\n",
       "    </tr>\n",
       "    <tr>\n",
       "      <th>male</th>\n",
       "      <td>843</td>\n",
       "      <td>0.644003</td>\n",
       "    </tr>\n",
       "  </tbody>\n",
       "</table>\n",
       "</div>"
      ],
      "text/plain": [
       "        Count  Frequency\n",
       "female    466   0.355997\n",
       "male      843   0.644003"
      ]
     },
     "execution_count": 21,
     "metadata": {},
     "output_type": "execute_result"
    }
   ],
   "source": [
    "summarize_category(titanic[\"sex\"])"
   ]
  },
  {
   "cell_type": "markdown",
   "metadata": {
    "colab_type": "text",
    "id": "kj44Ye1unBcP"
   },
   "source": [
    "As we hypothesized, there were nearly twice as many men as women passengers.\n",
    "\n",
    "\n",
    "<div style=\"background: lemonchiffon; margin:20px; padding: 20px;\">\n",
    "    <strong>Note</strong>\n",
    "    <p>\n",
    "        You probably don't <em>need</em> to plot a variable with only two possible values.\n",
    "    </p>\n",
    "</div>\n",
    "\n",
    "Following our previous discussion about probabilities, we can interpret these frequencies as the following probabilities:\n",
    "\n",
    "$p(sex:female) = 35.6\\%$\n",
    "\n",
    "and\n",
    "\n",
    "$p(sex:male) = 64.4\\%$"
   ]
  },
  {
   "cell_type": "markdown",
   "metadata": {
    "colab_type": "text",
    "id": "zazasjcrSyav"
   },
   "source": [
    "### Age (`age`)\n",
    "\n",
    "Age is a numeric variable.\n",
    "When we examined the data after import, some variables had missing values.\n",
    "This included `age` which only had 1046 observations out of 1309 with a value for `age`.\n",
    "We expect the range of age to be between 0 and 100 (although the maximum lifespan of humans is generally estimated to be around 120, it is a rare occurence).\n",
    "As for the distribution of age, it's difficult to surmise.\n",
    "What we would like as a baseline is the age distribution of 1912 Europe and the US (one wasn't available).\n",
    "Even with such a baseline, one would hypothesize that Titanic's demographics would generally skew older than the general population in 1912 because of the prevalence of businessmen and immigrants seeking their fortunes in the New World at the time (and it *was* business*men* in 1912 for the most part).\n",
    "\n",
    "Because there are missing values, what base should we use when calculating frequencies?\n",
    "It depends on if we want:\n",
    "\n",
    "$p(age)$\n",
    "\n",
    "or\n",
    "\n",
    "$p(age|known)$\n",
    "\n",
    "In the first case, we make \"unknown\" a possible outcome.\n",
    "In the second case, condition the probability on knowing the age, so that we have, \"what's the probability of a passenger being 2 years old given we know how old they are\".\n",
    "\n",
    "We can go with the first.\n",
    "\n",
    "Because `age` is numeric, it helps to get a sense of the values.\n"
   ]
  },
  {
   "cell_type": "code",
   "execution_count": 22,
   "metadata": {
    "colab": {
     "base_uri": "https://localhost:8080/",
     "height": 297
    },
    "colab_type": "code",
    "id": "o6ndJs7HqaLc",
    "outputId": "cdcc5a08-e154-43dc-841d-fe0e5857da0e"
   },
   "outputs": [
    {
     "data": {
      "text/html": [
       "<div>\n",
       "<style scoped>\n",
       "    .dataframe tbody tr th:only-of-type {\n",
       "        vertical-align: middle;\n",
       "    }\n",
       "\n",
       "    .dataframe tbody tr th {\n",
       "        vertical-align: top;\n",
       "    }\n",
       "\n",
       "    .dataframe thead th {\n",
       "        text-align: right;\n",
       "    }\n",
       "</style>\n",
       "<table border=\"1\" class=\"dataframe\">\n",
       "  <thead>\n",
       "    <tr style=\"text-align: right;\">\n",
       "      <th></th>\n",
       "      <th>age</th>\n",
       "    </tr>\n",
       "  </thead>\n",
       "  <tbody>\n",
       "    <tr>\n",
       "      <th>count</th>\n",
       "      <td>1046.000000</td>\n",
       "    </tr>\n",
       "    <tr>\n",
       "      <th>mean</th>\n",
       "      <td>29.881135</td>\n",
       "    </tr>\n",
       "    <tr>\n",
       "      <th>std</th>\n",
       "      <td>14.413500</td>\n",
       "    </tr>\n",
       "    <tr>\n",
       "      <th>min</th>\n",
       "      <td>0.166700</td>\n",
       "    </tr>\n",
       "    <tr>\n",
       "      <th>25%</th>\n",
       "      <td>21.000000</td>\n",
       "    </tr>\n",
       "    <tr>\n",
       "      <th>50%</th>\n",
       "      <td>28.000000</td>\n",
       "    </tr>\n",
       "    <tr>\n",
       "      <th>75%</th>\n",
       "      <td>39.000000</td>\n",
       "    </tr>\n",
       "    <tr>\n",
       "      <th>max</th>\n",
       "      <td>80.000000</td>\n",
       "    </tr>\n",
       "  </tbody>\n",
       "</table>\n",
       "</div>"
      ],
      "text/plain": [
       "               age\n",
       "count  1046.000000\n",
       "mean     29.881135\n",
       "std      14.413500\n",
       "min       0.166700\n",
       "25%      21.000000\n",
       "50%      28.000000\n",
       "75%      39.000000\n",
       "max      80.000000"
      ]
     },
     "execution_count": 22,
     "metadata": {},
     "output_type": "execute_result"
    }
   ],
   "source": [
    "pd.DataFrame(titanic[\"age\"].describe())"
   ]
  },
  {
   "cell_type": "markdown",
   "metadata": {
    "colab_type": "text",
    "id": "6O9PQwqxqow_"
   },
   "source": [
    "The minimum age is 0.17 years (two months).\n",
    "The maximum age is 80.\n",
    "We don't know if that's the oldest passenger; that's only the oldest passenger for which we have data.\n",
    "The mean age is nearly 30 and the median is 28.\n",
    "Is that young?\n",
    "A quick search did not reveal any average age information for either the United State or the UK during 1912.\n",
    "We do know that the median age of those populations has been increasing over time so it might have been as low as 28 in 1912.\n"
   ]
  },
  {
   "cell_type": "code",
   "execution_count": 23,
   "metadata": {
    "colab": {
     "base_uri": "https://localhost:8080/",
     "height": 404
    },
    "colab_type": "code",
    "id": "Yci4aYpWsVZa",
    "outputId": "365e0bf5-6f27-4fb2-f47f-53724ff11313"
   },
   "outputs": [
    {
     "data": {
      "image/png": "[encoded data removed]",
      "text/plain": [
       "<Figure size 720x432 with 1 Axes>"
      ]
     },
     "metadata": {
      "needs_background": "light"
     },
     "output_type": "display_data"
    }
   ],
   "source": [
    "figure = plt.figure(figsize=(10, 6))\n",
    "\n",
    "axes = figure.add_subplot(1, 1, 1)\n",
    "axes.hist( titanic[ \"age\"], color=\"DimGray\")\n",
    "axes.set_ylabel( \"Count\")\n",
    "axes.set_xlabel( \"X\")\n",
    "axes.set_title(\"Count Histogram of Passenger Age on Titanic; default bins\")\n",
    "\n",
    "\n",
    "plt.show()\n",
    "plt.close()"
   ]
  },
  {
   "cell_type": "markdown",
   "metadata": {
    "colab_type": "text",
    "id": "aq53XBzws89a"
   },
   "source": [
    "There is a definite and unexpected cutoff at around 18 years of age.\n",
    "One explanation is that for those with no age, they were most likely to be children.\n",
    "Another explanation is that there were more single immigrants among the 3rd class passengers than families amongst the 1st class passengers.\n",
    "Because there were more 3rd class passengers, there were more single and therefore adult passengers.\n",
    "There was also the whole \"children should be seen and not heard\" vibe of the era.\n",
    "\n",
    "* We should look to see if the missing ages correlate with any other variable.\n",
    "\n",
    "\n",
    "<div style=\"background: lemonchiffon; margin:20px; padding: 20px;\">\n",
    "    <strong>Note</strong>\n",
    "    <p>\n",
    "It's easy to get side tracked when doing EDA.\n",
    "Generally, as you start doing single variable EDA, and questions arise, make a note of them and return to the important ones after you have finished looking at each variable.</p>\n",
    "</div>\n",
    "\n",
    "Continuous probability distributions are difficult to work with.\n",
    "If this is our *goal*, we can discretize (put values into buckets) our data.\n",
    "In this case, it makes sense to transform `age` into \"buckets\" of ten years called `decades`.\n",
    "In other cases, you might convert age into \"school\", \"working\", and \"retired\" or \"young\", \"adult\", \"senior\" or even \"Gen Z\", \"Millennial\", \"Gen X\", \"Boomer\", \"Silent\"."
   ]
  },
  {
   "cell_type": "code",
   "execution_count": 24,
   "metadata": {
    "colab": {},
    "colab_type": "code",
    "id": "cpg2IQXPvomY"
   },
   "outputs": [],
   "source": [
    "titanic[\"decade\"] = (titanic[\"age\"] // 10) * 10"
   ]
  },
  {
   "cell_type": "code",
   "execution_count": 25,
   "metadata": {
    "colab": {},
    "colab_type": "code",
    "id": "fNQ2Rx47DH_C"
   },
   "outputs": [
    {
     "data": {
      "text/html": [
       "<div>\n",
       "<style scoped>\n",
       "    .dataframe tbody tr th:only-of-type {\n",
       "        vertical-align: middle;\n",
       "    }\n",
       "\n",
       "    .dataframe tbody tr th {\n",
       "        vertical-align: top;\n",
       "    }\n",
       "\n",
       "    .dataframe thead th {\n",
       "        text-align: right;\n",
       "    }\n",
       "</style>\n",
       "<table border=\"1\" class=\"dataframe\">\n",
       "  <thead>\n",
       "    <tr style=\"text-align: right;\">\n",
       "      <th></th>\n",
       "      <th>Count</th>\n",
       "      <th>Frequency</th>\n",
       "    </tr>\n",
       "  </thead>\n",
       "  <tbody>\n",
       "    <tr>\n",
       "      <th>0.0</th>\n",
       "      <td>82</td>\n",
       "      <td>0.078394</td>\n",
       "    </tr>\n",
       "    <tr>\n",
       "      <th>10.0</th>\n",
       "      <td>143</td>\n",
       "      <td>0.136711</td>\n",
       "    </tr>\n",
       "    <tr>\n",
       "      <th>20.0</th>\n",
       "      <td>344</td>\n",
       "      <td>0.328872</td>\n",
       "    </tr>\n",
       "    <tr>\n",
       "      <th>30.0</th>\n",
       "      <td>232</td>\n",
       "      <td>0.221797</td>\n",
       "    </tr>\n",
       "    <tr>\n",
       "      <th>40.0</th>\n",
       "      <td>135</td>\n",
       "      <td>0.129063</td>\n",
       "    </tr>\n",
       "    <tr>\n",
       "      <th>50.0</th>\n",
       "      <td>70</td>\n",
       "      <td>0.066922</td>\n",
       "    </tr>\n",
       "    <tr>\n",
       "      <th>60.0</th>\n",
       "      <td>32</td>\n",
       "      <td>0.030593</td>\n",
       "    </tr>\n",
       "    <tr>\n",
       "      <th>70.0</th>\n",
       "      <td>7</td>\n",
       "      <td>0.006692</td>\n",
       "    </tr>\n",
       "    <tr>\n",
       "      <th>80.0</th>\n",
       "      <td>1</td>\n",
       "      <td>0.000956</td>\n",
       "    </tr>\n",
       "  </tbody>\n",
       "</table>\n",
       "</div>"
      ],
      "text/plain": [
       "      Count  Frequency\n",
       "0.0      82   0.078394\n",
       "10.0    143   0.136711\n",
       "20.0    344   0.328872\n",
       "30.0    232   0.221797\n",
       "40.0    135   0.129063\n",
       "50.0     70   0.066922\n",
       "60.0     32   0.030593\n",
       "70.0      7   0.006692\n",
       "80.0      1   0.000956"
      ]
     },
     "execution_count": 25,
     "metadata": {},
     "output_type": "execute_result"
    }
   ],
   "source": [
    "summarize_category(titanic[\"decade\"])"
   ]
  },
  {
   "cell_type": "markdown",
   "metadata": {
    "colab_type": "text",
    "id": "NtpDjWYtwGtB"
   },
   "source": [
    "As a result, we can calculate the probability of a random passenger being in their 50's as:\n",
    "\n",
    "$p(decade: 50) = 6.7\\%$\n",
    "\n",
    "What's $p(decade: 30)$?"
   ]
  },
  {
   "cell_type": "markdown",
   "metadata": {
    "colab_type": "text",
    "id": "K3LUHd4ZS205"
   },
   "source": [
    "### Siblings or Spouses (`sibsp`)\n",
    "\n",
    "The variable is numeric (integer).\n",
    "The data dictionary says that this value represents the number of siblings or spouses aboard Titanic, which included Brother, Sister, Stepbrother, or Stepsister, Husband or Wife of Passenger Aboard Titanic (Mistresses and Fiances Ignored).\n",
    "At least they had the decency to ignore mistresses, I guess.\n",
    "There are no missing values according to our examination of the data when it was imported.\n",
    "\n",
    "It's difficult to hypothesize in this case, what the distribution will be because spouses and siblings are combined and these are very different things.\n",
    "In general, it's better to work with data that has not been transformed--in the EDA or feature sense--and make your own transformations.\n",
    "Unfortunately, you will often find that others have already done some transformation or aggregation and you'll have to work with it.\n",
    "\n",
    "Based on our look at `age`, we surmise there are a lot of young, single passengers so we expect 0 to be the most common value for `sibsp`.\n",
    "Unfortunately, we don't know if 1 means, a husband/wife or brother/sister.\n",
    "\n",
    "Let's look at the distribution of values:"
   ]
  },
  {
   "cell_type": "code",
   "execution_count": 26,
   "metadata": {
    "colab": {
     "base_uri": "https://localhost:8080/",
     "height": 297
    },
    "colab_type": "code",
    "id": "Nt7qnPuXxB1B",
    "outputId": "c8b7c974-7810-4b20-c00c-b1d422220783"
   },
   "outputs": [
    {
     "data": {
      "text/html": [
       "<div>\n",
       "<style scoped>\n",
       "    .dataframe tbody tr th:only-of-type {\n",
       "        vertical-align: middle;\n",
       "    }\n",
       "\n",
       "    .dataframe tbody tr th {\n",
       "        vertical-align: top;\n",
       "    }\n",
       "\n",
       "    .dataframe thead th {\n",
       "        text-align: right;\n",
       "    }\n",
       "</style>\n",
       "<table border=\"1\" class=\"dataframe\">\n",
       "  <thead>\n",
       "    <tr style=\"text-align: right;\">\n",
       "      <th></th>\n",
       "      <th>sibsp</th>\n",
       "    </tr>\n",
       "  </thead>\n",
       "  <tbody>\n",
       "    <tr>\n",
       "      <th>count</th>\n",
       "      <td>1309.000000</td>\n",
       "    </tr>\n",
       "    <tr>\n",
       "      <th>mean</th>\n",
       "      <td>0.498854</td>\n",
       "    </tr>\n",
       "    <tr>\n",
       "      <th>std</th>\n",
       "      <td>1.041658</td>\n",
       "    </tr>\n",
       "    <tr>\n",
       "      <th>min</th>\n",
       "      <td>0.000000</td>\n",
       "    </tr>\n",
       "    <tr>\n",
       "      <th>25%</th>\n",
       "      <td>0.000000</td>\n",
       "    </tr>\n",
       "    <tr>\n",
       "      <th>50%</th>\n",
       "      <td>0.000000</td>\n",
       "    </tr>\n",
       "    <tr>\n",
       "      <th>75%</th>\n",
       "      <td>1.000000</td>\n",
       "    </tr>\n",
       "    <tr>\n",
       "      <th>max</th>\n",
       "      <td>8.000000</td>\n",
       "    </tr>\n",
       "  </tbody>\n",
       "</table>\n",
       "</div>"
      ],
      "text/plain": [
       "             sibsp\n",
       "count  1309.000000\n",
       "mean      0.498854\n",
       "std       1.041658\n",
       "min       0.000000\n",
       "25%       0.000000\n",
       "50%       0.000000\n",
       "75%       1.000000\n",
       "max       8.000000"
      ]
     },
     "execution_count": 26,
     "metadata": {},
     "output_type": "execute_result"
    }
   ],
   "source": [
    "pd.DataFrame(titanic[\"sibsp\"].describe())"
   ]
  },
  {
   "cell_type": "markdown",
   "metadata": {
    "colab_type": "text",
    "id": "i_FRHAx2yPr2"
   },
   "source": [
    "As we hypothesized, there are a lot of single, no-sibling passengers on Titanic.\n",
    "The minimum value of `sibsp` is 0 (no spouse or sibling) and the maximum is 8 (does that mean 8 siblings or 7 siblings and a spouse?).\n",
    "\n",
    "For count variables with small ranges like `sibsp`, it is often easier to treat the variable as an ordered, categorical variable than as a numeric variable."
   ]
  },
  {
   "cell_type": "code",
   "execution_count": 27,
   "metadata": {
    "colab": {},
    "colab_type": "code",
    "id": "D78g0R51DT4N"
   },
   "outputs": [],
   "source": [
    "sibsp_counts = summarize_category(titanic[\"sibsp\"])"
   ]
  },
  {
   "cell_type": "code",
   "execution_count": 28,
   "metadata": {
    "colab": {
     "base_uri": "https://localhost:8080/",
     "height": 266
    },
    "colab_type": "code",
    "id": "qpEhuJ4vDY4r",
    "outputId": "f640217b-25df-4cda-e612-0643135dbe1b"
   },
   "outputs": [
    {
     "data": {
      "text/html": [
       "<div>\n",
       "<style scoped>\n",
       "    .dataframe tbody tr th:only-of-type {\n",
       "        vertical-align: middle;\n",
       "    }\n",
       "\n",
       "    .dataframe tbody tr th {\n",
       "        vertical-align: top;\n",
       "    }\n",
       "\n",
       "    .dataframe thead th {\n",
       "        text-align: right;\n",
       "    }\n",
       "</style>\n",
       "<table border=\"1\" class=\"dataframe\">\n",
       "  <thead>\n",
       "    <tr style=\"text-align: right;\">\n",
       "      <th></th>\n",
       "      <th>Count</th>\n",
       "      <th>Frequency</th>\n",
       "    </tr>\n",
       "  </thead>\n",
       "  <tbody>\n",
       "    <tr>\n",
       "      <th>0</th>\n",
       "      <td>891</td>\n",
       "      <td>0.680672</td>\n",
       "    </tr>\n",
       "    <tr>\n",
       "      <th>1</th>\n",
       "      <td>319</td>\n",
       "      <td>0.243697</td>\n",
       "    </tr>\n",
       "    <tr>\n",
       "      <th>2</th>\n",
       "      <td>42</td>\n",
       "      <td>0.032086</td>\n",
       "    </tr>\n",
       "    <tr>\n",
       "      <th>3</th>\n",
       "      <td>20</td>\n",
       "      <td>0.015279</td>\n",
       "    </tr>\n",
       "    <tr>\n",
       "      <th>4</th>\n",
       "      <td>22</td>\n",
       "      <td>0.016807</td>\n",
       "    </tr>\n",
       "    <tr>\n",
       "      <th>5</th>\n",
       "      <td>6</td>\n",
       "      <td>0.004584</td>\n",
       "    </tr>\n",
       "    <tr>\n",
       "      <th>8</th>\n",
       "      <td>9</td>\n",
       "      <td>0.006875</td>\n",
       "    </tr>\n",
       "  </tbody>\n",
       "</table>\n",
       "</div>"
      ],
      "text/plain": [
       "   Count  Frequency\n",
       "0    891   0.680672\n",
       "1    319   0.243697\n",
       "2     42   0.032086\n",
       "3     20   0.015279\n",
       "4     22   0.016807\n",
       "5      6   0.004584\n",
       "8      9   0.006875"
      ]
     },
     "execution_count": 28,
     "metadata": {},
     "output_type": "execute_result"
    }
   ],
   "source": [
    "sibsp_counts"
   ]
  },
  {
   "cell_type": "markdown",
   "metadata": {
    "colab_type": "text",
    "id": "MafaN2Vqys2w"
   },
   "source": [
    "A full 68% of the passengers on Titanic were single, with no sibling aboard.\n",
    "This may correlate with and explain our findings with `age` but we'll need to look at the next variable (`parch`) as well.\n",
    "\n",
    "We can give this a probabilistic interpretation as well:\n",
    "\n",
    "$p(sibling-or-spouse: no) = 68.1\\%$\n",
    "\n",
    "Let's get a sense for the true magnitude of the frequencies:"
   ]
  },
  {
   "cell_type": "code",
   "execution_count": 29,
   "metadata": {
    "colab": {
     "base_uri": "https://localhost:8080/",
     "height": 390
    },
    "colab_type": "code",
    "id": "HVxWaeK83O12",
    "outputId": "4e5c2084-9211-4fe9-9b88-e1473285729f"
   },
   "outputs": [
    {
     "data": {
      "image/png": "[encoded data removed]",
      "text/plain": [
       "<Figure size 720x432 with 1 Axes>"
      ]
     },
     "metadata": {
      "needs_background": "light"
     },
     "output_type": "display_data"
    }
   ],
   "source": [
    "x = range(sibsp_counts.shape[0])\n",
    "width = 1/1.5\n",
    "\n",
    "figure = plt.figure(figsize=(10, 6))\n",
    "\n",
    "axes = figure.add_subplot(1, 1, 1)\n",
    "axes.bar(x, sibsp_counts[\"Frequency\"], width, color=\"dimgray\", align=\"center\")\n",
    "axes.set_xticks(x)\n",
    "axes.set_xticklabels([str(i) for i in x])\n",
    "axes.set_title( \"Relative Frequency of Sibling-or-Spouse Count\")\n",
    "axes.set_ylabel( \"Percent\")\n",
    "axes.set_ylim((0,1))\n",
    "axes.xaxis.grid(False)\n",
    "\n",
    "plt.show()\n",
    "plt.close()"
   ]
  },
  {
   "cell_type": "markdown",
   "metadata": {
    "colab_type": "text",
    "id": "fx6YKCKxatWs"
   },
   "source": [
    "The distribution is skewed right and has a very [Power Law](https://en.wikipedia.org/wiki/Power_law) feel to it with 0 being more than twice 1 and 1 more than twice 2, etc.\n",
    "You'll see this pattern a lot in data science.\n",
    "We'll be talking about mathematical distributions and their uses for moeling data later.\n",
    "\n",
    "<div style=\"background: lemonchiffon; margin:20px; padding: 20px;\">\n",
    "    <strong>Note</strong>\n",
    "    <p>We generaly try to stay away from saying things like, \"this <em>is</em> exponentially distributed\" or \"this <em>looks</em> normally distributed\". As we will see later, what that means to us it hat \"the exponential distribution is a good model for this data\" or \"the normal distribution is a good model for this data\". Try to stick with \"non-symmetric\", \"skewed\", when talking about distributions. Still, it's very often a good shorthand...as long as we realize what we mean.</p>\n",
    "</div>\n"
   ]
  },
  {
   "cell_type": "markdown",
   "metadata": {
    "colab_type": "text",
    "id": "46hICXLFS2te"
   },
   "source": [
    "### Parents or Children (`parch`)\n",
    "\n",
    "This variable is similar to the one above in that it encodes information (parents, children, or not) as well as counts.\n",
    "According to the data dictionary this variable is the count of parents or children including Mother or Father, Son, Daughter, Stepson, or Stepdaughter of Passenger Aboard Titanic.\n",
    "Unfortunately, this means that 1 might mean that the passenger has one child or only a mother onboard but we don't know which one.\n",
    "A 2 might mean both parents or 2 children but without knowing who the children actually are, we can't disambiguate (if we knew who the children were, we could see how many siblings they had).\n",
    "\n",
    "If our basic hypothesis is correct, 0 should be the most common value...most of Titanic's passengers were single, without family aboard, on their way to the New World.\n",
    "\n",
    "Let's start with a basic description of the data:"
   ]
  },
  {
   "cell_type": "code",
   "execution_count": 30,
   "metadata": {
    "colab": {
     "base_uri": "https://localhost:8080/",
     "height": 297
    },
    "colab_type": "code",
    "id": "AG8iuX0A2O43",
    "outputId": "b51c68c9-dae0-49a2-91ee-777359396651"
   },
   "outputs": [
    {
     "data": {
      "text/html": [
       "<div>\n",
       "<style scoped>\n",
       "    .dataframe tbody tr th:only-of-type {\n",
       "        vertical-align: middle;\n",
       "    }\n",
       "\n",
       "    .dataframe tbody tr th {\n",
       "        vertical-align: top;\n",
       "    }\n",
       "\n",
       "    .dataframe thead th {\n",
       "        text-align: right;\n",
       "    }\n",
       "</style>\n",
       "<table border=\"1\" class=\"dataframe\">\n",
       "  <thead>\n",
       "    <tr style=\"text-align: right;\">\n",
       "      <th></th>\n",
       "      <th>parch</th>\n",
       "    </tr>\n",
       "  </thead>\n",
       "  <tbody>\n",
       "    <tr>\n",
       "      <th>count</th>\n",
       "      <td>1309.000000</td>\n",
       "    </tr>\n",
       "    <tr>\n",
       "      <th>mean</th>\n",
       "      <td>0.385027</td>\n",
       "    </tr>\n",
       "    <tr>\n",
       "      <th>std</th>\n",
       "      <td>0.865560</td>\n",
       "    </tr>\n",
       "    <tr>\n",
       "      <th>min</th>\n",
       "      <td>0.000000</td>\n",
       "    </tr>\n",
       "    <tr>\n",
       "      <th>25%</th>\n",
       "      <td>0.000000</td>\n",
       "    </tr>\n",
       "    <tr>\n",
       "      <th>50%</th>\n",
       "      <td>0.000000</td>\n",
       "    </tr>\n",
       "    <tr>\n",
       "      <th>75%</th>\n",
       "      <td>0.000000</td>\n",
       "    </tr>\n",
       "    <tr>\n",
       "      <th>max</th>\n",
       "      <td>9.000000</td>\n",
       "    </tr>\n",
       "  </tbody>\n",
       "</table>\n",
       "</div>"
      ],
      "text/plain": [
       "             parch\n",
       "count  1309.000000\n",
       "mean      0.385027\n",
       "std       0.865560\n",
       "min       0.000000\n",
       "25%       0.000000\n",
       "50%       0.000000\n",
       "75%       0.000000\n",
       "max       9.000000"
      ]
     },
     "execution_count": 30,
     "metadata": {},
     "output_type": "execute_result"
    }
   ],
   "source": [
    "pd.DataFrame(titanic[\"parch\"].describe())"
   ]
  },
  {
   "cell_type": "markdown",
   "metadata": {
    "colab_type": "text",
    "id": "3LmBcSka2ZYu"
   },
   "source": [
    "The minimum value is 0 and the maximum is 9.\n",
    "The most liberal interpretation of the maximum is that 10 siblings were traveling together, possibly with a nanny (which weren't counted as relatives).\n",
    "This seems unlikely but we don't have any information to rule it out.\n",
    "\n",
    "Let's look at the distribution of counts:"
   ]
  },
  {
   "cell_type": "code",
   "execution_count": 31,
   "metadata": {
    "colab": {},
    "colab_type": "code",
    "id": "TWdzzwZuDeoz"
   },
   "outputs": [],
   "source": [
    "parch_counts = summarize_category(titanic[\"parch\"])"
   ]
  },
  {
   "cell_type": "code",
   "execution_count": 32,
   "metadata": {
    "colab": {
     "base_uri": "https://localhost:8080/",
     "height": 297
    },
    "colab_type": "code",
    "id": "InR04R4QDlQo",
    "outputId": "3a6937d4-3c06-42d7-8f7f-a30d07e7e39e"
   },
   "outputs": [
    {
     "data": {
      "text/html": [
       "<div>\n",
       "<style scoped>\n",
       "    .dataframe tbody tr th:only-of-type {\n",
       "        vertical-align: middle;\n",
       "    }\n",
       "\n",
       "    .dataframe tbody tr th {\n",
       "        vertical-align: top;\n",
       "    }\n",
       "\n",
       "    .dataframe thead th {\n",
       "        text-align: right;\n",
       "    }\n",
       "</style>\n",
       "<table border=\"1\" class=\"dataframe\">\n",
       "  <thead>\n",
       "    <tr style=\"text-align: right;\">\n",
       "      <th></th>\n",
       "      <th>Count</th>\n",
       "      <th>Frequency</th>\n",
       "    </tr>\n",
       "  </thead>\n",
       "  <tbody>\n",
       "    <tr>\n",
       "      <th>0</th>\n",
       "      <td>1002</td>\n",
       "      <td>0.765470</td>\n",
       "    </tr>\n",
       "    <tr>\n",
       "      <th>1</th>\n",
       "      <td>170</td>\n",
       "      <td>0.129870</td>\n",
       "    </tr>\n",
       "    <tr>\n",
       "      <th>2</th>\n",
       "      <td>113</td>\n",
       "      <td>0.086325</td>\n",
       "    </tr>\n",
       "    <tr>\n",
       "      <th>3</th>\n",
       "      <td>8</td>\n",
       "      <td>0.006112</td>\n",
       "    </tr>\n",
       "    <tr>\n",
       "      <th>4</th>\n",
       "      <td>6</td>\n",
       "      <td>0.004584</td>\n",
       "    </tr>\n",
       "    <tr>\n",
       "      <th>5</th>\n",
       "      <td>6</td>\n",
       "      <td>0.004584</td>\n",
       "    </tr>\n",
       "    <tr>\n",
       "      <th>6</th>\n",
       "      <td>2</td>\n",
       "      <td>0.001528</td>\n",
       "    </tr>\n",
       "    <tr>\n",
       "      <th>9</th>\n",
       "      <td>2</td>\n",
       "      <td>0.001528</td>\n",
       "    </tr>\n",
       "  </tbody>\n",
       "</table>\n",
       "</div>"
      ],
      "text/plain": [
       "   Count  Frequency\n",
       "0   1002   0.765470\n",
       "1    170   0.129870\n",
       "2    113   0.086325\n",
       "3      8   0.006112\n",
       "4      6   0.004584\n",
       "5      6   0.004584\n",
       "6      2   0.001528\n",
       "9      2   0.001528"
      ]
     },
     "execution_count": 32,
     "metadata": {},
     "output_type": "execute_result"
    }
   ],
   "source": [
    "parch_counts"
   ]
  },
  {
   "cell_type": "markdown",
   "metadata": {
    "colab_type": "text",
    "id": "DX4cTXfm260w"
   },
   "source": [
    "As we hypothesized, 0 (no parent or child) is the most common value so it does seem that most passengers are Titanic were single.\n",
    "As with `sibsp`, because this numeric variable has a compact range, we will treat it as an ordered categorical variable for visualization:"
   ]
  },
  {
   "cell_type": "code",
   "execution_count": 33,
   "metadata": {
    "colab": {
     "base_uri": "https://localhost:8080/",
     "height": 390
    },
    "colab_type": "code",
    "id": "t5TJgy4y3MJf",
    "outputId": "389a4508-b795-484d-89ee-fe6cfaea50c1"
   },
   "outputs": [
    {
     "data": {
      "image/png": "[encoded data removed]",
      "text/plain": [
       "<Figure size 720x432 with 1 Axes>"
      ]
     },
     "metadata": {
      "needs_background": "light"
     },
     "output_type": "display_data"
    }
   ],
   "source": [
    "x = range(parch_counts.shape[0])\n",
    "width = 1/1.5\n",
    "\n",
    "figure = plt.figure(figsize=(10, 6))\n",
    "\n",
    "axes = figure.add_subplot(1, 1, 1)\n",
    "axes.bar(x, parch_counts[\"Frequency\"], width, color=\"dimgray\", align=\"center\")\n",
    "axes.set_xticks(x)\n",
    "axes.set_xticklabels([str(i) for i in x])\n",
    "axes.set_title( \"Relative Frequency of Parent-or-Child Count\")\n",
    "axes.set_ylabel( \"Percent\")\n",
    "axes.set_ylim((0,1))\n",
    "axes.xaxis.grid(False)\n",
    "\n",
    "plt.show()\n",
    "plt.close()"
   ]
  },
  {
   "cell_type": "markdown",
   "metadata": {
    "colab_type": "text",
    "id": "fLWjWgs6bIHp"
   },
   "source": [
    "The distribution is again skewed right and we see a Power Law pattern with 0's outnumbering 1's and 1's outnumber 2's, etc."
   ]
  },
  {
   "cell_type": "markdown",
   "metadata": {
    "colab_type": "text",
    "id": "XoTf9sDWS2oI"
   },
   "source": [
    "### Fare (`fare`)\n",
    "Fare is how much each passenger paid for their ticket, in British Pounds.\n",
    "How much did a typical ticket cost in 1912 for a transatlantic crossing?\n",
    "There's a lot of information about translantic fares in this [paper](http://eh.net/eha/wp-content/uploads/2013/11/Weissetal.pdf).\n",
    "In 1880, a single steerage (Titanic did not have \"steerage\") [ticket](https://www.gjenvick.com/Immigration/ImmigrantTickets/1880-05-29-SteamshipTicket-Prepaid-Steerage.html) was \\\\$32.00 from NY/Boston to UK.\n",
    "That's \\\\$848 in current (2020) dollars.\n",
    "This doesn't help us much as the fares are recorded in British Pounds.\n",
    "A little [research](https://steemit.com/money/@lixtiklipbalm/exchange-rate-of-british-pound-to-american-usd-in-1912-to-now) suggests that the exchange rate *aboard the Titanic* was 4.95 USD to 1.00 GBP so that \\\\$32.00 would be 6.46 GBP.\n",
    "We still have to contend with 32 years of inflation and different prices for 1st, 2nd, and 3rd class but it's a start.\n",
    "\n",
    "\n",
    "\n",
    "<div style=\"background: lemonchiffon; margin:20px; padding: 20px;\">\n",
    "    <strong>Note</strong>\n",
    "<p>Normally, we'll have better domain knowledge when working on business problems since we'll have access to proprietary information and stakeholders.\n",
    "Sometimes you'll have to go out and find the domain knowledge yourself.</p>\n",
    "<p>You are expected to go out and learn a bit about the data...even for Labs and Problem Sets.</p>\n",
    "</div>\n",
    "\n",
    "We can use this as a general benchmark.\n",
    "Our examination above indicates we're missing one value.\n",
    "Whatever the *mean* fare, there will probably be a Pareto distribution of fares.\n",
    "Most of the fares will be lower to middle with fewer higher fares.\n",
    "The fares may also be \"bunched\" up a key/important values.\n"
   ]
  },
  {
   "cell_type": "code",
   "execution_count": 34,
   "metadata": {
    "colab": {
     "base_uri": "https://localhost:8080/",
     "height": 297
    },
    "colab_type": "code",
    "id": "vGBxpMiQ_8Pg",
    "outputId": "b4141c60-b22c-4ca9-d82b-ade232da3b2c"
   },
   "outputs": [
    {
     "data": {
      "text/html": [
       "<div>\n",
       "<style scoped>\n",
       "    .dataframe tbody tr th:only-of-type {\n",
       "        vertical-align: middle;\n",
       "    }\n",
       "\n",
       "    .dataframe tbody tr th {\n",
       "        vertical-align: top;\n",
       "    }\n",
       "\n",
       "    .dataframe thead th {\n",
       "        text-align: right;\n",
       "    }\n",
       "</style>\n",
       "<table border=\"1\" class=\"dataframe\">\n",
       "  <thead>\n",
       "    <tr style=\"text-align: right;\">\n",
       "      <th></th>\n",
       "      <th>fare</th>\n",
       "    </tr>\n",
       "  </thead>\n",
       "  <tbody>\n",
       "    <tr>\n",
       "      <th>count</th>\n",
       "      <td>1308.000000</td>\n",
       "    </tr>\n",
       "    <tr>\n",
       "      <th>mean</th>\n",
       "      <td>33.295479</td>\n",
       "    </tr>\n",
       "    <tr>\n",
       "      <th>std</th>\n",
       "      <td>51.758668</td>\n",
       "    </tr>\n",
       "    <tr>\n",
       "      <th>min</th>\n",
       "      <td>0.000000</td>\n",
       "    </tr>\n",
       "    <tr>\n",
       "      <th>25%</th>\n",
       "      <td>7.895800</td>\n",
       "    </tr>\n",
       "    <tr>\n",
       "      <th>50%</th>\n",
       "      <td>14.454200</td>\n",
       "    </tr>\n",
       "    <tr>\n",
       "      <th>75%</th>\n",
       "      <td>31.275000</td>\n",
       "    </tr>\n",
       "    <tr>\n",
       "      <th>max</th>\n",
       "      <td>512.329200</td>\n",
       "    </tr>\n",
       "  </tbody>\n",
       "</table>\n",
       "</div>"
      ],
      "text/plain": [
       "              fare\n",
       "count  1308.000000\n",
       "mean     33.295479\n",
       "std      51.758668\n",
       "min       0.000000\n",
       "25%       7.895800\n",
       "50%      14.454200\n",
       "75%      31.275000\n",
       "max     512.329200"
      ]
     },
     "execution_count": 34,
     "metadata": {},
     "output_type": "execute_result"
    }
   ],
   "source": [
    "pd.DataFrame(titanic[\"fare\"].describe())"
   ]
  },
  {
   "cell_type": "markdown",
   "metadata": {
    "colab_type": "text",
    "id": "GNO8WydHAHIG"
   },
   "source": [
    "The mean fare was 33.30 GBP (actually, Pounds Sterling but that's ok).\n",
    "The minimum fare was 0.0 (kids sail free?) and the maximum fare was 512 GBP.\n",
    "The distribution looks skewed because the mean is above the 3rd Quartile.\n",
    "This isn't unusual for prices."
   ]
  },
  {
   "cell_type": "code",
   "execution_count": 35,
   "metadata": {
    "colab": {
     "base_uri": "https://localhost:8080/",
     "height": 404
    },
    "colab_type": "code",
    "id": "kLX9yaNECSFn",
    "outputId": "a6219bf9-e495-494e-f015-ea3632bc2493"
   },
   "outputs": [
    {
     "data": {
      "image/png": "[encoded data removed]",
      "text/plain": [
       "<Figure size 720x432 with 1 Axes>"
      ]
     },
     "metadata": {
      "needs_background": "light"
     },
     "output_type": "display_data"
    }
   ],
   "source": [
    "figure = plt.figure(figsize=(10, 6))\n",
    "\n",
    "axes = figure.add_subplot(1, 1, 1)\n",
    "axes.hist( titanic[ \"fare\"], color=\"DimGray\")\n",
    "axes.set_ylabel( \"Count\")\n",
    "axes.set_xlabel( \"X\")\n",
    "axes.set_title(\"Count Histogram of Passenger Fares on Titanic; default bins\")\n",
    "\n",
    "\n",
    "plt.show()\n",
    "plt.close()"
   ]
  },
  {
   "cell_type": "markdown",
   "metadata": {
    "colab_type": "text",
    "id": "Bcu7Rqs7C5VG"
   },
   "source": [
    "Most fares were well below 100 GBP.\n",
    "The distribution is extremely skewed, following a very strong Power Law pattern."
   ]
  },
  {
   "cell_type": "markdown",
   "metadata": {
    "colab_type": "text",
    "id": "csBk2xuhS2kP"
   },
   "source": [
    "### Cabin (`cabin`)\n",
    "Cabin could have been an interesting variable because we could have localized the passenger's cabin to a specific deck rather than just class of travel.\n",
    "However, there are only 295 records with values (out of 1309) so the variable isn't useful to us."
   ]
  },
  {
   "cell_type": "markdown",
   "metadata": {
    "colab_type": "text",
    "id": "5YYmsldMS2ed"
   },
   "source": [
    "### Survived (`survived`)\n",
    "\n",
    "The variable is categorical (boolean) and particularly important because whether or not a passenger survived is the main qesution of interest for this data set.\n",
    "The \"key\" variable is often called the *target* variable.\n",
    "We already know that not everyone survived but how much, *exactly*, is \"not everyone\", 50%, 30%, 70%?"
   ]
  },
  {
   "cell_type": "code",
   "execution_count": 36,
   "metadata": {
    "colab": {},
    "colab_type": "code",
    "id": "Bg8DC4Y3EAwa"
   },
   "outputs": [],
   "source": [
    "survived_counts = summarize_category(titanic[\"survived\"])"
   ]
  },
  {
   "cell_type": "code",
   "execution_count": 37,
   "metadata": {
    "colab": {
     "base_uri": "https://localhost:8080/",
     "height": 111
    },
    "colab_type": "code",
    "id": "baa97CnDER3u",
    "outputId": "134ec38b-c5fa-4965-85a1-2f46946e3684"
   },
   "outputs": [
    {
     "data": {
      "text/html": [
       "<div>\n",
       "<style scoped>\n",
       "    .dataframe tbody tr th:only-of-type {\n",
       "        vertical-align: middle;\n",
       "    }\n",
       "\n",
       "    .dataframe tbody tr th {\n",
       "        vertical-align: top;\n",
       "    }\n",
       "\n",
       "    .dataframe thead th {\n",
       "        text-align: right;\n",
       "    }\n",
       "</style>\n",
       "<table border=\"1\" class=\"dataframe\">\n",
       "  <thead>\n",
       "    <tr style=\"text-align: right;\">\n",
       "      <th></th>\n",
       "      <th>Count</th>\n",
       "      <th>Frequency</th>\n",
       "    </tr>\n",
       "  </thead>\n",
       "  <tbody>\n",
       "    <tr>\n",
       "      <th>0</th>\n",
       "      <td>809</td>\n",
       "      <td>0.618029</td>\n",
       "    </tr>\n",
       "    <tr>\n",
       "      <th>1</th>\n",
       "      <td>500</td>\n",
       "      <td>0.381971</td>\n",
       "    </tr>\n",
       "  </tbody>\n",
       "</table>\n",
       "</div>"
      ],
      "text/plain": [
       "   Count  Frequency\n",
       "0    809   0.618029\n",
       "1    500   0.381971"
      ]
     },
     "execution_count": 37,
     "metadata": {},
     "output_type": "execute_result"
    }
   ],
   "source": [
    "survived_counts"
   ]
  },
  {
   "cell_type": "markdown",
   "metadata": {
    "colab_type": "text",
    "id": "_LO8w6geK-Pr"
   },
   "source": [
    "Based on this data, 500 (38%) of the passengers survived.\n",
    "\n",
    "Interpreting this as a probability, we have:\n",
    "\n",
    "$p(survived: true) = 38.2\\%$\n",
    "\n",
    "Basically, if you pick a passenger at random on December 13, there is a 38% probability that the passenger survives the sinking the next day.\n",
    "Unfortunately, there is a 62% probability that they do not:\n",
    "\n",
    "$p(survived: false) = 61.8\\%$\n",
    "\n",
    "When we get to conditional probability later, we'll use this as our baseline or \"null\" model.\n",
    "Basically, any person we \"grab\" at random, we would assign a 38% probabilty of survival.\n",
    "We'd like to do better."
   ]
  },
  {
   "cell_type": "markdown",
   "metadata": {
    "colab_type": "text",
    "id": "wBJ5SO3lBR0K"
   },
   "source": [
    "## Urns and Titanic\n",
    "\n",
    "We keep saying \"if you pick a passenger at random...\".\n",
    "This comes from a very traditional way of explaining probability, which uses balls of different colors in an urn.\n",
    "The probability of some event (a ball of certain color) is the probability of a drawing that ball from the urn (usually with replacement...this maintains the \"iid\" assumption, otherwise, we don't have *identical* probabilities for picking the first red ball and picking the second red ball).\n",
    "In this case, \"a ball of a certain color\" might be a survivor, a male survivor, or even a female 3rd class death.\n",
    "However, it's not immediately clear how Titanic fits this traditional probability narrative because, well, it already sank and we have all the data.\n",
    "We don't need to predict the next survivor we're going to see.\n",
    "\n",
    "However, it's still useful to use this kind of artificial language to think about data, even from a one-time process in the past.\n",
    "You can think of a probability distribution as a predictive model along lines of the what we did in the last example.\n",
    "\"If you pick a passenger at random on December 13, what's the probability that they were female?\" \"What's the probability that they survive the sinking?\" What do you believe is true and to what extent?\n",
    "\n",
    "There's no doubt, however, that it's much easier to think about these things in the context of current, on-going processes: \"What's the probability that someone visiting my website for the 5th time, who left something in their shopping cart, will finally make a purchase?\"\n",
    "Don't just dismiss the example as inapplicable to the real world today."
   ]
  },
  {
   "cell_type": "markdown",
   "metadata": {
    "colab_type": "text",
    "id": "RYi34ca5q7pu"
   },
   "source": [
    "## Marginal Probabilities\n",
    "\n",
    "\n",
    "According to E. T. Jaynes, *Probability Theory: The Logic of Science*, there is no such thing as a (pure?) marginal probability: $P(x)$, there are only conditional probabilities: $P(x|*)$.\n",
    "That is, a probability is always conditioned on something like \"the world, the experiment, and the experimental design\" and you are just marginalizing those out.\n",
    "Previously, we talked about the probability of survival as `P(survive) = {yes: .38, no: 0.62}`.\n",
    "For Jaynes, this is really `P(survive|*)` where `*` is \"the world, the experiment, and the experiment design\".\n",
    "We've seen this before.\n",
    "The probability of a fair coin coming up either heads or tails is 50/50.\n",
    "We can write this as `P(heads)` where `heads = {yes: 0.5, no: 0.5}`.\n",
    "But for Jaynes, this is `P(heads|*)` where \"*\" includes flipping the coin on Earth (and not Mars), the laws of physics, initial conditions, etc.\n",
    "The `*` is essentialy our ignorance...and we're always ignorant of something.\n",
    "We leave the `*` implied.\n",
    "\n",
    "However, this does mean that all the probabilities we've looked at have been conditional probabilities with `*` implied.\n",
    "Let's start looking at some *explicit* joint and conditional probabilities."
   ]
  },
  {
   "cell_type": "markdown",
   "metadata": {
    "colab_type": "text",
    "id": "_7Dn80rRs70i"
   },
   "source": [
    "## Joint and Conditional Probability\n",
    "\n",
    "In a previous section, we looked at single variable EDA and generated marginal (wink, wink) probabilities.\n",
    "Now we want to start looking at joint and conditional probabilities.\n",
    "What is the probability that someone is male and a 3rd class passenger?\n",
    "What is the probability that someone is female and a 1st class passenger?\n",
    "With eight (8) variables, that's 28 combinations of just *two* variables and, well, way beyond our patience to look at.\n",
    "We will stick to some interesting ones for now.\n",
    "When you \"do\" EDA, pairwise analysis is guided by your question or problem.\n",
    "\n"
   ]
  },
  {
   "cell_type": "markdown",
   "metadata": {
    "colab_type": "text",
    "id": "0kFDqLeQvNn4"
   },
   "source": [
    "### Survival and Sex\n",
    "\n",
    "Because of the differing interpretations of \"women and children first\", survival and sex have always been an interesting pair of variables to look at in the Titanic data set.\n",
    "We can calculate: `P(survive, sex)` from the data:"
   ]
  },
  {
   "cell_type": "code",
   "execution_count": 38,
   "metadata": {
    "colab": {},
    "colab_type": "code",
    "id": "M5wTjK0VwJst"
   },
   "outputs": [
    {
     "data": {
      "text/html": [
       "<div>\n",
       "<style scoped>\n",
       "    .dataframe tbody tr th:only-of-type {\n",
       "        vertical-align: middle;\n",
       "    }\n",
       "\n",
       "    .dataframe tbody tr th {\n",
       "        vertical-align: top;\n",
       "    }\n",
       "\n",
       "    .dataframe thead th {\n",
       "        text-align: right;\n",
       "    }\n",
       "</style>\n",
       "<table border=\"1\" class=\"dataframe\">\n",
       "  <thead>\n",
       "    <tr style=\"text-align: right;\">\n",
       "      <th>sex</th>\n",
       "      <th>female</th>\n",
       "      <th>male</th>\n",
       "    </tr>\n",
       "    <tr>\n",
       "      <th>survived</th>\n",
       "      <th></th>\n",
       "      <th></th>\n",
       "    </tr>\n",
       "  </thead>\n",
       "  <tbody>\n",
       "    <tr>\n",
       "      <th>0</th>\n",
       "      <td>0.097021</td>\n",
       "      <td>0.521008</td>\n",
       "    </tr>\n",
       "    <tr>\n",
       "      <th>1</th>\n",
       "      <td>0.258976</td>\n",
       "      <td>0.122995</td>\n",
       "    </tr>\n",
       "  </tbody>\n",
       "</table>\n",
       "</div>"
      ],
      "text/plain": [
       "sex         female      male\n",
       "survived                    \n",
       "0         0.097021  0.521008\n",
       "1         0.258976  0.122995"
      ]
     },
     "execution_count": 38,
     "metadata": {},
     "output_type": "execute_result"
    }
   ],
   "source": [
    "pd.crosstab(titanic[\"survived\"], titanic[\"sex\"], normalize='all')"
   ]
  },
  {
   "cell_type": "markdown",
   "metadata": {
    "colab_type": "text",
    "id": "O8jXCwtHxFJX"
   },
   "source": [
    "The output above shows all possible events in the space, that is, the combinations of survival (yes or no) and sex (male or female).\n",
    "Pandas will handle that.\n",
    "\n",
    "\n",
    "<div style=\"background: lemonchiffon; margin:20px; padding: 20px;\">\n",
    "    <strong>Note</strong>\n",
    "    <p>The documentation for the <a href=\"https://pandas.pydata.org/pandas-docs/stable/reference/api/pandas.crosstab.html\">crosstab</a> function.\n",
    "</div>\n",
    "\n",
    "When you run these kinds of queries on a database, you have to be careful that all the events are present in the data.\n",
    "It might be possible that some of the individual outcomes are not present and you have to think about what to do because of the missing data.\n",
    "Usually, you will just have to ignore it and, essentially, normalize over it.\n",
    "\n",
    "For example, if we'd done this directly in a database (as you often do), we might have taken this approach (with a dataframe standing in for a database):"
   ]
  },
  {
   "cell_type": "code",
   "execution_count": 39,
   "metadata": {},
   "outputs": [],
   "source": [
    "query = f\"\"\"\n",
    "SELECT survived, sex, count(*) AS cnt, count(*)/{float(passengers)} AS pct \n",
    "FROM titanic \n",
    "GROUP BY survived, sex \n",
    "ORDER BY survived, sex\n",
    "\"\"\"\n",
    "survived_and_sex_counts = pysqldf(query)"
   ]
  },
  {
   "cell_type": "code",
   "execution_count": 40,
   "metadata": {},
   "outputs": [
    {
     "data": {
      "text/html": [
       "<div>\n",
       "<style scoped>\n",
       "    .dataframe tbody tr th:only-of-type {\n",
       "        vertical-align: middle;\n",
       "    }\n",
       "\n",
       "    .dataframe tbody tr th {\n",
       "        vertical-align: top;\n",
       "    }\n",
       "\n",
       "    .dataframe thead th {\n",
       "        text-align: right;\n",
       "    }\n",
       "</style>\n",
       "<table border=\"1\" class=\"dataframe\">\n",
       "  <thead>\n",
       "    <tr style=\"text-align: right;\">\n",
       "      <th></th>\n",
       "      <th>survived</th>\n",
       "      <th>sex</th>\n",
       "      <th>cnt</th>\n",
       "      <th>pct</th>\n",
       "    </tr>\n",
       "  </thead>\n",
       "  <tbody>\n",
       "    <tr>\n",
       "      <th>0</th>\n",
       "      <td>0</td>\n",
       "      <td>female</td>\n",
       "      <td>127</td>\n",
       "      <td>0.097021</td>\n",
       "    </tr>\n",
       "    <tr>\n",
       "      <th>1</th>\n",
       "      <td>0</td>\n",
       "      <td>male</td>\n",
       "      <td>682</td>\n",
       "      <td>0.521008</td>\n",
       "    </tr>\n",
       "    <tr>\n",
       "      <th>2</th>\n",
       "      <td>1</td>\n",
       "      <td>female</td>\n",
       "      <td>339</td>\n",
       "      <td>0.258976</td>\n",
       "    </tr>\n",
       "    <tr>\n",
       "      <th>3</th>\n",
       "      <td>1</td>\n",
       "      <td>male</td>\n",
       "      <td>161</td>\n",
       "      <td>0.122995</td>\n",
       "    </tr>\n",
       "  </tbody>\n",
       "</table>\n",
       "</div>"
      ],
      "text/plain": [
       "   survived     sex  cnt       pct\n",
       "0         0  female  127  0.097021\n",
       "1         0    male  682  0.521008\n",
       "2         1  female  339  0.258976\n",
       "3         1    male  161  0.122995"
      ]
     },
     "execution_count": 40,
     "metadata": {},
     "output_type": "execute_result"
    }
   ],
   "source": [
    "survived_and_sex_counts"
   ]
  },
  {
   "cell_type": "markdown",
   "metadata": {
    "colab_type": "text",
    "id": "O8jXCwtHxFJX"
   },
   "source": [
    "The output above is interesting because it implies that any such SELECT/GROUP BY query of this sort is, even implicitly, a probability distribution over those joint events (although expressed as absolute counts...it's certainly *proportional* to some joint probability distribution).\n",
    "This can be a helpful way of looking at your data and thinking about the process that generates (or generated) it.\n",
    "\n",
    "What does the output say?\n",
    "It says, for example, the probability of choosing a passenger who survived and was male is 12.3%.\n",
    "The probability of choosing a passenger who was female and did not survive was 9.7%.\n",
    "\n",
    "This isn't normally what we want, however.\n",
    "We generally are looking for a predictive model: we want to predict survival based on sex.\n",
    "\"Based on sex\" is the same as \"given sex\" so by a happy coincidence, `P(survival|sex)` can be a predictive model.\n",
    "We can think about this coincidence in two ways:\n",
    "\n",
    "1. conditional probability is a simple predictive model\n",
    "2. conditional probability is always the implicit predictive model, even if we use a different form of model.\n",
    "\n",
    "We're side-stepping the definition of a model here but we can think of a \"model\" as any simplifying representation of data that helps us summarize, explain, or predict.\n",
    "\n",
    "<div style=\"background: palegreen; margin:20px; padding: 20px;\">\n",
    "    <strong>Application</strong>\n",
    "    <p>\n",
    "Think of a problem at work where you need to explain or predict. Express it as a conditional probability. How many variables are there? How large would the conditional probability table be (assuming you discretized numeric variables into a reasonable number of buckets)?</p>\n",
    "</div>"
   ]
  },
  {
   "cell_type": "markdown",
   "metadata": {
    "colab_type": "text",
    "id": "QMAvYFZHz6a1"
   },
   "source": [
    "It's a bit more difficult to do *conditional* probability in a SQL query so let's return to our Pandas methods:"
   ]
  },
  {
   "cell_type": "code",
   "execution_count": 41,
   "metadata": {
    "colab": {
     "base_uri": "https://localhost:8080/",
     "height": 34
    },
    "colab_type": "code",
    "id": "oL85Xr2J3fr6",
    "outputId": "48f04822-c21a-4374-c90f-10050efb4538"
   },
   "outputs": [
    {
     "data": {
      "text/html": [
       "<div>\n",
       "<style scoped>\n",
       "    .dataframe tbody tr th:only-of-type {\n",
       "        vertical-align: middle;\n",
       "    }\n",
       "\n",
       "    .dataframe tbody tr th {\n",
       "        vertical-align: top;\n",
       "    }\n",
       "\n",
       "    .dataframe thead th {\n",
       "        text-align: right;\n",
       "    }\n",
       "</style>\n",
       "<table border=\"1\" class=\"dataframe\">\n",
       "  <thead>\n",
       "    <tr style=\"text-align: right;\">\n",
       "      <th>survived</th>\n",
       "      <th>0</th>\n",
       "      <th>1</th>\n",
       "    </tr>\n",
       "    <tr>\n",
       "      <th>sex</th>\n",
       "      <th></th>\n",
       "      <th></th>\n",
       "    </tr>\n",
       "  </thead>\n",
       "  <tbody>\n",
       "    <tr>\n",
       "      <th>female</th>\n",
       "      <td>0.272532</td>\n",
       "      <td>0.727468</td>\n",
       "    </tr>\n",
       "    <tr>\n",
       "      <th>male</th>\n",
       "      <td>0.809015</td>\n",
       "      <td>0.190985</td>\n",
       "    </tr>\n",
       "  </tbody>\n",
       "</table>\n",
       "</div>"
      ],
      "text/plain": [
       "survived         0         1\n",
       "sex                         \n",
       "female    0.272532  0.727468\n",
       "male      0.809015  0.190985"
      ]
     },
     "execution_count": 41,
     "metadata": {},
     "output_type": "execute_result"
    }
   ],
   "source": [
    "pd.crosstab(titanic[\"sex\"], titanic[\"survived\"], normalize='index')"
   ]
  },
  {
   "cell_type": "markdown",
   "metadata": {
    "colab_type": "text",
    "id": "fzgh_jBh4jc_"
   },
   "source": [
    "Using probability notation, we have:\n",
    "\n",
    "$P(survived=yes|female=yes) = 72.7\\%$\n",
    "\n",
    "$P(survived=no|female=yes) = 27.3\\%$\n",
    "\n",
    "\n",
    "\n",
    "<div style=\"background: lemonchiffon; margin:20px; padding: 20px;\">\n",
    "    <strong>Note</strong>\n",
    "    <p>The <em>preference</em> is to have *rows* for the \"given\" variable or variables so that you can read across \"given sex is female, the probability of not surviving is\".\n",
    "    The rows will thus sum to 1.</p>\n",
    "\n",
    "<p>However, if one variable has a lot more possible values than the other, you may want to switch up this convention so that the table fits on the screen.</p>\n",
    "</div>\n",
    "\n",
    "We can also create a model (conditional probability distribution) for the opposite: `P(sex|survived)`, if someone survived, what is the probability that they're male or female?"
   ]
  },
  {
   "cell_type": "code",
   "execution_count": 42,
   "metadata": {
    "colab": {},
    "colab_type": "code",
    "id": "ACLFfO3-5sPd"
   },
   "outputs": [
    {
     "data": {
      "text/html": [
       "<div>\n",
       "<style scoped>\n",
       "    .dataframe tbody tr th:only-of-type {\n",
       "        vertical-align: middle;\n",
       "    }\n",
       "\n",
       "    .dataframe tbody tr th {\n",
       "        vertical-align: top;\n",
       "    }\n",
       "\n",
       "    .dataframe thead th {\n",
       "        text-align: right;\n",
       "    }\n",
       "</style>\n",
       "<table border=\"1\" class=\"dataframe\">\n",
       "  <thead>\n",
       "    <tr style=\"text-align: right;\">\n",
       "      <th>sex</th>\n",
       "      <th>female</th>\n",
       "      <th>male</th>\n",
       "    </tr>\n",
       "    <tr>\n",
       "      <th>survived</th>\n",
       "      <th></th>\n",
       "      <th></th>\n",
       "    </tr>\n",
       "  </thead>\n",
       "  <tbody>\n",
       "    <tr>\n",
       "      <th>0</th>\n",
       "      <td>0.156984</td>\n",
       "      <td>0.843016</td>\n",
       "    </tr>\n",
       "    <tr>\n",
       "      <th>1</th>\n",
       "      <td>0.678000</td>\n",
       "      <td>0.322000</td>\n",
       "    </tr>\n",
       "  </tbody>\n",
       "</table>\n",
       "</div>"
      ],
      "text/plain": [
       "sex         female      male\n",
       "survived                    \n",
       "0         0.156984  0.843016\n",
       "1         0.678000  0.322000"
      ]
     },
     "execution_count": 42,
     "metadata": {},
     "output_type": "execute_result"
    }
   ],
   "source": [
    "pd.crosstab(titanic[\"survived\"], titanic[\"sex\"], normalize='index')"
   ]
  },
  {
   "cell_type": "markdown",
   "metadata": {
    "colab_type": "text",
    "id": "dTnACDCCEkjV"
   },
   "source": [
    "It says, given the survival status, what is the probability that the passenger was male or female:\n",
    "\n",
    "$P(sex=male|survived=no) = 84.3\\%$\n",
    "\n",
    "$P(sex=female|survived=no) = 15.7\\%$\n",
    "\n",
    "$P(sex=male|survived=yes) = 32.2\\%$\n",
    "\n",
    "$P(sex=female|survived=yes) = 67.8\\%$\n",
    "\n",
    "Here is a stark reminder that P(A|B) doesn't always equal (and doesn't *usually* equal P(B|A).\n",
    "This is also the place where you want to start to check the predictive power of your model.\n",
    "First, we note that the probability of:"
   ]
  },
  {
   "cell_type": "code",
   "execution_count": 43,
   "metadata": {
    "colab": {
     "base_uri": "https://localhost:8080/",
     "height": 111
    },
    "colab_type": "code",
    "id": "waoRb605GBuT",
    "outputId": "1a3ed5e5-9ddf-4790-9c75-189cc0c932d2"
   },
   "outputs": [
    {
     "data": {
      "text/html": [
       "<div>\n",
       "<style scoped>\n",
       "    .dataframe tbody tr th:only-of-type {\n",
       "        vertical-align: middle;\n",
       "    }\n",
       "\n",
       "    .dataframe tbody tr th {\n",
       "        vertical-align: top;\n",
       "    }\n",
       "\n",
       "    .dataframe thead th {\n",
       "        text-align: right;\n",
       "    }\n",
       "</style>\n",
       "<table border=\"1\" class=\"dataframe\">\n",
       "  <thead>\n",
       "    <tr style=\"text-align: right;\">\n",
       "      <th></th>\n",
       "      <th>Count</th>\n",
       "      <th>Frequency</th>\n",
       "    </tr>\n",
       "  </thead>\n",
       "  <tbody>\n",
       "    <tr>\n",
       "      <th>female</th>\n",
       "      <td>466</td>\n",
       "      <td>0.355997</td>\n",
       "    </tr>\n",
       "    <tr>\n",
       "      <th>male</th>\n",
       "      <td>843</td>\n",
       "      <td>0.644003</td>\n",
       "    </tr>\n",
       "  </tbody>\n",
       "</table>\n",
       "</div>"
      ],
      "text/plain": [
       "        Count  Frequency\n",
       "female    466   0.355997\n",
       "male      843   0.644003"
      ]
     },
     "execution_count": 43,
     "metadata": {},
     "output_type": "execute_result"
    }
   ],
   "source": [
    "summarize_category(titanic[\"sex\"])"
   ]
  },
  {
   "cell_type": "markdown",
   "metadata": {
    "colab_type": "text",
    "id": "cTLS1-m9GEgD"
   },
   "source": [
    " picking a male amongst the passengers was 64.4% but the probability of picking a male amongst the *survivors* was only 32.2%.\n",
    "Given a male passenger, there was only a 19% chance they survived.\n",
    "\n",
    "Let's look at the class of the passenger next."
   ]
  },
  {
   "cell_type": "markdown",
   "metadata": {
    "colab_type": "text",
    "id": "LFJR4FK82dDD"
   },
   "source": [
    "### Survival and Passenger Class\n",
    "\n",
    "We have a general sense here that first class passengers were more likely to to have survived than third class passengers.\n",
    "We might base our beliefs on some ideas about economic advantage (maybe people thought first class passengers were more valuable or they thought they were more valuable).\n",
    "However, it's much more likely that first class passengers survived because of the hour of the accident (11pm local time) and the location of the first class passengers on the ship.\n",
    "\n",
    "One thing that happens a lot as you do analysis it that begin to accummulate a set of analyses that you know you want to do.\n",
    "We are probably going to want both `P(survival|pclass)` and `P(pclass|survival)`.\n",
    "In any case, let's see what the data shows.\n",
    "Here's a refresher on the absolute counts and marginal probability `P(pclass)`:\n"
   ]
  },
  {
   "cell_type": "code",
   "execution_count": 44,
   "metadata": {
    "colab": {
     "base_uri": "https://localhost:8080/",
     "height": 142
    },
    "colab_type": "code",
    "id": "fc3_g9_E3gY2",
    "outputId": "c33013a7-c0d1-4d2d-c0ba-32f7b5232db8"
   },
   "outputs": [
    {
     "data": {
      "text/html": [
       "<div>\n",
       "<style scoped>\n",
       "    .dataframe tbody tr th:only-of-type {\n",
       "        vertical-align: middle;\n",
       "    }\n",
       "\n",
       "    .dataframe tbody tr th {\n",
       "        vertical-align: top;\n",
       "    }\n",
       "\n",
       "    .dataframe thead th {\n",
       "        text-align: right;\n",
       "    }\n",
       "</style>\n",
       "<table border=\"1\" class=\"dataframe\">\n",
       "  <thead>\n",
       "    <tr style=\"text-align: right;\">\n",
       "      <th></th>\n",
       "      <th>Count</th>\n",
       "      <th>Frequency</th>\n",
       "    </tr>\n",
       "  </thead>\n",
       "  <tbody>\n",
       "    <tr>\n",
       "      <th>1</th>\n",
       "      <td>323</td>\n",
       "      <td>0.246753</td>\n",
       "    </tr>\n",
       "    <tr>\n",
       "      <th>2</th>\n",
       "      <td>277</td>\n",
       "      <td>0.211612</td>\n",
       "    </tr>\n",
       "    <tr>\n",
       "      <th>3</th>\n",
       "      <td>709</td>\n",
       "      <td>0.541635</td>\n",
       "    </tr>\n",
       "  </tbody>\n",
       "</table>\n",
       "</div>"
      ],
      "text/plain": [
       "   Count  Frequency\n",
       "1    323   0.246753\n",
       "2    277   0.211612\n",
       "3    709   0.541635"
      ]
     },
     "execution_count": 44,
     "metadata": {},
     "output_type": "execute_result"
    }
   ],
   "source": [
    "summarize_category(titanic[\"pclass\"])"
   ]
  },
  {
   "cell_type": "markdown",
   "metadata": {
    "colab_type": "text",
    "id": "AGrho2kx6_-Q"
   },
   "source": [
    "And here's the joint probability `P(survived, pclass)`:"
   ]
  },
  {
   "cell_type": "code",
   "execution_count": 45,
   "metadata": {
    "colab": {
     "base_uri": "https://localhost:8080/",
     "height": 235
    },
    "colab_type": "code",
    "id": "VTcuP1OV6qbA",
    "outputId": "fb8a3b9d-09fe-4d95-dff6-afa43b6e9d86"
   },
   "outputs": [
    {
     "data": {
      "text/html": [
       "<div>\n",
       "<style scoped>\n",
       "    .dataframe tbody tr th:only-of-type {\n",
       "        vertical-align: middle;\n",
       "    }\n",
       "\n",
       "    .dataframe tbody tr th {\n",
       "        vertical-align: top;\n",
       "    }\n",
       "\n",
       "    .dataframe thead th {\n",
       "        text-align: right;\n",
       "    }\n",
       "</style>\n",
       "<table border=\"1\" class=\"dataframe\">\n",
       "  <thead>\n",
       "    <tr style=\"text-align: right;\">\n",
       "      <th>survived</th>\n",
       "      <th>0</th>\n",
       "      <th>1</th>\n",
       "    </tr>\n",
       "    <tr>\n",
       "      <th>pclass</th>\n",
       "      <th></th>\n",
       "      <th></th>\n",
       "    </tr>\n",
       "  </thead>\n",
       "  <tbody>\n",
       "    <tr>\n",
       "      <th>1</th>\n",
       "      <td>0.093965</td>\n",
       "      <td>0.152788</td>\n",
       "    </tr>\n",
       "    <tr>\n",
       "      <th>2</th>\n",
       "      <td>0.120703</td>\n",
       "      <td>0.090909</td>\n",
       "    </tr>\n",
       "    <tr>\n",
       "      <th>3</th>\n",
       "      <td>0.403361</td>\n",
       "      <td>0.138273</td>\n",
       "    </tr>\n",
       "  </tbody>\n",
       "</table>\n",
       "</div>"
      ],
      "text/plain": [
       "survived         0         1\n",
       "pclass                      \n",
       "1         0.093965  0.152788\n",
       "2         0.120703  0.090909\n",
       "3         0.403361  0.138273"
      ]
     },
     "execution_count": 45,
     "metadata": {},
     "output_type": "execute_result"
    }
   ],
   "source": [
    "pd.crosstab(titanic[\"pclass\"], titanic[\"survived\"], normalize=\"all\")"
   ]
  },
  {
   "cell_type": "markdown",
   "metadata": {
    "colab_type": "text",
    "id": "1pjVoxG18FXY"
   },
   "source": [
    "Looking at the joint probabilities, it's tempting to conclude that passenger class did not make a difference for survival:\n",
    "\n",
    "$P(survived=1, pclass=1) = 15.3\\%$\n",
    "\n",
    "$P(survived=1, pclass=3) = 13.8\\%$\n",
    "\n",
    "Let's move right to the conditional probabilities to see if this is true (or how it might be true or false)...\n"
   ]
  },
  {
   "cell_type": "code",
   "execution_count": 46,
   "metadata": {
    "colab": {},
    "colab_type": "code",
    "id": "Exe7Uz9T6E_g"
   },
   "outputs": [
    {
     "data": {
      "text/html": [
       "<div>\n",
       "<style scoped>\n",
       "    .dataframe tbody tr th:only-of-type {\n",
       "        vertical-align: middle;\n",
       "    }\n",
       "\n",
       "    .dataframe tbody tr th {\n",
       "        vertical-align: top;\n",
       "    }\n",
       "\n",
       "    .dataframe thead th {\n",
       "        text-align: right;\n",
       "    }\n",
       "</style>\n",
       "<table border=\"1\" class=\"dataframe\">\n",
       "  <thead>\n",
       "    <tr style=\"text-align: right;\">\n",
       "      <th>survived</th>\n",
       "      <th>0</th>\n",
       "      <th>1</th>\n",
       "    </tr>\n",
       "    <tr>\n",
       "      <th>pclass</th>\n",
       "      <th></th>\n",
       "      <th></th>\n",
       "    </tr>\n",
       "  </thead>\n",
       "  <tbody>\n",
       "    <tr>\n",
       "      <th>1</th>\n",
       "      <td>0.380805</td>\n",
       "      <td>0.619195</td>\n",
       "    </tr>\n",
       "    <tr>\n",
       "      <th>2</th>\n",
       "      <td>0.570397</td>\n",
       "      <td>0.429603</td>\n",
       "    </tr>\n",
       "    <tr>\n",
       "      <th>3</th>\n",
       "      <td>0.744711</td>\n",
       "      <td>0.255289</td>\n",
       "    </tr>\n",
       "  </tbody>\n",
       "</table>\n",
       "</div>"
      ],
      "text/plain": [
       "survived         0         1\n",
       "pclass                      \n",
       "1         0.380805  0.619195\n",
       "2         0.570397  0.429603\n",
       "3         0.744711  0.255289"
      ]
     },
     "execution_count": 46,
     "metadata": {},
     "output_type": "execute_result"
    }
   ],
   "source": [
    "pd.crosstab(titanic[\"pclass\"], titanic[\"survived\"], normalize=\"index\")"
   ]
  },
  {
   "cell_type": "markdown",
   "metadata": {
    "colab_type": "text",
    "id": "IgmMMJ0wBYvZ"
   },
   "source": [
    "So,\n",
    "\n",
    "$P(survived=1|pclass=1) = 61.9\\%$\n",
    "\n",
    "$P(survived=1|pclass=2) = 42.6\\%$\n",
    "\n",
    "$P(survived=1|pclass=3) = 25.5\\%$\n",
    "\n",
    "The difference is quite a bit larger than the joint probability would suggest.\n",
    "First class passengers were more than twice as likely to be rescued (61.9/25.5 = 2.5) and second class passengers were slightly less than twice as likely to be rescued (42.6/25.5 = 1.7).\n",
    "\n",
    "\n",
    "<div style=\"background: palegreen; margin:20px; padding: 20px;\">\n",
    "    <strong>Review</strong>\n",
    "    <p>   \n",
    "Can you think of a different variable that might explain this pattern based on the analysis we conducted earlier?\n",
    "(We might call this an \"interaction\" between that variable and pclass that is causing the results to be other than what we expect).\n",
    "What additional characteristic might shed light on these disparities?</p>\n",
    "    <p>This is the perfect kind of thing to note here and look at later, when you move on to pairwise comparisons</p>\n",
    "</div>\n",
    "\n",
    "Let's look at it the other way, what is the probability of passenger class, given that the passenger survived?"
   ]
  },
  {
   "cell_type": "code",
   "execution_count": 47,
   "metadata": {
    "colab": {
     "base_uri": "https://localhost:8080/",
     "height": 142
    },
    "colab_type": "code",
    "id": "vdRu2fGoCqmS",
    "outputId": "38cbe5df-baeb-4111-9a2c-5a8d10e411ed"
   },
   "outputs": [
    {
     "data": {
      "text/html": [
       "<div>\n",
       "<style scoped>\n",
       "    .dataframe tbody tr th:only-of-type {\n",
       "        vertical-align: middle;\n",
       "    }\n",
       "\n",
       "    .dataframe tbody tr th {\n",
       "        vertical-align: top;\n",
       "    }\n",
       "\n",
       "    .dataframe thead th {\n",
       "        text-align: right;\n",
       "    }\n",
       "</style>\n",
       "<table border=\"1\" class=\"dataframe\">\n",
       "  <thead>\n",
       "    <tr style=\"text-align: right;\">\n",
       "      <th>pclass</th>\n",
       "      <th>1</th>\n",
       "      <th>2</th>\n",
       "      <th>3</th>\n",
       "    </tr>\n",
       "    <tr>\n",
       "      <th>survived</th>\n",
       "      <th></th>\n",
       "      <th></th>\n",
       "      <th></th>\n",
       "    </tr>\n",
       "  </thead>\n",
       "  <tbody>\n",
       "    <tr>\n",
       "      <th>0</th>\n",
       "      <td>0.15204</td>\n",
       "      <td>0.195303</td>\n",
       "      <td>0.652658</td>\n",
       "    </tr>\n",
       "    <tr>\n",
       "      <th>1</th>\n",
       "      <td>0.40000</td>\n",
       "      <td>0.238000</td>\n",
       "      <td>0.362000</td>\n",
       "    </tr>\n",
       "  </tbody>\n",
       "</table>\n",
       "</div>"
      ],
      "text/plain": [
       "pclass          1         2         3\n",
       "survived                             \n",
       "0         0.15204  0.195303  0.652658\n",
       "1         0.40000  0.238000  0.362000"
      ]
     },
     "execution_count": 47,
     "metadata": {},
     "output_type": "execute_result"
    }
   ],
   "source": [
    "pd.crosstab(titanic[\"survived\"], titanic[\"pclass\"], normalize=\"index\")"
   ]
  },
  {
   "cell_type": "markdown",
   "metadata": {
    "colab_type": "text",
    "id": "7O2zkZuPC5T1"
   },
   "source": [
    "The results here are closer to what our intuitions might be given the joint probabilities we observed.\n",
    "Why?\n",
    "Here we see that:\n",
    "\n",
    "$P(pclass=1|survived=1) = 40.0\\%$\n",
    "\n",
    "$P(pclass=2|survived=1) = 23.8\\%$\n",
    "\n",
    "$P(pclass=3|survived=1) = 36.2\\%$\n",
    "\n",
    "So why are they so much closer here than the other way around?\n",
    "Remember that conditional probability is defined as:\n",
    "\n",
    "$P(A|B) = \\frac{P(A, B)}{P(B)}$\n",
    "\n",
    "or\n",
    "\n",
    "$P(B|A) = \\frac{P(A, B)}{P(A)}$\n",
    "\n",
    "This means that:\n",
    "\n",
    "$P(A, B) = P(A|B)P(B)$\n",
    "\n",
    "or\n",
    "\n",
    "$P(A, B) = P(B|A)P(A)$\n",
    "\n",
    "In the first case, B is survived.\n",
    "The fact that so few passengers survived gets filtered through that conditional probability, arriving at the joint we observed.\n",
    "\n",
    "In the second case, A is passenger class.\n",
    "There are twice as many third class passengers as first class passengers.\n",
    "That in turn gets filtered through this conditional probability to arrive at the same joint.\n",
    "\n",
    "Basically, this is just $P(A|B) \\ne P(B|A)$ all over again plus the added bonus that you can't deduce either from $P(A, B)$.\n",
    "\n"
   ]
  },
  {
   "cell_type": "markdown",
   "metadata": {
    "colab_type": "text",
    "id": "kFHt8Gg25Mje"
   },
   "source": [
    "### Age\n",
    "\n",
    "We previously looked at age and saw that passengers were generally young adults in their 20s and 30s.\n",
    "There were some children aboard but not very many, relatively speaking.\n",
    "With each decade, the proportion of passengers dropped.\n",
    "But what influence (if any), was age likely to have had on survival?\n",
    "\n",
    "There are a various possible hypothesizes.\n",
    "First, wealth generally comes with age and we know there's a slight advantage in survival for first class over third class passengers.\n",
    "Second, we're aware of stories of older passengers giving up their places to younger ones.\n",
    "A reasonable hypothesis is that there's no difference."
   ]
  },
  {
   "cell_type": "code",
   "execution_count": 48,
   "metadata": {
    "colab": {},
    "colab_type": "code",
    "id": "Nn61qW5NFCVX"
   },
   "outputs": [
    {
     "data": {
      "text/html": [
       "<div>\n",
       "<style scoped>\n",
       "    .dataframe tbody tr th:only-of-type {\n",
       "        vertical-align: middle;\n",
       "    }\n",
       "\n",
       "    .dataframe tbody tr th {\n",
       "        vertical-align: top;\n",
       "    }\n",
       "\n",
       "    .dataframe thead th {\n",
       "        text-align: right;\n",
       "    }\n",
       "</style>\n",
       "<table border=\"1\" class=\"dataframe\">\n",
       "  <thead>\n",
       "    <tr style=\"text-align: right;\">\n",
       "      <th>survived</th>\n",
       "      <th>0</th>\n",
       "      <th>1</th>\n",
       "    </tr>\n",
       "    <tr>\n",
       "      <th>decade</th>\n",
       "      <th></th>\n",
       "      <th></th>\n",
       "    </tr>\n",
       "  </thead>\n",
       "  <tbody>\n",
       "    <tr>\n",
       "      <th>0.0</th>\n",
       "      <td>0.390244</td>\n",
       "      <td>0.609756</td>\n",
       "    </tr>\n",
       "    <tr>\n",
       "      <th>10.0</th>\n",
       "      <td>0.608392</td>\n",
       "      <td>0.391608</td>\n",
       "    </tr>\n",
       "    <tr>\n",
       "      <th>20.0</th>\n",
       "      <td>0.630814</td>\n",
       "      <td>0.369186</td>\n",
       "    </tr>\n",
       "    <tr>\n",
       "      <th>30.0</th>\n",
       "      <td>0.577586</td>\n",
       "      <td>0.422414</td>\n",
       "    </tr>\n",
       "    <tr>\n",
       "      <th>40.0</th>\n",
       "      <td>0.614815</td>\n",
       "      <td>0.385185</td>\n",
       "    </tr>\n",
       "    <tr>\n",
       "      <th>50.0</th>\n",
       "      <td>0.542857</td>\n",
       "      <td>0.457143</td>\n",
       "    </tr>\n",
       "    <tr>\n",
       "      <th>60.0</th>\n",
       "      <td>0.687500</td>\n",
       "      <td>0.312500</td>\n",
       "    </tr>\n",
       "    <tr>\n",
       "      <th>70.0</th>\n",
       "      <td>0.857143</td>\n",
       "      <td>0.142857</td>\n",
       "    </tr>\n",
       "    <tr>\n",
       "      <th>80.0</th>\n",
       "      <td>0.000000</td>\n",
       "      <td>1.000000</td>\n",
       "    </tr>\n",
       "  </tbody>\n",
       "</table>\n",
       "</div>"
      ],
      "text/plain": [
       "survived         0         1\n",
       "decade                      \n",
       "0.0       0.390244  0.609756\n",
       "10.0      0.608392  0.391608\n",
       "20.0      0.630814  0.369186\n",
       "30.0      0.577586  0.422414\n",
       "40.0      0.614815  0.385185\n",
       "50.0      0.542857  0.457143\n",
       "60.0      0.687500  0.312500\n",
       "70.0      0.857143  0.142857\n",
       "80.0      0.000000  1.000000"
      ]
     },
     "execution_count": 48,
     "metadata": {},
     "output_type": "execute_result"
    }
   ],
   "source": [
    "pd.crosstab(titanic[\"decade\"], titanic[\"survived\"], normalize=\"index\")"
   ]
  },
  {
   "cell_type": "markdown",
   "metadata": {
    "colab_type": "text",
    "id": "umiV69zlrmG3"
   },
   "source": [
    "The first thing we should note is that we don't have the same amount of data for each age group (decade) and so our conclusions will not all be equally supported.\n",
    "Our model says that all 80 year olds live.\n",
    "That seems unlikely.\n",
    "(BTW, that \"unlikely\" or \"likely\" feeling you have *is* a Bayesian prior probability...Bayesian inference *formalizes* that feeling by making you write it down as math).\n",
    "\n",
    "Let's look at the raw counts:"
   ]
  },
  {
   "cell_type": "code",
   "execution_count": 49,
   "metadata": {
    "colab": {
     "base_uri": "https://localhost:8080/",
     "height": 359
    },
    "colab_type": "code",
    "id": "0d068G10soMR",
    "outputId": "f5ee01f4-6dc6-4eed-e5f8-c70ad54b543a"
   },
   "outputs": [
    {
     "data": {
      "text/html": [
       "<div>\n",
       "<style scoped>\n",
       "    .dataframe tbody tr th:only-of-type {\n",
       "        vertical-align: middle;\n",
       "    }\n",
       "\n",
       "    .dataframe tbody tr th {\n",
       "        vertical-align: top;\n",
       "    }\n",
       "\n",
       "    .dataframe thead th {\n",
       "        text-align: right;\n",
       "    }\n",
       "</style>\n",
       "<table border=\"1\" class=\"dataframe\">\n",
       "  <thead>\n",
       "    <tr style=\"text-align: right;\">\n",
       "      <th>survived</th>\n",
       "      <th>0</th>\n",
       "      <th>1</th>\n",
       "    </tr>\n",
       "    <tr>\n",
       "      <th>decade</th>\n",
       "      <th></th>\n",
       "      <th></th>\n",
       "    </tr>\n",
       "  </thead>\n",
       "  <tbody>\n",
       "    <tr>\n",
       "      <th>0.0</th>\n",
       "      <td>32</td>\n",
       "      <td>50</td>\n",
       "    </tr>\n",
       "    <tr>\n",
       "      <th>10.0</th>\n",
       "      <td>87</td>\n",
       "      <td>56</td>\n",
       "    </tr>\n",
       "    <tr>\n",
       "      <th>20.0</th>\n",
       "      <td>217</td>\n",
       "      <td>127</td>\n",
       "    </tr>\n",
       "    <tr>\n",
       "      <th>30.0</th>\n",
       "      <td>134</td>\n",
       "      <td>98</td>\n",
       "    </tr>\n",
       "    <tr>\n",
       "      <th>40.0</th>\n",
       "      <td>83</td>\n",
       "      <td>52</td>\n",
       "    </tr>\n",
       "    <tr>\n",
       "      <th>50.0</th>\n",
       "      <td>38</td>\n",
       "      <td>32</td>\n",
       "    </tr>\n",
       "    <tr>\n",
       "      <th>60.0</th>\n",
       "      <td>22</td>\n",
       "      <td>10</td>\n",
       "    </tr>\n",
       "    <tr>\n",
       "      <th>70.0</th>\n",
       "      <td>6</td>\n",
       "      <td>1</td>\n",
       "    </tr>\n",
       "    <tr>\n",
       "      <th>80.0</th>\n",
       "      <td>0</td>\n",
       "      <td>1</td>\n",
       "    </tr>\n",
       "  </tbody>\n",
       "</table>\n",
       "</div>"
      ],
      "text/plain": [
       "survived    0    1\n",
       "decade            \n",
       "0.0        32   50\n",
       "10.0       87   56\n",
       "20.0      217  127\n",
       "30.0      134   98\n",
       "40.0       83   52\n",
       "50.0       38   32\n",
       "60.0       22   10\n",
       "70.0        6    1\n",
       "80.0        0    1"
      ]
     },
     "execution_count": 49,
     "metadata": {},
     "output_type": "execute_result"
    }
   ],
   "source": [
    "pd.crosstab(titanic[\"decade\"], titanic[\"survived\"])"
   ]
  },
  {
   "cell_type": "markdown",
   "metadata": {
    "colab_type": "text",
    "id": "lkjtoRrWt8zD"
   },
   "source": [
    "We can think of the count as the amount of *evidence* for each probability (model).\n",
    "We'll see later how to use statistical inference to determine how much we should believe our model based on the evidence but for now, we're just going to go with our \"gut\" feeling.\n",
    "With only 1 observation, obviously we shouldn't believe the model saying \"80 year olds have a 100% chance of surviving\".\n",
    "Note that this is not the same thing as saying \"All 80 year olds aboard the Titanic survived\".\n",
    "There was one, and they did.\n",
    "But it's not a good model of why someone survived because there's only one instance.\n",
    "Nor is it a good predictor for a future sinking.\n",
    "\n",
    "Similarly, the probability of not surviving, given you're a  70 year old is quite low.\n",
    "This seems similarly unlikely (notice the implicit prior again, you should write these down before you actually do the data analysis).\n",
    "\n",
    "It seems even more unlikely given the pattern in the other conditional probabilities.\n",
    "For 10 year olds to 50 year olds, the overall trend is quite similar...39%, 37%, 42%, 39%...they're within 5 percentage points of each other.\n",
    "There appears to be a sharp increase for 50 year olds (46%) and sharp drop for 60 year olds (31%).\n",
    "But again, there may be confounding factors...were more 70 year olds 1st class or 3rd class, male or female?\n",
    "\n",
    "Let's look at the opposite conditional probability, $P(decade|survived)$.\n",
    "This conditional probability will answer the opposite question: given someone survived (or didn't), how old were they?\n",
    "What do you think it'll be?\n",
    "What factors will influence it?\n",
    "Write it down."
   ]
  },
  {
   "cell_type": "code",
   "execution_count": 50,
   "metadata": {
    "colab": {
     "base_uri": "https://localhost:8080/",
     "height": 142
    },
    "colab_type": "code",
    "id": "C3fPre18wZ-e",
    "outputId": "af0e16de-11cb-4526-e542-cc5cca46cba0"
   },
   "outputs": [
    {
     "data": {
      "text/html": [
       "<div>\n",
       "<style scoped>\n",
       "    .dataframe tbody tr th:only-of-type {\n",
       "        vertical-align: middle;\n",
       "    }\n",
       "\n",
       "    .dataframe tbody tr th {\n",
       "        vertical-align: top;\n",
       "    }\n",
       "\n",
       "    .dataframe thead th {\n",
       "        text-align: right;\n",
       "    }\n",
       "</style>\n",
       "<table border=\"1\" class=\"dataframe\">\n",
       "  <thead>\n",
       "    <tr style=\"text-align: right;\">\n",
       "      <th>decade</th>\n",
       "      <th>0.0</th>\n",
       "      <th>10.0</th>\n",
       "      <th>20.0</th>\n",
       "      <th>30.0</th>\n",
       "      <th>40.0</th>\n",
       "      <th>50.0</th>\n",
       "      <th>60.0</th>\n",
       "      <th>70.0</th>\n",
       "      <th>80.0</th>\n",
       "    </tr>\n",
       "    <tr>\n",
       "      <th>survived</th>\n",
       "      <th></th>\n",
       "      <th></th>\n",
       "      <th></th>\n",
       "      <th></th>\n",
       "      <th></th>\n",
       "      <th></th>\n",
       "      <th></th>\n",
       "      <th></th>\n",
       "      <th></th>\n",
       "    </tr>\n",
       "  </thead>\n",
       "  <tbody>\n",
       "    <tr>\n",
       "      <th>0</th>\n",
       "      <td>0.051696</td>\n",
       "      <td>0.140549</td>\n",
       "      <td>0.350565</td>\n",
       "      <td>0.216478</td>\n",
       "      <td>0.134087</td>\n",
       "      <td>0.061389</td>\n",
       "      <td>0.035541</td>\n",
       "      <td>0.009693</td>\n",
       "      <td>0.000000</td>\n",
       "    </tr>\n",
       "    <tr>\n",
       "      <th>1</th>\n",
       "      <td>0.117096</td>\n",
       "      <td>0.131148</td>\n",
       "      <td>0.297424</td>\n",
       "      <td>0.229508</td>\n",
       "      <td>0.121780</td>\n",
       "      <td>0.074941</td>\n",
       "      <td>0.023419</td>\n",
       "      <td>0.002342</td>\n",
       "      <td>0.002342</td>\n",
       "    </tr>\n",
       "  </tbody>\n",
       "</table>\n",
       "</div>"
      ],
      "text/plain": [
       "decade        0.0       10.0      20.0      30.0      40.0      50.0  \\\n",
       "survived                                                               \n",
       "0         0.051696  0.140549  0.350565  0.216478  0.134087  0.061389   \n",
       "1         0.117096  0.131148  0.297424  0.229508  0.121780  0.074941   \n",
       "\n",
       "decade        60.0      70.0      80.0  \n",
       "survived                                \n",
       "0         0.035541  0.009693  0.000000  \n",
       "1         0.023419  0.002342  0.002342  "
      ]
     },
     "execution_count": 50,
     "metadata": {},
     "output_type": "execute_result"
    }
   ],
   "source": [
    "pd.crosstab(titanic[\"survived\"], titanic[\"decade\"], normalize=\"index\")"
   ]
  },
  {
   "cell_type": "markdown",
   "metadata": {
    "colab_type": "text",
    "id": "QkLOkiFOwsG3"
   },
   "source": [
    "The results are fairly interesting.\n",
    "Except for those under 10, the probability that a passenger survived or not, given there age (at least by decade) is pretty uniform.\n"
   ]
  },
  {
   "cell_type": "markdown",
   "metadata": {
    "colab_type": "text",
    "id": "n0Jt0FCmx0EL"
   },
   "source": [
    "### Summary\n",
    "\n",
    "This should give  you the basic idea of:\n",
    "\n",
    "1. how probabibility and conditional probability figure into data science, and specifically, exploratory data analysis.\n",
    "2. how conditional probability can be used to explicitly model relationships between features.\n",
    "3. how conditional probability is still the implicit model even if we don't use it explicitly.\n",
    "\n",
    "Basically, everything is probability. We have a process about which we have collected data and we're uncertain about the results because the world changes and the data we obtained is only a partial glimpse into the process.\n",
    "\n",
    "For the second point, if our domain knowledge establishes a relationship, we can see how certain we should be about that relationship. Another way of putting it is how credible or believable that relationship is.\n",
    "\n",
    "\n",
    "The last point is interesting and important.\n",
    "Most machine learning techniques from logistic regression to deep learning are function approximation techniques: inputs go in and labels come out.\n",
    "Except that labels don't come out...what comes out of these models is numbers on the interval (0, 1) that we broadly interpret as probabilities.\n",
    "Thus most machine learning techniques are approximating the conditional probability distribution:\n",
    "\n",
    "$P(Y|X_1, X_2, X_3,..., X_n)$\n",
    "\n",
    "where $Y$ is the target variable.\n",
    "In the discrete case $Y$ is a categorical variable with various categories.\n",
    "We usually class this $Y$ \"the class\" and the values of $Y$, \"class labels\" or \"labels\".\n",
    "There quite a few different names for these things, depending on the field.\n",
    "\n",
    "We turn to function approximation to represent the conditional probability for a number of reasons:\n",
    "\n",
    "1. We many not have representatives of all possibilities. As we saw with 80 year olds, we often don't have the data we need. Function approximation can interpolate over missing values.  However, we still need to be wary of applying our models outside of situations represented in the training data.\n",
    "2. Consider a problem with 10 $X_i$ features, each with 4 possibilities. This would require a conditional probability table that has $4^{10}$ or 1,048,576 entries *and* we would need data to estimate them all (technically, we could fill all the cells with our prior beliefs and then estimate the posterior distribution but we still need 1,048,576 cells!)\n",
    "\n",
    "Of course, if $Y$ or any of the $X_i$ are continuous--the case we have sought to avoid throughout this case study--function approximation may be the only way to estimate the conditional probability.\n",
    "We'll be ignoring continuous $Y$ until later in the course.\n",
    "\n",
    "It's worth nothing that probability cannot establish causality."
   ]
  },
  {
   "cell_type": "markdown",
   "metadata": {
    "colab_type": "text",
    "id": "n0Jt0FCmx0EL"
   },
   "source": [
    "### Survived, Class, Gender\n",
    "\n",
    "A few analyses back, we looked at survival by passenger class and wondered if there might not be a confounding variable.\n",
    "Specifically, we want to think about $P(survived|pclass, X_j)$ where $X_j$ is that confounder.\n",
    "Using our current approach (`pandas`'s `crosstab()`) we would need one table $P(survived|class,X_1=x_i)$ for each $x_i$ of $X_j$.\n",
    "Suppose we wanted a to look at another factor, $X_2$?\n",
    "This gets a bit cumbersome.\n",
    "\n",
    "<div style=\"background: palegreen; margin:20px; padding: 20px;\">\n",
    "    <strong>Review</strong>\n",
    "    <p>\n",
    "If we did want to look at the conditional probability of $P(survived|pclass, X_1, X_2)$, what specific conditional probability would each table represent? For example, if $X_1$ has 4 values and $X_2$ has 6 values, how many tables are there?</p>\n",
    "</div>\n",
    "\n",
    "As with all such things, there are several ways to approach this (technical) problem.\n",
    "First, we could just create multiple crosstabulations.\n",
    "It would be kind of difficult to interpret and compare these, however.\n",
    "Second, we could use the SQL approach and we'll demonstrate that approach because there are times when you will be doing your analysis directly in the database.\n",
    "It's good to know how to do things in SQL without having ETL a database into a different server or local laptop for analysis.\n",
    "This is especially true in the early stages of a project, when you're trying to see if there's any \"there\" there.\n",
    "Third, we can write a function to maninpulate a DataFrame and make it do what we want.\n",
    "We will eventually take this approach.\n",
    "\n",
    "In the following discussion, we will look at the the probability of $P(survived|pclass, gender)$ and then introduce a specific algorithm for modeling conditional probabilities based on Bayes Rule.\n",
    "\n",
    "In our previous analysis we noted the disparity in survival rates for different passenger classes:"
   ]
  },
  {
   "cell_type": "code",
   "execution_count": 51,
   "metadata": {
    "colab": {
     "base_uri": "https://localhost:8080/",
     "height": 173
    },
    "colab_type": "code",
    "id": "KNmY0h2E2h9c",
    "outputId": "024eaa94-ec17-4886-d731-adcbaa6bea40"
   },
   "outputs": [
    {
     "data": {
      "text/html": [
       "<div>\n",
       "<style scoped>\n",
       "    .dataframe tbody tr th:only-of-type {\n",
       "        vertical-align: middle;\n",
       "    }\n",
       "\n",
       "    .dataframe tbody tr th {\n",
       "        vertical-align: top;\n",
       "    }\n",
       "\n",
       "    .dataframe thead th {\n",
       "        text-align: right;\n",
       "    }\n",
       "</style>\n",
       "<table border=\"1\" class=\"dataframe\">\n",
       "  <thead>\n",
       "    <tr style=\"text-align: right;\">\n",
       "      <th>survived</th>\n",
       "      <th>0</th>\n",
       "      <th>1</th>\n",
       "    </tr>\n",
       "    <tr>\n",
       "      <th>pclass</th>\n",
       "      <th></th>\n",
       "      <th></th>\n",
       "    </tr>\n",
       "  </thead>\n",
       "  <tbody>\n",
       "    <tr>\n",
       "      <th>1</th>\n",
       "      <td>0.380805</td>\n",
       "      <td>0.619195</td>\n",
       "    </tr>\n",
       "    <tr>\n",
       "      <th>2</th>\n",
       "      <td>0.570397</td>\n",
       "      <td>0.429603</td>\n",
       "    </tr>\n",
       "    <tr>\n",
       "      <th>3</th>\n",
       "      <td>0.744711</td>\n",
       "      <td>0.255289</td>\n",
       "    </tr>\n",
       "  </tbody>\n",
       "</table>\n",
       "</div>"
      ],
      "text/plain": [
       "survived         0         1\n",
       "pclass                      \n",
       "1         0.380805  0.619195\n",
       "2         0.570397  0.429603\n",
       "3         0.744711  0.255289"
      ]
     },
     "execution_count": 51,
     "metadata": {},
     "output_type": "execute_result"
    }
   ],
   "source": [
    "pd.crosstab(titanic[\"pclass\"], titanic[\"survived\"], normalize=\"index\")"
   ]
  },
  {
   "cell_type": "markdown",
   "metadata": {
    "colab_type": "text",
    "id": "PF9TndiD2lXA"
   },
   "source": [
    "However, this \"model\" doesn't take any other factor into account.\n",
    "We also know that gender influenced survival rates among Titanic's passengers:"
   ]
  },
  {
   "cell_type": "code",
   "execution_count": 52,
   "metadata": {
    "colab": {
     "base_uri": "https://localhost:8080/",
     "height": 142
    },
    "colab_type": "code",
    "id": "nMIh66wk2ufn",
    "outputId": "9d6534df-05d1-4c53-a1e5-c9d68d5713f0"
   },
   "outputs": [
    {
     "data": {
      "text/html": [
       "<div>\n",
       "<style scoped>\n",
       "    .dataframe tbody tr th:only-of-type {\n",
       "        vertical-align: middle;\n",
       "    }\n",
       "\n",
       "    .dataframe tbody tr th {\n",
       "        vertical-align: top;\n",
       "    }\n",
       "\n",
       "    .dataframe thead th {\n",
       "        text-align: right;\n",
       "    }\n",
       "</style>\n",
       "<table border=\"1\" class=\"dataframe\">\n",
       "  <thead>\n",
       "    <tr style=\"text-align: right;\">\n",
       "      <th>survived</th>\n",
       "      <th>0</th>\n",
       "      <th>1</th>\n",
       "    </tr>\n",
       "    <tr>\n",
       "      <th>sex</th>\n",
       "      <th></th>\n",
       "      <th></th>\n",
       "    </tr>\n",
       "  </thead>\n",
       "  <tbody>\n",
       "    <tr>\n",
       "      <th>female</th>\n",
       "      <td>0.272532</td>\n",
       "      <td>0.727468</td>\n",
       "    </tr>\n",
       "    <tr>\n",
       "      <th>male</th>\n",
       "      <td>0.809015</td>\n",
       "      <td>0.190985</td>\n",
       "    </tr>\n",
       "  </tbody>\n",
       "</table>\n",
       "</div>"
      ],
      "text/plain": [
       "survived         0         1\n",
       "sex                         \n",
       "female    0.272532  0.727468\n",
       "male      0.809015  0.190985"
      ]
     },
     "execution_count": 52,
     "metadata": {},
     "output_type": "execute_result"
    }
   ],
   "source": [
    "pd.crosstab(titanic[\"sex\"], titanic[\"survived\"], normalize=\"index\")"
   ]
  },
  {
   "cell_type": "markdown",
   "metadata": {
    "colab_type": "text",
    "id": "PlwlHvxb3B0C"
   },
   "source": [
    "So here's an interesting question:\n",
    "is it possible for both of these conditional probabilities to hold and for there to be *no* relationship between pclass and sex?\n",
    "\n",
    "\n",
    "<div style=\"background: palegreen; margin:20px; padding: 20px;\">\n",
    "    <strong>Review</strong>\n",
    "    <p>\n",
    "You should be able to answer this question mathematically starting with the joint probability distribution.</p>\n",
    "</div>\n",
    "\n",
    "Let's look empirically.\n",
    "What we're wondering is if the conditional probabilities are the same, whether we look at $P(sex|pclass)$ or $P(pclass|sex)$ and we can actually answer this question by looking at the joint $P(sex, pclass)$.\n",
    "Let's use the SQL approach:\n"
   ]
  },
  {
   "cell_type": "code",
   "execution_count": 53,
   "metadata": {
    "colab": {},
    "colab_type": "code",
    "id": "lP5K3Y2o5Q94"
   },
   "outputs": [],
   "source": [
    "query = f\"\"\"\n",
    "SELECT pclass, sex, count(*) AS cnt, count(*)/{float(passengers)} AS pct \n",
    "FROM titanic \n",
    "GROUP BY pclass, sex \n",
    "ORDER BY pclass, sex\n",
    "\"\"\"\n",
    "pclass_and_sex_counts = pysqldf(query)"
   ]
  },
  {
   "cell_type": "markdown",
   "metadata": {
    "colab_type": "text",
    "id": "dKwQCyZc5ZCD"
   },
   "source": [
    "What do you think we'll see?"
   ]
  },
  {
   "cell_type": "code",
   "execution_count": 54,
   "metadata": {
    "colab": {
     "base_uri": "https://localhost:8080/",
     "height": 235
    },
    "colab_type": "code",
    "id": "hGfHgZI65XYC",
    "outputId": "af5ba8a9-9bb0-433d-c41e-98edea20c2fc"
   },
   "outputs": [
    {
     "data": {
      "text/html": [
       "<div>\n",
       "<style scoped>\n",
       "    .dataframe tbody tr th:only-of-type {\n",
       "        vertical-align: middle;\n",
       "    }\n",
       "\n",
       "    .dataframe tbody tr th {\n",
       "        vertical-align: top;\n",
       "    }\n",
       "\n",
       "    .dataframe thead th {\n",
       "        text-align: right;\n",
       "    }\n",
       "</style>\n",
       "<table border=\"1\" class=\"dataframe\">\n",
       "  <thead>\n",
       "    <tr style=\"text-align: right;\">\n",
       "      <th></th>\n",
       "      <th>pclass</th>\n",
       "      <th>sex</th>\n",
       "      <th>cnt</th>\n",
       "      <th>pct</th>\n",
       "    </tr>\n",
       "  </thead>\n",
       "  <tbody>\n",
       "    <tr>\n",
       "      <th>0</th>\n",
       "      <td>1</td>\n",
       "      <td>female</td>\n",
       "      <td>144</td>\n",
       "      <td>0.110008</td>\n",
       "    </tr>\n",
       "    <tr>\n",
       "      <th>1</th>\n",
       "      <td>1</td>\n",
       "      <td>male</td>\n",
       "      <td>179</td>\n",
       "      <td>0.136746</td>\n",
       "    </tr>\n",
       "    <tr>\n",
       "      <th>2</th>\n",
       "      <td>2</td>\n",
       "      <td>female</td>\n",
       "      <td>106</td>\n",
       "      <td>0.080978</td>\n",
       "    </tr>\n",
       "    <tr>\n",
       "      <th>3</th>\n",
       "      <td>2</td>\n",
       "      <td>male</td>\n",
       "      <td>171</td>\n",
       "      <td>0.130634</td>\n",
       "    </tr>\n",
       "    <tr>\n",
       "      <th>4</th>\n",
       "      <td>3</td>\n",
       "      <td>female</td>\n",
       "      <td>216</td>\n",
       "      <td>0.165011</td>\n",
       "    </tr>\n",
       "    <tr>\n",
       "      <th>5</th>\n",
       "      <td>3</td>\n",
       "      <td>male</td>\n",
       "      <td>493</td>\n",
       "      <td>0.376623</td>\n",
       "    </tr>\n",
       "  </tbody>\n",
       "</table>\n",
       "</div>"
      ],
      "text/plain": [
       "   pclass     sex  cnt       pct\n",
       "0       1  female  144  0.110008\n",
       "1       1    male  179  0.136746\n",
       "2       2  female  106  0.080978\n",
       "3       2    male  171  0.130634\n",
       "4       3  female  216  0.165011\n",
       "5       3    male  493  0.376623"
      ]
     },
     "execution_count": 54,
     "metadata": {},
     "output_type": "execute_result"
    }
   ],
   "source": [
    "pclass_and_sex_counts"
   ]
  },
  {
   "cell_type": "markdown",
   "metadata": {
    "colab_type": "text",
    "id": "vDhgedNB5mB3"
   },
   "source": [
    "The proportion of $P(3, male)$ is huge compared to the others.\n",
    "We can calculate the conditional probabilities by hand:\n",
    "\n",
    "$P(male|pclass=3) = 0.377/(0.377+0.165) = 69.6\\%$\n",
    "\n",
    "$P(female|pclass=3) = 0.165/(0.377+0.165) = 30.4\\%$\n",
    "\n",
    "So, *given* that you're in 3rd class, the probability of being male is nearly 70% while the probability of being female is only 30%.\n",
    "\n",
    "$P(1|sex=male) = 0.137/(0.137+0.131+0.377) = 21.2\\%$\n",
    "\n",
    "$P(2|sex=male) = 0.131/(0.137+0.131+0.377) = 20.3\\%$\n",
    "\n",
    "$P(3|sex=male) = 0.377/(0.137+0.131+0.377) = 58.4\\%$\n",
    "\n",
    "And, *given* that you're male, it is much more probable that you're in 3rd class.\n",
    "\n",
    "So this presents an interesting question for us...because `pclass` and `sex` are related, were women more likely survive because they were in first class or because they were women?\n",
    "Put differently, do we even need pclass to explain survivorship?\n",
    "\n",
    "\n",
    "<div style=\"background: palegreen; margin:20px; padding: 20px;\">\n",
    "    <strong>Review</strong>\n",
    "    <p>Think about the question a minute. Why or why not?</p>\n",
    "</div>\n",
    "\n",
    "My hypothesis is that you need both.\n",
    "The reason is that while sex may explain why more women survived than men, some men *did* survive and some women *did not* survive.\n",
    "The explanation may be passenger class.\n",
    "\n",
    "Let's start by calculating $P(survived, pclass, sex)$, the full joint probability.\n",
    "\n",
    "<div style=\"background: palegreen; margin:20px; padding: 20px;\">\n",
    "    <strong>Note</strong>\n",
    "    <p>\n",
    "What do you think the joint probability will look like?\n",
    "What do you think will be the most common subsets?\n",
    "</p>\n",
    "</div>\n",
    "\n",
    "We already know that 3rd class, male passenger non-survivors are probably the largest subset.\n",
    "What do you think is the next largest group?\n",
    "What groups are in the top 5?\n",
    "\n",
    "1st class female passengers survivors are probably also a large group but it's hard to say definitely what the other groups will be...we can calculate the joint probability easy enough in a SQL statement:\n"
   ]
  },
  {
   "cell_type": "code",
   "execution_count": 55,
   "metadata": {
    "colab": {},
    "colab_type": "code",
    "id": "VMq3Z_WkGVaL"
   },
   "outputs": [],
   "source": [
    "query = f\"\"\"\n",
    "SELECT survived, pclass, sex, count(*) AS cnt, count(*)/{float(passengers)} AS pct \n",
    "FROM titanic \n",
    "GROUP BY survived, pclass, sex\n",
    "ORDER BY pct DESC\n",
    "\"\"\"\n",
    "survived_pclass_and_sex_counts = pysqldf(query)"
   ]
  },
  {
   "cell_type": "code",
   "execution_count": 56,
   "metadata": {
    "colab": {
     "base_uri": "https://localhost:8080/",
     "height": 421
    },
    "colab_type": "code",
    "id": "xQT4cjhxYoFq",
    "outputId": "b7b4ba2b-6f83-4697-f619-e906df6dbb22"
   },
   "outputs": [
    {
     "data": {
      "text/html": [
       "<div>\n",
       "<style scoped>\n",
       "    .dataframe tbody tr th:only-of-type {\n",
       "        vertical-align: middle;\n",
       "    }\n",
       "\n",
       "    .dataframe tbody tr th {\n",
       "        vertical-align: top;\n",
       "    }\n",
       "\n",
       "    .dataframe thead th {\n",
       "        text-align: right;\n",
       "    }\n",
       "</style>\n",
       "<table border=\"1\" class=\"dataframe\">\n",
       "  <thead>\n",
       "    <tr style=\"text-align: right;\">\n",
       "      <th></th>\n",
       "      <th>survived</th>\n",
       "      <th>pclass</th>\n",
       "      <th>sex</th>\n",
       "      <th>cnt</th>\n",
       "      <th>pct</th>\n",
       "    </tr>\n",
       "  </thead>\n",
       "  <tbody>\n",
       "    <tr>\n",
       "      <th>0</th>\n",
       "      <td>0</td>\n",
       "      <td>3</td>\n",
       "      <td>male</td>\n",
       "      <td>418</td>\n",
       "      <td>0.319328</td>\n",
       "    </tr>\n",
       "    <tr>\n",
       "      <th>1</th>\n",
       "      <td>0</td>\n",
       "      <td>2</td>\n",
       "      <td>male</td>\n",
       "      <td>146</td>\n",
       "      <td>0.111536</td>\n",
       "    </tr>\n",
       "    <tr>\n",
       "      <th>2</th>\n",
       "      <td>1</td>\n",
       "      <td>1</td>\n",
       "      <td>female</td>\n",
       "      <td>139</td>\n",
       "      <td>0.106188</td>\n",
       "    </tr>\n",
       "    <tr>\n",
       "      <th>3</th>\n",
       "      <td>0</td>\n",
       "      <td>1</td>\n",
       "      <td>male</td>\n",
       "      <td>118</td>\n",
       "      <td>0.090145</td>\n",
       "    </tr>\n",
       "    <tr>\n",
       "      <th>4</th>\n",
       "      <td>0</td>\n",
       "      <td>3</td>\n",
       "      <td>female</td>\n",
       "      <td>110</td>\n",
       "      <td>0.084034</td>\n",
       "    </tr>\n",
       "    <tr>\n",
       "      <th>5</th>\n",
       "      <td>1</td>\n",
       "      <td>3</td>\n",
       "      <td>female</td>\n",
       "      <td>106</td>\n",
       "      <td>0.080978</td>\n",
       "    </tr>\n",
       "    <tr>\n",
       "      <th>6</th>\n",
       "      <td>1</td>\n",
       "      <td>2</td>\n",
       "      <td>female</td>\n",
       "      <td>94</td>\n",
       "      <td>0.071811</td>\n",
       "    </tr>\n",
       "    <tr>\n",
       "      <th>7</th>\n",
       "      <td>1</td>\n",
       "      <td>3</td>\n",
       "      <td>male</td>\n",
       "      <td>75</td>\n",
       "      <td>0.057296</td>\n",
       "    </tr>\n",
       "    <tr>\n",
       "      <th>8</th>\n",
       "      <td>1</td>\n",
       "      <td>1</td>\n",
       "      <td>male</td>\n",
       "      <td>61</td>\n",
       "      <td>0.046600</td>\n",
       "    </tr>\n",
       "    <tr>\n",
       "      <th>9</th>\n",
       "      <td>1</td>\n",
       "      <td>2</td>\n",
       "      <td>male</td>\n",
       "      <td>25</td>\n",
       "      <td>0.019099</td>\n",
       "    </tr>\n",
       "    <tr>\n",
       "      <th>10</th>\n",
       "      <td>0</td>\n",
       "      <td>2</td>\n",
       "      <td>female</td>\n",
       "      <td>12</td>\n",
       "      <td>0.009167</td>\n",
       "    </tr>\n",
       "    <tr>\n",
       "      <th>11</th>\n",
       "      <td>0</td>\n",
       "      <td>1</td>\n",
       "      <td>female</td>\n",
       "      <td>5</td>\n",
       "      <td>0.003820</td>\n",
       "    </tr>\n",
       "  </tbody>\n",
       "</table>\n",
       "</div>"
      ],
      "text/plain": [
       "    survived  pclass     sex  cnt       pct\n",
       "0          0       3    male  418  0.319328\n",
       "1          0       2    male  146  0.111536\n",
       "2          1       1  female  139  0.106188\n",
       "3          0       1    male  118  0.090145\n",
       "4          0       3  female  110  0.084034\n",
       "5          1       3  female  106  0.080978\n",
       "6          1       2  female   94  0.071811\n",
       "7          1       3    male   75  0.057296\n",
       "8          1       1    male   61  0.046600\n",
       "9          1       2    male   25  0.019099\n",
       "10         0       2  female   12  0.009167\n",
       "11         0       1  female    5  0.003820"
      ]
     },
     "execution_count": 56,
     "metadata": {},
     "output_type": "execute_result"
    }
   ],
   "source": [
    "survived_pclass_and_sex_counts"
   ]
  },
  {
   "cell_type": "markdown",
   "metadata": {
    "colab_type": "text",
    "id": "lSYyYvcNZ-Fq"
   },
   "source": [
    "As we thought, 3rd class male passenger non-surivivors is the largest group, by far.\n",
    "They are almost three times larger than the next group.\n",
    "Note, however, that as the percentages decrease, the base counts decrease as well.\n",
    "We're starting to observe that, as you increase the specificity of your subsets, you have less data to support estimates for those subsets and the probability estimates may be unreliable (they could have gone in the other direction as well, being highly probable, they didn't in this case).\n",
    "\n",
    "Now we'll switch to the DataFrame approach and a helper function to calculate conditional probabilities of more than two variables.\n",
    "You can use this instead of `crosstab()`:"
   ]
  },
  {
   "cell_type": "code",
   "execution_count": 57,
   "metadata": {
    "colab": {},
    "colab_type": "code",
    "id": "r71YemQIhMut"
   },
   "outputs": [],
   "source": [
    "def conditional_probability(df, target, givens, cell=\"index\"):\n",
    "    \"\"\"\n",
    "    calculates a simple conditional probability (only one target variable) based off of:\n",
    "    https://stackoverflow.com/questions/54040923/change-order-of-pandas-multiindex\n",
    "    \n",
    "    P(target|givens...)\n",
    "    \n",
    "    df: the DataFrame to use for the calculation\n",
    "    target: the string name of the target variable\n",
    "    givens: a string or List of strings that represent the \"givens\"\n",
    "    cell: a column that is neither target nor givens to \"count\". Should be a column without NA.\n",
    "    \n",
    "    The default assumes you have added a column: df[\"index\"] = df.index to your DataFrame.\n",
    "    \"\"\"\n",
    "    if isinstance(givens, str):\n",
    "        givens = [givens]\n",
    "    print(f\"P({target}|{', '.join(givens)})\")\n",
    "    columns = [target] + givens\n",
    "    # handling multiple targets would require a more sophisticated join.\n",
    "    result = (df.groupby(columns).count() / df.groupby(givens).count())[cell]\n",
    "    # this makes sure the target is always the column\n",
    "    result = result.reorder_levels(givens + [target]).sort_index()\n",
    "    # this flattens the hiearchical index and should fill in missing values.\n",
    "    result = result.unstack(fill_value=0.0)\n",
    "    return pd.DataFrame(result)"
   ]
  },
  {
   "cell_type": "markdown",
   "metadata": {},
   "source": [
    "We can calculate the conditional probability as follows:"
   ]
  },
  {
   "cell_type": "code",
   "execution_count": 58,
   "metadata": {
    "colab": {},
    "colab_type": "code",
    "id": "lI55qHvde946"
   },
   "outputs": [
    {
     "name": "stdout",
     "output_type": "stream",
     "text": [
      "P(survived|pclass, sex)\n"
     ]
    },
    {
     "data": {
      "text/html": [
       "<div>\n",
       "<style scoped>\n",
       "    .dataframe tbody tr th:only-of-type {\n",
       "        vertical-align: middle;\n",
       "    }\n",
       "\n",
       "    .dataframe tbody tr th {\n",
       "        vertical-align: top;\n",
       "    }\n",
       "\n",
       "    .dataframe thead th {\n",
       "        text-align: right;\n",
       "    }\n",
       "</style>\n",
       "<table border=\"1\" class=\"dataframe\">\n",
       "  <thead>\n",
       "    <tr style=\"text-align: right;\">\n",
       "      <th></th>\n",
       "      <th>survived</th>\n",
       "      <th>0</th>\n",
       "      <th>1</th>\n",
       "    </tr>\n",
       "    <tr>\n",
       "      <th>pclass</th>\n",
       "      <th>sex</th>\n",
       "      <th></th>\n",
       "      <th></th>\n",
       "    </tr>\n",
       "  </thead>\n",
       "  <tbody>\n",
       "    <tr>\n",
       "      <th rowspan=\"2\" valign=\"top\">1</th>\n",
       "      <th>female</th>\n",
       "      <td>0.034722</td>\n",
       "      <td>0.965278</td>\n",
       "    </tr>\n",
       "    <tr>\n",
       "      <th>male</th>\n",
       "      <td>0.659218</td>\n",
       "      <td>0.340782</td>\n",
       "    </tr>\n",
       "    <tr>\n",
       "      <th rowspan=\"2\" valign=\"top\">2</th>\n",
       "      <th>female</th>\n",
       "      <td>0.113208</td>\n",
       "      <td>0.886792</td>\n",
       "    </tr>\n",
       "    <tr>\n",
       "      <th>male</th>\n",
       "      <td>0.853801</td>\n",
       "      <td>0.146199</td>\n",
       "    </tr>\n",
       "    <tr>\n",
       "      <th rowspan=\"2\" valign=\"top\">3</th>\n",
       "      <th>female</th>\n",
       "      <td>0.509259</td>\n",
       "      <td>0.490741</td>\n",
       "    </tr>\n",
       "    <tr>\n",
       "      <th>male</th>\n",
       "      <td>0.847870</td>\n",
       "      <td>0.152130</td>\n",
       "    </tr>\n",
       "  </tbody>\n",
       "</table>\n",
       "</div>"
      ],
      "text/plain": [
       "survived              0         1\n",
       "pclass sex                       \n",
       "1      female  0.034722  0.965278\n",
       "       male    0.659218  0.340782\n",
       "2      female  0.113208  0.886792\n",
       "       male    0.853801  0.146199\n",
       "3      female  0.509259  0.490741\n",
       "       male    0.847870  0.152130"
      ]
     },
     "execution_count": 58,
     "metadata": {},
     "output_type": "execute_result"
    }
   ],
   "source": [
    "conditional_probability(titanic, \"survived\", [\"pclass\", \"sex\"], \"name\")"
   ]
  },
  {
   "cell_type": "markdown",
   "metadata": {},
   "source": [
    "The \"name\" field at the end of the function call is a bit weird. \n",
    "It's the column that needs to be counted and turned into relative frequencies.\n",
    "It must be a column with no nulls and it can't be either the \"target\" or the \"givens\".\n",
    "The documentation explains how to add such a field if needed."
   ]
  },
  {
   "cell_type": "markdown",
   "metadata": {
    "colab_type": "text",
    "id": "EVB3rA6Plxvg"
   },
   "source": [
    "First, let us tackle these results.\n",
    "As we had before, each row is the \"givens\" and each column is a value of the target variable (often called \"class labels\").\n",
    "The first row and column then says, given that you were a first class, female passenger, you had a 3.5% probability of not surviving; the second column says a 96.5% probability of not surviving.\n",
    "The next row gives the data for men in first class and the odds of survival were signficantly worse (nearly one third) with 34% versus 66%.\n",
    "\n",
    "For second class passengers, women had a higher probability of survival (89% versus 11%).\n",
    "It was not *hugely* lower than the probabilities for first class women passengers.\n",
    "Second class *male* passengers, on the other hand, faired significantly worse than first class male passengers, 15% compared to 34% survival.\n",
    "\n",
    "For third class passengers, women had about a 50/50 chance of survival.\n",
    "Men, on the other hand, had only a 15% chance of survival, about the same as second class passengers.\n",
    "\n",
    "In all cases, women had a higher survival rate than men.\n",
    "However, even among woman, the survival rates were not the same amongst the classes.\n",
    "The rates are very similar for first and second class but not third class.\n",
    "\n",
    "The rule for independence is that:\n",
    "\n",
    "$P(A|B, C) = P(A|B)$\n",
    "\n",
    "We can look at two:\n",
    "\n",
    "$P(survived=1|pclass=1, sex=female) = 96.5\\%$ $\\neq$ $P(survived=1|pclass=1) = 61.9\\%$ $\\neq$ $P(survived=1|sex=female) = 72.7\\%$\n",
    "\n",
    "so we can see that independence does not hold here.\n",
    "Therefore, both sex and passenger class mattered for predicting survival."
   ]
  },
  {
   "cell_type": "markdown",
   "metadata": {},
   "source": [
    "## Other Relationships\n",
    "\n",
    "Although we have looked mostly at the target variable, `survived`, during our exploration of conditional probability, we are free to look at other relationships as well.\n",
    "For example, what relationship was there between `pclass` (passenger class) and sex, sibling/spouse relationship, and parents/children?"
   ]
  },
  {
   "cell_type": "code",
   "execution_count": 59,
   "metadata": {},
   "outputs": [
    {
     "name": "stdout",
     "output_type": "stream",
     "text": [
      "P(pclass|sex, sibsp, parch)\n"
     ]
    },
    {
     "data": {
      "text/html": [
       "<div>\n",
       "<style scoped>\n",
       "    .dataframe tbody tr th:only-of-type {\n",
       "        vertical-align: middle;\n",
       "    }\n",
       "\n",
       "    .dataframe tbody tr th {\n",
       "        vertical-align: top;\n",
       "    }\n",
       "\n",
       "    .dataframe thead th {\n",
       "        text-align: right;\n",
       "    }\n",
       "</style>\n",
       "<table border=\"1\" class=\"dataframe\">\n",
       "  <thead>\n",
       "    <tr style=\"text-align: right;\">\n",
       "      <th></th>\n",
       "      <th></th>\n",
       "      <th>pclass</th>\n",
       "      <th>1</th>\n",
       "      <th>2</th>\n",
       "      <th>3</th>\n",
       "    </tr>\n",
       "    <tr>\n",
       "      <th>sex</th>\n",
       "      <th>sibsp</th>\n",
       "      <th>parch</th>\n",
       "      <th></th>\n",
       "      <th></th>\n",
       "      <th></th>\n",
       "    </tr>\n",
       "  </thead>\n",
       "  <tbody>\n",
       "    <tr>\n",
       "      <th rowspan=\"24\" valign=\"top\">female</th>\n",
       "      <th rowspan=\"6\" valign=\"top\">0</th>\n",
       "      <th>0</th>\n",
       "      <td>0.268041</td>\n",
       "      <td>0.216495</td>\n",
       "      <td>0.515464</td>\n",
       "    </tr>\n",
       "    <tr>\n",
       "      <th>1</th>\n",
       "      <td>0.515152</td>\n",
       "      <td>0.242424</td>\n",
       "      <td>0.242424</td>\n",
       "    </tr>\n",
       "    <tr>\n",
       "      <th>2</th>\n",
       "      <td>0.206897</td>\n",
       "      <td>0.310345</td>\n",
       "      <td>0.482759</td>\n",
       "    </tr>\n",
       "    <tr>\n",
       "      <th>3</th>\n",
       "      <td>0.000000</td>\n",
       "      <td>0.500000</td>\n",
       "      <td>0.500000</td>\n",
       "    </tr>\n",
       "    <tr>\n",
       "      <th>4</th>\n",
       "      <td>0.000000</td>\n",
       "      <td>0.000000</td>\n",
       "      <td>1.000000</td>\n",
       "    </tr>\n",
       "    <tr>\n",
       "      <th>5</th>\n",
       "      <td>0.000000</td>\n",
       "      <td>0.000000</td>\n",
       "      <td>1.000000</td>\n",
       "    </tr>\n",
       "    <tr>\n",
       "      <th rowspan=\"8\" valign=\"top\">1</th>\n",
       "      <th>0</th>\n",
       "      <td>0.466667</td>\n",
       "      <td>0.200000</td>\n",
       "      <td>0.333333</td>\n",
       "    </tr>\n",
       "    <tr>\n",
       "      <th>1</th>\n",
       "      <td>0.279070</td>\n",
       "      <td>0.279070</td>\n",
       "      <td>0.441860</td>\n",
       "    </tr>\n",
       "    <tr>\n",
       "      <th>2</th>\n",
       "      <td>0.277778</td>\n",
       "      <td>0.500000</td>\n",
       "      <td>0.222222</td>\n",
       "    </tr>\n",
       "    <tr>\n",
       "      <th>3</th>\n",
       "      <td>0.333333</td>\n",
       "      <td>0.333333</td>\n",
       "      <td>0.333333</td>\n",
       "    </tr>\n",
       "    <tr>\n",
       "      <th>4</th>\n",
       "      <td>0.500000</td>\n",
       "      <td>0.000000</td>\n",
       "      <td>0.500000</td>\n",
       "    </tr>\n",
       "    <tr>\n",
       "      <th>5</th>\n",
       "      <td>0.000000</td>\n",
       "      <td>0.000000</td>\n",
       "      <td>1.000000</td>\n",
       "    </tr>\n",
       "    <tr>\n",
       "      <th>6</th>\n",
       "      <td>0.000000</td>\n",
       "      <td>0.000000</td>\n",
       "      <td>1.000000</td>\n",
       "    </tr>\n",
       "    <tr>\n",
       "      <th>9</th>\n",
       "      <td>0.000000</td>\n",
       "      <td>0.000000</td>\n",
       "      <td>1.000000</td>\n",
       "    </tr>\n",
       "    <tr>\n",
       "      <th rowspan=\"4\" valign=\"top\">2</th>\n",
       "      <th>0</th>\n",
       "      <td>0.428571</td>\n",
       "      <td>0.000000</td>\n",
       "      <td>0.571429</td>\n",
       "    </tr>\n",
       "    <tr>\n",
       "      <th>1</th>\n",
       "      <td>0.000000</td>\n",
       "      <td>0.571429</td>\n",
       "      <td>0.428571</td>\n",
       "    </tr>\n",
       "    <tr>\n",
       "      <th>2</th>\n",
       "      <td>0.500000</td>\n",
       "      <td>0.000000</td>\n",
       "      <td>0.500000</td>\n",
       "    </tr>\n",
       "    <tr>\n",
       "      <th>3</th>\n",
       "      <td>0.000000</td>\n",
       "      <td>1.000000</td>\n",
       "      <td>0.000000</td>\n",
       "    </tr>\n",
       "    <tr>\n",
       "      <th rowspan=\"3\" valign=\"top\">3</th>\n",
       "      <th>0</th>\n",
       "      <td>0.000000</td>\n",
       "      <td>0.500000</td>\n",
       "      <td>0.500000</td>\n",
       "    </tr>\n",
       "    <tr>\n",
       "      <th>1</th>\n",
       "      <td>0.000000</td>\n",
       "      <td>0.000000</td>\n",
       "      <td>1.000000</td>\n",
       "    </tr>\n",
       "    <tr>\n",
       "      <th>2</th>\n",
       "      <td>0.600000</td>\n",
       "      <td>0.000000</td>\n",
       "      <td>0.400000</td>\n",
       "    </tr>\n",
       "    <tr>\n",
       "      <th>4</th>\n",
       "      <th>2</th>\n",
       "      <td>0.000000</td>\n",
       "      <td>0.000000</td>\n",
       "      <td>1.000000</td>\n",
       "    </tr>\n",
       "    <tr>\n",
       "      <th>5</th>\n",
       "      <th>2</th>\n",
       "      <td>0.000000</td>\n",
       "      <td>0.000000</td>\n",
       "      <td>1.000000</td>\n",
       "    </tr>\n",
       "    <tr>\n",
       "      <th>8</th>\n",
       "      <th>2</th>\n",
       "      <td>0.000000</td>\n",
       "      <td>0.000000</td>\n",
       "      <td>1.000000</td>\n",
       "    </tr>\n",
       "    <tr>\n",
       "      <th rowspan=\"21\" valign=\"top\">male</th>\n",
       "      <th rowspan=\"3\" valign=\"top\">0</th>\n",
       "      <th>0</th>\n",
       "      <td>0.181208</td>\n",
       "      <td>0.194631</td>\n",
       "      <td>0.624161</td>\n",
       "    </tr>\n",
       "    <tr>\n",
       "      <th>1</th>\n",
       "      <td>0.526316</td>\n",
       "      <td>0.105263</td>\n",
       "      <td>0.368421</td>\n",
       "    </tr>\n",
       "    <tr>\n",
       "      <th>2</th>\n",
       "      <td>0.357143</td>\n",
       "      <td>0.285714</td>\n",
       "      <td>0.357143</td>\n",
       "    </tr>\n",
       "    <tr>\n",
       "      <th rowspan=\"8\" valign=\"top\">1</th>\n",
       "      <th>0</th>\n",
       "      <td>0.376344</td>\n",
       "      <td>0.258065</td>\n",
       "      <td>0.365591</td>\n",
       "    </tr>\n",
       "    <tr>\n",
       "      <th>1</th>\n",
       "      <td>0.234043</td>\n",
       "      <td>0.319149</td>\n",
       "      <td>0.446809</td>\n",
       "    </tr>\n",
       "    <tr>\n",
       "      <th>2</th>\n",
       "      <td>0.363636</td>\n",
       "      <td>0.272727</td>\n",
       "      <td>0.363636</td>\n",
       "    </tr>\n",
       "    <tr>\n",
       "      <th>3</th>\n",
       "      <td>0.500000</td>\n",
       "      <td>0.000000</td>\n",
       "      <td>0.500000</td>\n",
       "    </tr>\n",
       "    <tr>\n",
       "      <th>4</th>\n",
       "      <td>0.500000</td>\n",
       "      <td>0.000000</td>\n",
       "      <td>0.500000</td>\n",
       "    </tr>\n",
       "    <tr>\n",
       "      <th>5</th>\n",
       "      <td>0.000000</td>\n",
       "      <td>0.000000</td>\n",
       "      <td>1.000000</td>\n",
       "    </tr>\n",
       "    <tr>\n",
       "      <th>6</th>\n",
       "      <td>0.000000</td>\n",
       "      <td>0.000000</td>\n",
       "      <td>1.000000</td>\n",
       "    </tr>\n",
       "    <tr>\n",
       "      <th>9</th>\n",
       "      <td>0.000000</td>\n",
       "      <td>0.000000</td>\n",
       "      <td>1.000000</td>\n",
       "    </tr>\n",
       "    <tr>\n",
       "      <th rowspan=\"3\" valign=\"top\">2</th>\n",
       "      <th>0</th>\n",
       "      <td>0.105263</td>\n",
       "      <td>0.263158</td>\n",
       "      <td>0.631579</td>\n",
       "    </tr>\n",
       "    <tr>\n",
       "      <th>1</th>\n",
       "      <td>0.000000</td>\n",
       "      <td>1.000000</td>\n",
       "      <td>0.000000</td>\n",
       "    </tr>\n",
       "    <tr>\n",
       "      <th>2</th>\n",
       "      <td>0.500000</td>\n",
       "      <td>0.000000</td>\n",
       "      <td>0.500000</td>\n",
       "    </tr>\n",
       "    <tr>\n",
       "      <th rowspan=\"3\" valign=\"top\">3</th>\n",
       "      <th>0</th>\n",
       "      <td>0.000000</td>\n",
       "      <td>0.000000</td>\n",
       "      <td>1.000000</td>\n",
       "    </tr>\n",
       "    <tr>\n",
       "      <th>1</th>\n",
       "      <td>0.000000</td>\n",
       "      <td>0.000000</td>\n",
       "      <td>1.000000</td>\n",
       "    </tr>\n",
       "    <tr>\n",
       "      <th>2</th>\n",
       "      <td>0.333333</td>\n",
       "      <td>0.000000</td>\n",
       "      <td>0.666667</td>\n",
       "    </tr>\n",
       "    <tr>\n",
       "      <th rowspan=\"2\" valign=\"top\">4</th>\n",
       "      <th>1</th>\n",
       "      <td>0.000000</td>\n",
       "      <td>0.000000</td>\n",
       "      <td>1.000000</td>\n",
       "    </tr>\n",
       "    <tr>\n",
       "      <th>2</th>\n",
       "      <td>0.000000</td>\n",
       "      <td>0.000000</td>\n",
       "      <td>1.000000</td>\n",
       "    </tr>\n",
       "    <tr>\n",
       "      <th>5</th>\n",
       "      <th>2</th>\n",
       "      <td>0.000000</td>\n",
       "      <td>0.000000</td>\n",
       "      <td>1.000000</td>\n",
       "    </tr>\n",
       "    <tr>\n",
       "      <th>8</th>\n",
       "      <th>2</th>\n",
       "      <td>0.000000</td>\n",
       "      <td>0.000000</td>\n",
       "      <td>1.000000</td>\n",
       "    </tr>\n",
       "  </tbody>\n",
       "</table>\n",
       "</div>"
      ],
      "text/plain": [
       "pclass                     1         2         3\n",
       "sex    sibsp parch                              \n",
       "female 0     0      0.268041  0.216495  0.515464\n",
       "             1      0.515152  0.242424  0.242424\n",
       "             2      0.206897  0.310345  0.482759\n",
       "             3      0.000000  0.500000  0.500000\n",
       "             4      0.000000  0.000000  1.000000\n",
       "             5      0.000000  0.000000  1.000000\n",
       "       1     0      0.466667  0.200000  0.333333\n",
       "             1      0.279070  0.279070  0.441860\n",
       "             2      0.277778  0.500000  0.222222\n",
       "             3      0.333333  0.333333  0.333333\n",
       "             4      0.500000  0.000000  0.500000\n",
       "             5      0.000000  0.000000  1.000000\n",
       "             6      0.000000  0.000000  1.000000\n",
       "             9      0.000000  0.000000  1.000000\n",
       "       2     0      0.428571  0.000000  0.571429\n",
       "             1      0.000000  0.571429  0.428571\n",
       "             2      0.500000  0.000000  0.500000\n",
       "             3      0.000000  1.000000  0.000000\n",
       "       3     0      0.000000  0.500000  0.500000\n",
       "             1      0.000000  0.000000  1.000000\n",
       "             2      0.600000  0.000000  0.400000\n",
       "       4     2      0.000000  0.000000  1.000000\n",
       "       5     2      0.000000  0.000000  1.000000\n",
       "       8     2      0.000000  0.000000  1.000000\n",
       "male   0     0      0.181208  0.194631  0.624161\n",
       "             1      0.526316  0.105263  0.368421\n",
       "             2      0.357143  0.285714  0.357143\n",
       "       1     0      0.376344  0.258065  0.365591\n",
       "             1      0.234043  0.319149  0.446809\n",
       "             2      0.363636  0.272727  0.363636\n",
       "             3      0.500000  0.000000  0.500000\n",
       "             4      0.500000  0.000000  0.500000\n",
       "             5      0.000000  0.000000  1.000000\n",
       "             6      0.000000  0.000000  1.000000\n",
       "             9      0.000000  0.000000  1.000000\n",
       "       2     0      0.105263  0.263158  0.631579\n",
       "             1      0.000000  1.000000  0.000000\n",
       "             2      0.500000  0.000000  0.500000\n",
       "       3     0      0.000000  0.000000  1.000000\n",
       "             1      0.000000  0.000000  1.000000\n",
       "             2      0.333333  0.000000  0.666667\n",
       "       4     1      0.000000  0.000000  1.000000\n",
       "             2      0.000000  0.000000  1.000000\n",
       "       5     2      0.000000  0.000000  1.000000\n",
       "       8     2      0.000000  0.000000  1.000000"
      ]
     },
     "execution_count": 59,
     "metadata": {},
     "output_type": "execute_result"
    }
   ],
   "source": [
    "conditional_probability(titanic, \"pclass\", [\"sex\", \"sibsp\", \"parch\"], \"name\")"
   ]
  },
  {
   "cell_type": "markdown",
   "metadata": {},
   "source": [
    "So that's kind of hard to look at.\n",
    "There are several problems going on here, all at once.\n",
    "First, some of the events (like [\"male\", 8, 0] are missing and other's like [\"female\", 1, 2] have small counts.\n",
    "Second, while we avoided multiple tables, we still have one huge table.\n",
    "It would be awful to put this in a report and say \"you explore it\".\n",
    "At least one thing we can do is color code the values so that we can make better use of our visual perception."
   ]
  },
  {
   "cell_type": "code",
   "execution_count": 60,
   "metadata": {},
   "outputs": [],
   "source": [
    "import seaborn as sns"
   ]
  },
  {
   "cell_type": "code",
   "execution_count": 61,
   "metadata": {},
   "outputs": [
    {
     "name": "stdout",
     "output_type": "stream",
     "text": [
      "P(pclass|sex, sibsp, parch)\n"
     ]
    },
    {
     "data": {
      "text/html": [
       "<style  type=\"text/css\" >\n",
       "#T_020ee2d6_f068_11ea_9021_acde48001122row0_col0,#T_020ee2d6_f068_11ea_9021_acde48001122row28_col2{\n",
       "            background-color:  #7f7fff;\n",
       "            color:  #000000;\n",
       "        }#T_020ee2d6_f068_11ea_9021_acde48001122row0_col1{\n",
       "            background-color:  #b4b4ff;\n",
       "            color:  #000000;\n",
       "        }#T_020ee2d6_f068_11ea_9021_acde48001122row0_col2{\n",
       "            background-color:  #7070ff;\n",
       "            color:  #000000;\n",
       "        }#T_020ee2d6_f068_11ea_9021_acde48001122row1_col0{\n",
       "            background-color:  #2020ff;\n",
       "            color:  #f1f1f1;\n",
       "        }#T_020ee2d6_f068_11ea_9021_acde48001122row1_col1,#T_020ee2d6_f068_11ea_9021_acde48001122row1_col2{\n",
       "            background-color:  #aeaeff;\n",
       "            color:  #000000;\n",
       "        }#T_020ee2d6_f068_11ea_9021_acde48001122row2_col0{\n",
       "            background-color:  #9696ff;\n",
       "            color:  #000000;\n",
       "        }#T_020ee2d6_f068_11ea_9021_acde48001122row2_col1{\n",
       "            background-color:  #9e9eff;\n",
       "            color:  #000000;\n",
       "        }#T_020ee2d6_f068_11ea_9021_acde48001122row2_col2{\n",
       "            background-color:  #7777ff;\n",
       "            color:  #000000;\n",
       "        }#T_020ee2d6_f068_11ea_9021_acde48001122row3_col0,#T_020ee2d6_f068_11ea_9021_acde48001122row4_col0,#T_020ee2d6_f068_11ea_9021_acde48001122row4_col1,#T_020ee2d6_f068_11ea_9021_acde48001122row5_col0,#T_020ee2d6_f068_11ea_9021_acde48001122row5_col1,#T_020ee2d6_f068_11ea_9021_acde48001122row10_col1,#T_020ee2d6_f068_11ea_9021_acde48001122row11_col0,#T_020ee2d6_f068_11ea_9021_acde48001122row11_col1,#T_020ee2d6_f068_11ea_9021_acde48001122row12_col0,#T_020ee2d6_f068_11ea_9021_acde48001122row12_col1,#T_020ee2d6_f068_11ea_9021_acde48001122row13_col0,#T_020ee2d6_f068_11ea_9021_acde48001122row13_col1,#T_020ee2d6_f068_11ea_9021_acde48001122row14_col1,#T_020ee2d6_f068_11ea_9021_acde48001122row15_col0,#T_020ee2d6_f068_11ea_9021_acde48001122row16_col1,#T_020ee2d6_f068_11ea_9021_acde48001122row17_col0,#T_020ee2d6_f068_11ea_9021_acde48001122row17_col2,#T_020ee2d6_f068_11ea_9021_acde48001122row18_col0,#T_020ee2d6_f068_11ea_9021_acde48001122row19_col0,#T_020ee2d6_f068_11ea_9021_acde48001122row19_col1,#T_020ee2d6_f068_11ea_9021_acde48001122row20_col1,#T_020ee2d6_f068_11ea_9021_acde48001122row21_col0,#T_020ee2d6_f068_11ea_9021_acde48001122row21_col1,#T_020ee2d6_f068_11ea_9021_acde48001122row22_col0,#T_020ee2d6_f068_11ea_9021_acde48001122row22_col1,#T_020ee2d6_f068_11ea_9021_acde48001122row23_col0,#T_020ee2d6_f068_11ea_9021_acde48001122row23_col1,#T_020ee2d6_f068_11ea_9021_acde48001122row30_col1,#T_020ee2d6_f068_11ea_9021_acde48001122row31_col1,#T_020ee2d6_f068_11ea_9021_acde48001122row32_col0,#T_020ee2d6_f068_11ea_9021_acde48001122row32_col1,#T_020ee2d6_f068_11ea_9021_acde48001122row33_col0,#T_020ee2d6_f068_11ea_9021_acde48001122row33_col1,#T_020ee2d6_f068_11ea_9021_acde48001122row34_col0,#T_020ee2d6_f068_11ea_9021_acde48001122row34_col1,#T_020ee2d6_f068_11ea_9021_acde48001122row36_col0,#T_020ee2d6_f068_11ea_9021_acde48001122row36_col2,#T_020ee2d6_f068_11ea_9021_acde48001122row37_col1,#T_020ee2d6_f068_11ea_9021_acde48001122row38_col0,#T_020ee2d6_f068_11ea_9021_acde48001122row38_col1,#T_020ee2d6_f068_11ea_9021_acde48001122row39_col0,#T_020ee2d6_f068_11ea_9021_acde48001122row39_col1,#T_020ee2d6_f068_11ea_9021_acde48001122row40_col1,#T_020ee2d6_f068_11ea_9021_acde48001122row41_col0,#T_020ee2d6_f068_11ea_9021_acde48001122row41_col1,#T_020ee2d6_f068_11ea_9021_acde48001122row42_col0,#T_020ee2d6_f068_11ea_9021_acde48001122row42_col1,#T_020ee2d6_f068_11ea_9021_acde48001122row43_col0,#T_020ee2d6_f068_11ea_9021_acde48001122row43_col1,#T_020ee2d6_f068_11ea_9021_acde48001122row44_col0,#T_020ee2d6_f068_11ea_9021_acde48001122row44_col1{\n",
       "            background-color:  #e5e5ff;\n",
       "            color:  #000000;\n",
       "        }#T_020ee2d6_f068_11ea_9021_acde48001122row3_col1,#T_020ee2d6_f068_11ea_9021_acde48001122row3_col2,#T_020ee2d6_f068_11ea_9021_acde48001122row8_col1,#T_020ee2d6_f068_11ea_9021_acde48001122row10_col2,#T_020ee2d6_f068_11ea_9021_acde48001122row16_col2,#T_020ee2d6_f068_11ea_9021_acde48001122row18_col1,#T_020ee2d6_f068_11ea_9021_acde48001122row18_col2,#T_020ee2d6_f068_11ea_9021_acde48001122row30_col2,#T_020ee2d6_f068_11ea_9021_acde48001122row31_col2,#T_020ee2d6_f068_11ea_9021_acde48001122row37_col2{\n",
       "            background-color:  #7272ff;\n",
       "            color:  #000000;\n",
       "        }#T_020ee2d6_f068_11ea_9021_acde48001122row4_col2,#T_020ee2d6_f068_11ea_9021_acde48001122row5_col2,#T_020ee2d6_f068_11ea_9021_acde48001122row11_col2,#T_020ee2d6_f068_11ea_9021_acde48001122row12_col2,#T_020ee2d6_f068_11ea_9021_acde48001122row13_col2,#T_020ee2d6_f068_11ea_9021_acde48001122row17_col1,#T_020ee2d6_f068_11ea_9021_acde48001122row19_col2,#T_020ee2d6_f068_11ea_9021_acde48001122row20_col0,#T_020ee2d6_f068_11ea_9021_acde48001122row21_col2,#T_020ee2d6_f068_11ea_9021_acde48001122row22_col2,#T_020ee2d6_f068_11ea_9021_acde48001122row23_col2,#T_020ee2d6_f068_11ea_9021_acde48001122row32_col2,#T_020ee2d6_f068_11ea_9021_acde48001122row33_col2,#T_020ee2d6_f068_11ea_9021_acde48001122row34_col2,#T_020ee2d6_f068_11ea_9021_acde48001122row36_col1,#T_020ee2d6_f068_11ea_9021_acde48001122row38_col2,#T_020ee2d6_f068_11ea_9021_acde48001122row39_col2,#T_020ee2d6_f068_11ea_9021_acde48001122row41_col2,#T_020ee2d6_f068_11ea_9021_acde48001122row42_col2,#T_020ee2d6_f068_11ea_9021_acde48001122row43_col2,#T_020ee2d6_f068_11ea_9021_acde48001122row44_col2{\n",
       "            background-color:  #0000ff;\n",
       "            color:  #f1f1f1;\n",
       "        }#T_020ee2d6_f068_11ea_9021_acde48001122row6_col0{\n",
       "            background-color:  #3232ff;\n",
       "            color:  #f1f1f1;\n",
       "        }#T_020ee2d6_f068_11ea_9021_acde48001122row6_col1{\n",
       "            background-color:  #b8b8ff;\n",
       "            color:  #000000;\n",
       "        }#T_020ee2d6_f068_11ea_9021_acde48001122row6_col2,#T_020ee2d6_f068_11ea_9021_acde48001122row9_col1,#T_020ee2d6_f068_11ea_9021_acde48001122row9_col2{\n",
       "            background-color:  #9999ff;\n",
       "            color:  #000000;\n",
       "        }#T_020ee2d6_f068_11ea_9021_acde48001122row7_col0{\n",
       "            background-color:  #7a7aff;\n",
       "            color:  #000000;\n",
       "        }#T_020ee2d6_f068_11ea_9021_acde48001122row7_col1{\n",
       "            background-color:  #a6a6ff;\n",
       "            color:  #000000;\n",
       "        }#T_020ee2d6_f068_11ea_9021_acde48001122row7_col2{\n",
       "            background-color:  #8080ff;\n",
       "            color:  #000000;\n",
       "        }#T_020ee2d6_f068_11ea_9021_acde48001122row8_col0{\n",
       "            background-color:  #7b7bff;\n",
       "            color:  #000000;\n",
       "        }#T_020ee2d6_f068_11ea_9021_acde48001122row8_col2{\n",
       "            background-color:  #b3b3ff;\n",
       "            color:  #000000;\n",
       "        }#T_020ee2d6_f068_11ea_9021_acde48001122row9_col0,#T_020ee2d6_f068_11ea_9021_acde48001122row40_col0{\n",
       "            background-color:  #6666ff;\n",
       "            color:  #000000;\n",
       "        }#T_020ee2d6_f068_11ea_9021_acde48001122row10_col0,#T_020ee2d6_f068_11ea_9021_acde48001122row16_col0,#T_020ee2d6_f068_11ea_9021_acde48001122row30_col0,#T_020ee2d6_f068_11ea_9021_acde48001122row31_col0,#T_020ee2d6_f068_11ea_9021_acde48001122row37_col0{\n",
       "            background-color:  #2626ff;\n",
       "            color:  #f1f1f1;\n",
       "        }#T_020ee2d6_f068_11ea_9021_acde48001122row14_col0{\n",
       "            background-color:  #4242ff;\n",
       "            color:  #f1f1f1;\n",
       "        }#T_020ee2d6_f068_11ea_9021_acde48001122row14_col2,#T_020ee2d6_f068_11ea_9021_acde48001122row15_col1{\n",
       "            background-color:  #6262ff;\n",
       "            color:  #000000;\n",
       "        }#T_020ee2d6_f068_11ea_9021_acde48001122row15_col2{\n",
       "            background-color:  #8383ff;\n",
       "            color:  #000000;\n",
       "        }#T_020ee2d6_f068_11ea_9021_acde48001122row20_col2{\n",
       "            background-color:  #8a8aff;\n",
       "            color:  #000000;\n",
       "        }#T_020ee2d6_f068_11ea_9021_acde48001122row24_col0{\n",
       "            background-color:  #a0a0ff;\n",
       "            color:  #000000;\n",
       "        }#T_020ee2d6_f068_11ea_9021_acde48001122row24_col1{\n",
       "            background-color:  #b9b9ff;\n",
       "            color:  #000000;\n",
       "        }#T_020ee2d6_f068_11ea_9021_acde48001122row24_col2,#T_020ee2d6_f068_11ea_9021_acde48001122row27_col0{\n",
       "            background-color:  #5656ff;\n",
       "            color:  #f1f1f1;\n",
       "        }#T_020ee2d6_f068_11ea_9021_acde48001122row25_col0{\n",
       "            background-color:  #1c1cff;\n",
       "            color:  #f1f1f1;\n",
       "        }#T_020ee2d6_f068_11ea_9021_acde48001122row25_col1{\n",
       "            background-color:  #ceceff;\n",
       "            color:  #000000;\n",
       "        }#T_020ee2d6_f068_11ea_9021_acde48001122row25_col2{\n",
       "            background-color:  #9191ff;\n",
       "            color:  #000000;\n",
       "        }#T_020ee2d6_f068_11ea_9021_acde48001122row26_col0{\n",
       "            background-color:  #5d5dff;\n",
       "            color:  #000000;\n",
       "        }#T_020ee2d6_f068_11ea_9021_acde48001122row26_col1{\n",
       "            background-color:  #a4a4ff;\n",
       "            color:  #000000;\n",
       "        }#T_020ee2d6_f068_11ea_9021_acde48001122row26_col2{\n",
       "            background-color:  #9494ff;\n",
       "            color:  #000000;\n",
       "        }#T_020ee2d6_f068_11ea_9021_acde48001122row27_col1{\n",
       "            background-color:  #aaaaff;\n",
       "            color:  #000000;\n",
       "        }#T_020ee2d6_f068_11ea_9021_acde48001122row27_col2,#T_020ee2d6_f068_11ea_9021_acde48001122row29_col2{\n",
       "            background-color:  #9292ff;\n",
       "            color:  #000000;\n",
       "        }#T_020ee2d6_f068_11ea_9021_acde48001122row28_col0{\n",
       "            background-color:  #8c8cff;\n",
       "            color:  #000000;\n",
       "        }#T_020ee2d6_f068_11ea_9021_acde48001122row28_col1{\n",
       "            background-color:  #9d9dff;\n",
       "            color:  #000000;\n",
       "        }#T_020ee2d6_f068_11ea_9021_acde48001122row29_col0{\n",
       "            background-color:  #5a5aff;\n",
       "            color:  #f1f1f1;\n",
       "        }#T_020ee2d6_f068_11ea_9021_acde48001122row29_col1{\n",
       "            background-color:  #a7a7ff;\n",
       "            color:  #000000;\n",
       "        }#T_020ee2d6_f068_11ea_9021_acde48001122row35_col0{\n",
       "            background-color:  #bebeff;\n",
       "            color:  #000000;\n",
       "        }#T_020ee2d6_f068_11ea_9021_acde48001122row35_col1{\n",
       "            background-color:  #a9a9ff;\n",
       "            color:  #000000;\n",
       "        }#T_020ee2d6_f068_11ea_9021_acde48001122row35_col2{\n",
       "            background-color:  #5555ff;\n",
       "            color:  #f1f1f1;\n",
       "        }#T_020ee2d6_f068_11ea_9021_acde48001122row40_col2{\n",
       "            background-color:  #4d4dff;\n",
       "            color:  #f1f1f1;\n",
       "        }</style><table id=\"T_020ee2d6_f068_11ea_9021_acde48001122\" ><thead>    <tr>        <th class=\"blank\" ></th>        <th class=\"blank\" ></th>        <th class=\"index_name level0\" >pclass</th>        <th class=\"col_heading level0 col0\" >1</th>        <th class=\"col_heading level0 col1\" >2</th>        <th class=\"col_heading level0 col2\" >3</th>    </tr>    <tr>        <th class=\"index_name level0\" >sex</th>        <th class=\"index_name level1\" >sibsp</th>        <th class=\"index_name level2\" >parch</th>        <th class=\"blank\" ></th>        <th class=\"blank\" ></th>        <th class=\"blank\" ></th>    </tr></thead><tbody>\n",
       "                <tr>\n",
       "                        <th id=\"T_020ee2d6_f068_11ea_9021_acde48001122level0_row0\" class=\"row_heading level0 row0\" rowspan=24>female</th>\n",
       "                        <th id=\"T_020ee2d6_f068_11ea_9021_acde48001122level1_row0\" class=\"row_heading level1 row0\" rowspan=6>0</th>\n",
       "                        <th id=\"T_020ee2d6_f068_11ea_9021_acde48001122level2_row0\" class=\"row_heading level2 row0\" >0</th>\n",
       "                        <td id=\"T_020ee2d6_f068_11ea_9021_acde48001122row0_col0\" class=\"data row0 col0\" >0.268041</td>\n",
       "                        <td id=\"T_020ee2d6_f068_11ea_9021_acde48001122row0_col1\" class=\"data row0 col1\" >0.216495</td>\n",
       "                        <td id=\"T_020ee2d6_f068_11ea_9021_acde48001122row0_col2\" class=\"data row0 col2\" >0.515464</td>\n",
       "            </tr>\n",
       "            <tr>\n",
       "                                        <th id=\"T_020ee2d6_f068_11ea_9021_acde48001122level2_row1\" class=\"row_heading level2 row1\" >1</th>\n",
       "                        <td id=\"T_020ee2d6_f068_11ea_9021_acde48001122row1_col0\" class=\"data row1 col0\" >0.515152</td>\n",
       "                        <td id=\"T_020ee2d6_f068_11ea_9021_acde48001122row1_col1\" class=\"data row1 col1\" >0.242424</td>\n",
       "                        <td id=\"T_020ee2d6_f068_11ea_9021_acde48001122row1_col2\" class=\"data row1 col2\" >0.242424</td>\n",
       "            </tr>\n",
       "            <tr>\n",
       "                                        <th id=\"T_020ee2d6_f068_11ea_9021_acde48001122level2_row2\" class=\"row_heading level2 row2\" >2</th>\n",
       "                        <td id=\"T_020ee2d6_f068_11ea_9021_acde48001122row2_col0\" class=\"data row2 col0\" >0.206897</td>\n",
       "                        <td id=\"T_020ee2d6_f068_11ea_9021_acde48001122row2_col1\" class=\"data row2 col1\" >0.310345</td>\n",
       "                        <td id=\"T_020ee2d6_f068_11ea_9021_acde48001122row2_col2\" class=\"data row2 col2\" >0.482759</td>\n",
       "            </tr>\n",
       "            <tr>\n",
       "                                        <th id=\"T_020ee2d6_f068_11ea_9021_acde48001122level2_row3\" class=\"row_heading level2 row3\" >3</th>\n",
       "                        <td id=\"T_020ee2d6_f068_11ea_9021_acde48001122row3_col0\" class=\"data row3 col0\" >0.000000</td>\n",
       "                        <td id=\"T_020ee2d6_f068_11ea_9021_acde48001122row3_col1\" class=\"data row3 col1\" >0.500000</td>\n",
       "                        <td id=\"T_020ee2d6_f068_11ea_9021_acde48001122row3_col2\" class=\"data row3 col2\" >0.500000</td>\n",
       "            </tr>\n",
       "            <tr>\n",
       "                                        <th id=\"T_020ee2d6_f068_11ea_9021_acde48001122level2_row4\" class=\"row_heading level2 row4\" >4</th>\n",
       "                        <td id=\"T_020ee2d6_f068_11ea_9021_acde48001122row4_col0\" class=\"data row4 col0\" >0.000000</td>\n",
       "                        <td id=\"T_020ee2d6_f068_11ea_9021_acde48001122row4_col1\" class=\"data row4 col1\" >0.000000</td>\n",
       "                        <td id=\"T_020ee2d6_f068_11ea_9021_acde48001122row4_col2\" class=\"data row4 col2\" >1.000000</td>\n",
       "            </tr>\n",
       "            <tr>\n",
       "                                        <th id=\"T_020ee2d6_f068_11ea_9021_acde48001122level2_row5\" class=\"row_heading level2 row5\" >5</th>\n",
       "                        <td id=\"T_020ee2d6_f068_11ea_9021_acde48001122row5_col0\" class=\"data row5 col0\" >0.000000</td>\n",
       "                        <td id=\"T_020ee2d6_f068_11ea_9021_acde48001122row5_col1\" class=\"data row5 col1\" >0.000000</td>\n",
       "                        <td id=\"T_020ee2d6_f068_11ea_9021_acde48001122row5_col2\" class=\"data row5 col2\" >1.000000</td>\n",
       "            </tr>\n",
       "            <tr>\n",
       "                                <th id=\"T_020ee2d6_f068_11ea_9021_acde48001122level1_row6\" class=\"row_heading level1 row6\" rowspan=8>1</th>\n",
       "                        <th id=\"T_020ee2d6_f068_11ea_9021_acde48001122level2_row6\" class=\"row_heading level2 row6\" >0</th>\n",
       "                        <td id=\"T_020ee2d6_f068_11ea_9021_acde48001122row6_col0\" class=\"data row6 col0\" >0.466667</td>\n",
       "                        <td id=\"T_020ee2d6_f068_11ea_9021_acde48001122row6_col1\" class=\"data row6 col1\" >0.200000</td>\n",
       "                        <td id=\"T_020ee2d6_f068_11ea_9021_acde48001122row6_col2\" class=\"data row6 col2\" >0.333333</td>\n",
       "            </tr>\n",
       "            <tr>\n",
       "                                        <th id=\"T_020ee2d6_f068_11ea_9021_acde48001122level2_row7\" class=\"row_heading level2 row7\" >1</th>\n",
       "                        <td id=\"T_020ee2d6_f068_11ea_9021_acde48001122row7_col0\" class=\"data row7 col0\" >0.279070</td>\n",
       "                        <td id=\"T_020ee2d6_f068_11ea_9021_acde48001122row7_col1\" class=\"data row7 col1\" >0.279070</td>\n",
       "                        <td id=\"T_020ee2d6_f068_11ea_9021_acde48001122row7_col2\" class=\"data row7 col2\" >0.441860</td>\n",
       "            </tr>\n",
       "            <tr>\n",
       "                                        <th id=\"T_020ee2d6_f068_11ea_9021_acde48001122level2_row8\" class=\"row_heading level2 row8\" >2</th>\n",
       "                        <td id=\"T_020ee2d6_f068_11ea_9021_acde48001122row8_col0\" class=\"data row8 col0\" >0.277778</td>\n",
       "                        <td id=\"T_020ee2d6_f068_11ea_9021_acde48001122row8_col1\" class=\"data row8 col1\" >0.500000</td>\n",
       "                        <td id=\"T_020ee2d6_f068_11ea_9021_acde48001122row8_col2\" class=\"data row8 col2\" >0.222222</td>\n",
       "            </tr>\n",
       "            <tr>\n",
       "                                        <th id=\"T_020ee2d6_f068_11ea_9021_acde48001122level2_row9\" class=\"row_heading level2 row9\" >3</th>\n",
       "                        <td id=\"T_020ee2d6_f068_11ea_9021_acde48001122row9_col0\" class=\"data row9 col0\" >0.333333</td>\n",
       "                        <td id=\"T_020ee2d6_f068_11ea_9021_acde48001122row9_col1\" class=\"data row9 col1\" >0.333333</td>\n",
       "                        <td id=\"T_020ee2d6_f068_11ea_9021_acde48001122row9_col2\" class=\"data row9 col2\" >0.333333</td>\n",
       "            </tr>\n",
       "            <tr>\n",
       "                                        <th id=\"T_020ee2d6_f068_11ea_9021_acde48001122level2_row10\" class=\"row_heading level2 row10\" >4</th>\n",
       "                        <td id=\"T_020ee2d6_f068_11ea_9021_acde48001122row10_col0\" class=\"data row10 col0\" >0.500000</td>\n",
       "                        <td id=\"T_020ee2d6_f068_11ea_9021_acde48001122row10_col1\" class=\"data row10 col1\" >0.000000</td>\n",
       "                        <td id=\"T_020ee2d6_f068_11ea_9021_acde48001122row10_col2\" class=\"data row10 col2\" >0.500000</td>\n",
       "            </tr>\n",
       "            <tr>\n",
       "                                        <th id=\"T_020ee2d6_f068_11ea_9021_acde48001122level2_row11\" class=\"row_heading level2 row11\" >5</th>\n",
       "                        <td id=\"T_020ee2d6_f068_11ea_9021_acde48001122row11_col0\" class=\"data row11 col0\" >0.000000</td>\n",
       "                        <td id=\"T_020ee2d6_f068_11ea_9021_acde48001122row11_col1\" class=\"data row11 col1\" >0.000000</td>\n",
       "                        <td id=\"T_020ee2d6_f068_11ea_9021_acde48001122row11_col2\" class=\"data row11 col2\" >1.000000</td>\n",
       "            </tr>\n",
       "            <tr>\n",
       "                                        <th id=\"T_020ee2d6_f068_11ea_9021_acde48001122level2_row12\" class=\"row_heading level2 row12\" >6</th>\n",
       "                        <td id=\"T_020ee2d6_f068_11ea_9021_acde48001122row12_col0\" class=\"data row12 col0\" >0.000000</td>\n",
       "                        <td id=\"T_020ee2d6_f068_11ea_9021_acde48001122row12_col1\" class=\"data row12 col1\" >0.000000</td>\n",
       "                        <td id=\"T_020ee2d6_f068_11ea_9021_acde48001122row12_col2\" class=\"data row12 col2\" >1.000000</td>\n",
       "            </tr>\n",
       "            <tr>\n",
       "                                        <th id=\"T_020ee2d6_f068_11ea_9021_acde48001122level2_row13\" class=\"row_heading level2 row13\" >9</th>\n",
       "                        <td id=\"T_020ee2d6_f068_11ea_9021_acde48001122row13_col0\" class=\"data row13 col0\" >0.000000</td>\n",
       "                        <td id=\"T_020ee2d6_f068_11ea_9021_acde48001122row13_col1\" class=\"data row13 col1\" >0.000000</td>\n",
       "                        <td id=\"T_020ee2d6_f068_11ea_9021_acde48001122row13_col2\" class=\"data row13 col2\" >1.000000</td>\n",
       "            </tr>\n",
       "            <tr>\n",
       "                                <th id=\"T_020ee2d6_f068_11ea_9021_acde48001122level1_row14\" class=\"row_heading level1 row14\" rowspan=4>2</th>\n",
       "                        <th id=\"T_020ee2d6_f068_11ea_9021_acde48001122level2_row14\" class=\"row_heading level2 row14\" >0</th>\n",
       "                        <td id=\"T_020ee2d6_f068_11ea_9021_acde48001122row14_col0\" class=\"data row14 col0\" >0.428571</td>\n",
       "                        <td id=\"T_020ee2d6_f068_11ea_9021_acde48001122row14_col1\" class=\"data row14 col1\" >0.000000</td>\n",
       "                        <td id=\"T_020ee2d6_f068_11ea_9021_acde48001122row14_col2\" class=\"data row14 col2\" >0.571429</td>\n",
       "            </tr>\n",
       "            <tr>\n",
       "                                        <th id=\"T_020ee2d6_f068_11ea_9021_acde48001122level2_row15\" class=\"row_heading level2 row15\" >1</th>\n",
       "                        <td id=\"T_020ee2d6_f068_11ea_9021_acde48001122row15_col0\" class=\"data row15 col0\" >0.000000</td>\n",
       "                        <td id=\"T_020ee2d6_f068_11ea_9021_acde48001122row15_col1\" class=\"data row15 col1\" >0.571429</td>\n",
       "                        <td id=\"T_020ee2d6_f068_11ea_9021_acde48001122row15_col2\" class=\"data row15 col2\" >0.428571</td>\n",
       "            </tr>\n",
       "            <tr>\n",
       "                                        <th id=\"T_020ee2d6_f068_11ea_9021_acde48001122level2_row16\" class=\"row_heading level2 row16\" >2</th>\n",
       "                        <td id=\"T_020ee2d6_f068_11ea_9021_acde48001122row16_col0\" class=\"data row16 col0\" >0.500000</td>\n",
       "                        <td id=\"T_020ee2d6_f068_11ea_9021_acde48001122row16_col1\" class=\"data row16 col1\" >0.000000</td>\n",
       "                        <td id=\"T_020ee2d6_f068_11ea_9021_acde48001122row16_col2\" class=\"data row16 col2\" >0.500000</td>\n",
       "            </tr>\n",
       "            <tr>\n",
       "                                        <th id=\"T_020ee2d6_f068_11ea_9021_acde48001122level2_row17\" class=\"row_heading level2 row17\" >3</th>\n",
       "                        <td id=\"T_020ee2d6_f068_11ea_9021_acde48001122row17_col0\" class=\"data row17 col0\" >0.000000</td>\n",
       "                        <td id=\"T_020ee2d6_f068_11ea_9021_acde48001122row17_col1\" class=\"data row17 col1\" >1.000000</td>\n",
       "                        <td id=\"T_020ee2d6_f068_11ea_9021_acde48001122row17_col2\" class=\"data row17 col2\" >0.000000</td>\n",
       "            </tr>\n",
       "            <tr>\n",
       "                                <th id=\"T_020ee2d6_f068_11ea_9021_acde48001122level1_row18\" class=\"row_heading level1 row18\" rowspan=3>3</th>\n",
       "                        <th id=\"T_020ee2d6_f068_11ea_9021_acde48001122level2_row18\" class=\"row_heading level2 row18\" >0</th>\n",
       "                        <td id=\"T_020ee2d6_f068_11ea_9021_acde48001122row18_col0\" class=\"data row18 col0\" >0.000000</td>\n",
       "                        <td id=\"T_020ee2d6_f068_11ea_9021_acde48001122row18_col1\" class=\"data row18 col1\" >0.500000</td>\n",
       "                        <td id=\"T_020ee2d6_f068_11ea_9021_acde48001122row18_col2\" class=\"data row18 col2\" >0.500000</td>\n",
       "            </tr>\n",
       "            <tr>\n",
       "                                        <th id=\"T_020ee2d6_f068_11ea_9021_acde48001122level2_row19\" class=\"row_heading level2 row19\" >1</th>\n",
       "                        <td id=\"T_020ee2d6_f068_11ea_9021_acde48001122row19_col0\" class=\"data row19 col0\" >0.000000</td>\n",
       "                        <td id=\"T_020ee2d6_f068_11ea_9021_acde48001122row19_col1\" class=\"data row19 col1\" >0.000000</td>\n",
       "                        <td id=\"T_020ee2d6_f068_11ea_9021_acde48001122row19_col2\" class=\"data row19 col2\" >1.000000</td>\n",
       "            </tr>\n",
       "            <tr>\n",
       "                                        <th id=\"T_020ee2d6_f068_11ea_9021_acde48001122level2_row20\" class=\"row_heading level2 row20\" >2</th>\n",
       "                        <td id=\"T_020ee2d6_f068_11ea_9021_acde48001122row20_col0\" class=\"data row20 col0\" >0.600000</td>\n",
       "                        <td id=\"T_020ee2d6_f068_11ea_9021_acde48001122row20_col1\" class=\"data row20 col1\" >0.000000</td>\n",
       "                        <td id=\"T_020ee2d6_f068_11ea_9021_acde48001122row20_col2\" class=\"data row20 col2\" >0.400000</td>\n",
       "            </tr>\n",
       "            <tr>\n",
       "                                <th id=\"T_020ee2d6_f068_11ea_9021_acde48001122level1_row21\" class=\"row_heading level1 row21\" >4</th>\n",
       "                        <th id=\"T_020ee2d6_f068_11ea_9021_acde48001122level2_row21\" class=\"row_heading level2 row21\" >2</th>\n",
       "                        <td id=\"T_020ee2d6_f068_11ea_9021_acde48001122row21_col0\" class=\"data row21 col0\" >0.000000</td>\n",
       "                        <td id=\"T_020ee2d6_f068_11ea_9021_acde48001122row21_col1\" class=\"data row21 col1\" >0.000000</td>\n",
       "                        <td id=\"T_020ee2d6_f068_11ea_9021_acde48001122row21_col2\" class=\"data row21 col2\" >1.000000</td>\n",
       "            </tr>\n",
       "            <tr>\n",
       "                                <th id=\"T_020ee2d6_f068_11ea_9021_acde48001122level1_row22\" class=\"row_heading level1 row22\" >5</th>\n",
       "                        <th id=\"T_020ee2d6_f068_11ea_9021_acde48001122level2_row22\" class=\"row_heading level2 row22\" >2</th>\n",
       "                        <td id=\"T_020ee2d6_f068_11ea_9021_acde48001122row22_col0\" class=\"data row22 col0\" >0.000000</td>\n",
       "                        <td id=\"T_020ee2d6_f068_11ea_9021_acde48001122row22_col1\" class=\"data row22 col1\" >0.000000</td>\n",
       "                        <td id=\"T_020ee2d6_f068_11ea_9021_acde48001122row22_col2\" class=\"data row22 col2\" >1.000000</td>\n",
       "            </tr>\n",
       "            <tr>\n",
       "                                <th id=\"T_020ee2d6_f068_11ea_9021_acde48001122level1_row23\" class=\"row_heading level1 row23\" >8</th>\n",
       "                        <th id=\"T_020ee2d6_f068_11ea_9021_acde48001122level2_row23\" class=\"row_heading level2 row23\" >2</th>\n",
       "                        <td id=\"T_020ee2d6_f068_11ea_9021_acde48001122row23_col0\" class=\"data row23 col0\" >0.000000</td>\n",
       "                        <td id=\"T_020ee2d6_f068_11ea_9021_acde48001122row23_col1\" class=\"data row23 col1\" >0.000000</td>\n",
       "                        <td id=\"T_020ee2d6_f068_11ea_9021_acde48001122row23_col2\" class=\"data row23 col2\" >1.000000</td>\n",
       "            </tr>\n",
       "            <tr>\n",
       "                        <th id=\"T_020ee2d6_f068_11ea_9021_acde48001122level0_row24\" class=\"row_heading level0 row24\" rowspan=21>male</th>\n",
       "                        <th id=\"T_020ee2d6_f068_11ea_9021_acde48001122level1_row24\" class=\"row_heading level1 row24\" rowspan=3>0</th>\n",
       "                        <th id=\"T_020ee2d6_f068_11ea_9021_acde48001122level2_row24\" class=\"row_heading level2 row24\" >0</th>\n",
       "                        <td id=\"T_020ee2d6_f068_11ea_9021_acde48001122row24_col0\" class=\"data row24 col0\" >0.181208</td>\n",
       "                        <td id=\"T_020ee2d6_f068_11ea_9021_acde48001122row24_col1\" class=\"data row24 col1\" >0.194631</td>\n",
       "                        <td id=\"T_020ee2d6_f068_11ea_9021_acde48001122row24_col2\" class=\"data row24 col2\" >0.624161</td>\n",
       "            </tr>\n",
       "            <tr>\n",
       "                                        <th id=\"T_020ee2d6_f068_11ea_9021_acde48001122level2_row25\" class=\"row_heading level2 row25\" >1</th>\n",
       "                        <td id=\"T_020ee2d6_f068_11ea_9021_acde48001122row25_col0\" class=\"data row25 col0\" >0.526316</td>\n",
       "                        <td id=\"T_020ee2d6_f068_11ea_9021_acde48001122row25_col1\" class=\"data row25 col1\" >0.105263</td>\n",
       "                        <td id=\"T_020ee2d6_f068_11ea_9021_acde48001122row25_col2\" class=\"data row25 col2\" >0.368421</td>\n",
       "            </tr>\n",
       "            <tr>\n",
       "                                        <th id=\"T_020ee2d6_f068_11ea_9021_acde48001122level2_row26\" class=\"row_heading level2 row26\" >2</th>\n",
       "                        <td id=\"T_020ee2d6_f068_11ea_9021_acde48001122row26_col0\" class=\"data row26 col0\" >0.357143</td>\n",
       "                        <td id=\"T_020ee2d6_f068_11ea_9021_acde48001122row26_col1\" class=\"data row26 col1\" >0.285714</td>\n",
       "                        <td id=\"T_020ee2d6_f068_11ea_9021_acde48001122row26_col2\" class=\"data row26 col2\" >0.357143</td>\n",
       "            </tr>\n",
       "            <tr>\n",
       "                                <th id=\"T_020ee2d6_f068_11ea_9021_acde48001122level1_row27\" class=\"row_heading level1 row27\" rowspan=8>1</th>\n",
       "                        <th id=\"T_020ee2d6_f068_11ea_9021_acde48001122level2_row27\" class=\"row_heading level2 row27\" >0</th>\n",
       "                        <td id=\"T_020ee2d6_f068_11ea_9021_acde48001122row27_col0\" class=\"data row27 col0\" >0.376344</td>\n",
       "                        <td id=\"T_020ee2d6_f068_11ea_9021_acde48001122row27_col1\" class=\"data row27 col1\" >0.258065</td>\n",
       "                        <td id=\"T_020ee2d6_f068_11ea_9021_acde48001122row27_col2\" class=\"data row27 col2\" >0.365591</td>\n",
       "            </tr>\n",
       "            <tr>\n",
       "                                        <th id=\"T_020ee2d6_f068_11ea_9021_acde48001122level2_row28\" class=\"row_heading level2 row28\" >1</th>\n",
       "                        <td id=\"T_020ee2d6_f068_11ea_9021_acde48001122row28_col0\" class=\"data row28 col0\" >0.234043</td>\n",
       "                        <td id=\"T_020ee2d6_f068_11ea_9021_acde48001122row28_col1\" class=\"data row28 col1\" >0.319149</td>\n",
       "                        <td id=\"T_020ee2d6_f068_11ea_9021_acde48001122row28_col2\" class=\"data row28 col2\" >0.446809</td>\n",
       "            </tr>\n",
       "            <tr>\n",
       "                                        <th id=\"T_020ee2d6_f068_11ea_9021_acde48001122level2_row29\" class=\"row_heading level2 row29\" >2</th>\n",
       "                        <td id=\"T_020ee2d6_f068_11ea_9021_acde48001122row29_col0\" class=\"data row29 col0\" >0.363636</td>\n",
       "                        <td id=\"T_020ee2d6_f068_11ea_9021_acde48001122row29_col1\" class=\"data row29 col1\" >0.272727</td>\n",
       "                        <td id=\"T_020ee2d6_f068_11ea_9021_acde48001122row29_col2\" class=\"data row29 col2\" >0.363636</td>\n",
       "            </tr>\n",
       "            <tr>\n",
       "                                        <th id=\"T_020ee2d6_f068_11ea_9021_acde48001122level2_row30\" class=\"row_heading level2 row30\" >3</th>\n",
       "                        <td id=\"T_020ee2d6_f068_11ea_9021_acde48001122row30_col0\" class=\"data row30 col0\" >0.500000</td>\n",
       "                        <td id=\"T_020ee2d6_f068_11ea_9021_acde48001122row30_col1\" class=\"data row30 col1\" >0.000000</td>\n",
       "                        <td id=\"T_020ee2d6_f068_11ea_9021_acde48001122row30_col2\" class=\"data row30 col2\" >0.500000</td>\n",
       "            </tr>\n",
       "            <tr>\n",
       "                                        <th id=\"T_020ee2d6_f068_11ea_9021_acde48001122level2_row31\" class=\"row_heading level2 row31\" >4</th>\n",
       "                        <td id=\"T_020ee2d6_f068_11ea_9021_acde48001122row31_col0\" class=\"data row31 col0\" >0.500000</td>\n",
       "                        <td id=\"T_020ee2d6_f068_11ea_9021_acde48001122row31_col1\" class=\"data row31 col1\" >0.000000</td>\n",
       "                        <td id=\"T_020ee2d6_f068_11ea_9021_acde48001122row31_col2\" class=\"data row31 col2\" >0.500000</td>\n",
       "            </tr>\n",
       "            <tr>\n",
       "                                        <th id=\"T_020ee2d6_f068_11ea_9021_acde48001122level2_row32\" class=\"row_heading level2 row32\" >5</th>\n",
       "                        <td id=\"T_020ee2d6_f068_11ea_9021_acde48001122row32_col0\" class=\"data row32 col0\" >0.000000</td>\n",
       "                        <td id=\"T_020ee2d6_f068_11ea_9021_acde48001122row32_col1\" class=\"data row32 col1\" >0.000000</td>\n",
       "                        <td id=\"T_020ee2d6_f068_11ea_9021_acde48001122row32_col2\" class=\"data row32 col2\" >1.000000</td>\n",
       "            </tr>\n",
       "            <tr>\n",
       "                                        <th id=\"T_020ee2d6_f068_11ea_9021_acde48001122level2_row33\" class=\"row_heading level2 row33\" >6</th>\n",
       "                        <td id=\"T_020ee2d6_f068_11ea_9021_acde48001122row33_col0\" class=\"data row33 col0\" >0.000000</td>\n",
       "                        <td id=\"T_020ee2d6_f068_11ea_9021_acde48001122row33_col1\" class=\"data row33 col1\" >0.000000</td>\n",
       "                        <td id=\"T_020ee2d6_f068_11ea_9021_acde48001122row33_col2\" class=\"data row33 col2\" >1.000000</td>\n",
       "            </tr>\n",
       "            <tr>\n",
       "                                        <th id=\"T_020ee2d6_f068_11ea_9021_acde48001122level2_row34\" class=\"row_heading level2 row34\" >9</th>\n",
       "                        <td id=\"T_020ee2d6_f068_11ea_9021_acde48001122row34_col0\" class=\"data row34 col0\" >0.000000</td>\n",
       "                        <td id=\"T_020ee2d6_f068_11ea_9021_acde48001122row34_col1\" class=\"data row34 col1\" >0.000000</td>\n",
       "                        <td id=\"T_020ee2d6_f068_11ea_9021_acde48001122row34_col2\" class=\"data row34 col2\" >1.000000</td>\n",
       "            </tr>\n",
       "            <tr>\n",
       "                                <th id=\"T_020ee2d6_f068_11ea_9021_acde48001122level1_row35\" class=\"row_heading level1 row35\" rowspan=3>2</th>\n",
       "                        <th id=\"T_020ee2d6_f068_11ea_9021_acde48001122level2_row35\" class=\"row_heading level2 row35\" >0</th>\n",
       "                        <td id=\"T_020ee2d6_f068_11ea_9021_acde48001122row35_col0\" class=\"data row35 col0\" >0.105263</td>\n",
       "                        <td id=\"T_020ee2d6_f068_11ea_9021_acde48001122row35_col1\" class=\"data row35 col1\" >0.263158</td>\n",
       "                        <td id=\"T_020ee2d6_f068_11ea_9021_acde48001122row35_col2\" class=\"data row35 col2\" >0.631579</td>\n",
       "            </tr>\n",
       "            <tr>\n",
       "                                        <th id=\"T_020ee2d6_f068_11ea_9021_acde48001122level2_row36\" class=\"row_heading level2 row36\" >1</th>\n",
       "                        <td id=\"T_020ee2d6_f068_11ea_9021_acde48001122row36_col0\" class=\"data row36 col0\" >0.000000</td>\n",
       "                        <td id=\"T_020ee2d6_f068_11ea_9021_acde48001122row36_col1\" class=\"data row36 col1\" >1.000000</td>\n",
       "                        <td id=\"T_020ee2d6_f068_11ea_9021_acde48001122row36_col2\" class=\"data row36 col2\" >0.000000</td>\n",
       "            </tr>\n",
       "            <tr>\n",
       "                                        <th id=\"T_020ee2d6_f068_11ea_9021_acde48001122level2_row37\" class=\"row_heading level2 row37\" >2</th>\n",
       "                        <td id=\"T_020ee2d6_f068_11ea_9021_acde48001122row37_col0\" class=\"data row37 col0\" >0.500000</td>\n",
       "                        <td id=\"T_020ee2d6_f068_11ea_9021_acde48001122row37_col1\" class=\"data row37 col1\" >0.000000</td>\n",
       "                        <td id=\"T_020ee2d6_f068_11ea_9021_acde48001122row37_col2\" class=\"data row37 col2\" >0.500000</td>\n",
       "            </tr>\n",
       "            <tr>\n",
       "                                <th id=\"T_020ee2d6_f068_11ea_9021_acde48001122level1_row38\" class=\"row_heading level1 row38\" rowspan=3>3</th>\n",
       "                        <th id=\"T_020ee2d6_f068_11ea_9021_acde48001122level2_row38\" class=\"row_heading level2 row38\" >0</th>\n",
       "                        <td id=\"T_020ee2d6_f068_11ea_9021_acde48001122row38_col0\" class=\"data row38 col0\" >0.000000</td>\n",
       "                        <td id=\"T_020ee2d6_f068_11ea_9021_acde48001122row38_col1\" class=\"data row38 col1\" >0.000000</td>\n",
       "                        <td id=\"T_020ee2d6_f068_11ea_9021_acde48001122row38_col2\" class=\"data row38 col2\" >1.000000</td>\n",
       "            </tr>\n",
       "            <tr>\n",
       "                                        <th id=\"T_020ee2d6_f068_11ea_9021_acde48001122level2_row39\" class=\"row_heading level2 row39\" >1</th>\n",
       "                        <td id=\"T_020ee2d6_f068_11ea_9021_acde48001122row39_col0\" class=\"data row39 col0\" >0.000000</td>\n",
       "                        <td id=\"T_020ee2d6_f068_11ea_9021_acde48001122row39_col1\" class=\"data row39 col1\" >0.000000</td>\n",
       "                        <td id=\"T_020ee2d6_f068_11ea_9021_acde48001122row39_col2\" class=\"data row39 col2\" >1.000000</td>\n",
       "            </tr>\n",
       "            <tr>\n",
       "                                        <th id=\"T_020ee2d6_f068_11ea_9021_acde48001122level2_row40\" class=\"row_heading level2 row40\" >2</th>\n",
       "                        <td id=\"T_020ee2d6_f068_11ea_9021_acde48001122row40_col0\" class=\"data row40 col0\" >0.333333</td>\n",
       "                        <td id=\"T_020ee2d6_f068_11ea_9021_acde48001122row40_col1\" class=\"data row40 col1\" >0.000000</td>\n",
       "                        <td id=\"T_020ee2d6_f068_11ea_9021_acde48001122row40_col2\" class=\"data row40 col2\" >0.666667</td>\n",
       "            </tr>\n",
       "            <tr>\n",
       "                                <th id=\"T_020ee2d6_f068_11ea_9021_acde48001122level1_row41\" class=\"row_heading level1 row41\" rowspan=2>4</th>\n",
       "                        <th id=\"T_020ee2d6_f068_11ea_9021_acde48001122level2_row41\" class=\"row_heading level2 row41\" >1</th>\n",
       "                        <td id=\"T_020ee2d6_f068_11ea_9021_acde48001122row41_col0\" class=\"data row41 col0\" >0.000000</td>\n",
       "                        <td id=\"T_020ee2d6_f068_11ea_9021_acde48001122row41_col1\" class=\"data row41 col1\" >0.000000</td>\n",
       "                        <td id=\"T_020ee2d6_f068_11ea_9021_acde48001122row41_col2\" class=\"data row41 col2\" >1.000000</td>\n",
       "            </tr>\n",
       "            <tr>\n",
       "                                        <th id=\"T_020ee2d6_f068_11ea_9021_acde48001122level2_row42\" class=\"row_heading level2 row42\" >2</th>\n",
       "                        <td id=\"T_020ee2d6_f068_11ea_9021_acde48001122row42_col0\" class=\"data row42 col0\" >0.000000</td>\n",
       "                        <td id=\"T_020ee2d6_f068_11ea_9021_acde48001122row42_col1\" class=\"data row42 col1\" >0.000000</td>\n",
       "                        <td id=\"T_020ee2d6_f068_11ea_9021_acde48001122row42_col2\" class=\"data row42 col2\" >1.000000</td>\n",
       "            </tr>\n",
       "            <tr>\n",
       "                                <th id=\"T_020ee2d6_f068_11ea_9021_acde48001122level1_row43\" class=\"row_heading level1 row43\" >5</th>\n",
       "                        <th id=\"T_020ee2d6_f068_11ea_9021_acde48001122level2_row43\" class=\"row_heading level2 row43\" >2</th>\n",
       "                        <td id=\"T_020ee2d6_f068_11ea_9021_acde48001122row43_col0\" class=\"data row43 col0\" >0.000000</td>\n",
       "                        <td id=\"T_020ee2d6_f068_11ea_9021_acde48001122row43_col1\" class=\"data row43 col1\" >0.000000</td>\n",
       "                        <td id=\"T_020ee2d6_f068_11ea_9021_acde48001122row43_col2\" class=\"data row43 col2\" >1.000000</td>\n",
       "            </tr>\n",
       "            <tr>\n",
       "                                <th id=\"T_020ee2d6_f068_11ea_9021_acde48001122level1_row44\" class=\"row_heading level1 row44\" >8</th>\n",
       "                        <th id=\"T_020ee2d6_f068_11ea_9021_acde48001122level2_row44\" class=\"row_heading level2 row44\" >2</th>\n",
       "                        <td id=\"T_020ee2d6_f068_11ea_9021_acde48001122row44_col0\" class=\"data row44 col0\" >0.000000</td>\n",
       "                        <td id=\"T_020ee2d6_f068_11ea_9021_acde48001122row44_col1\" class=\"data row44 col1\" >0.000000</td>\n",
       "                        <td id=\"T_020ee2d6_f068_11ea_9021_acde48001122row44_col2\" class=\"data row44 col2\" >1.000000</td>\n",
       "            </tr>\n",
       "    </tbody></table>"
      ],
      "text/plain": [
       "<pandas.io.formats.style.Styler at 0x7fe5889ae250>"
      ]
     },
     "execution_count": 61,
     "metadata": {},
     "output_type": "execute_result"
    }
   ],
   "source": [
    "cpt = conditional_probability(titanic, \"pclass\", [\"sex\", \"sibsp\", \"parch\"], \"name\")\n",
    "cm = sns.light_palette(\"blue\", as_cmap=True)\n",
    "cpt.style.background_gradient(cmap=cm)"
   ]
  },
  {
   "cell_type": "markdown",
   "metadata": {},
   "source": [
    "That's a bit better but we still have a problem with the extreme values creating visual clutter.\n",
    "It's probably best to generate the whole table and then zero in on elements we think are interesting (or may be interesting) and then extract them:"
   ]
  },
  {
   "cell_type": "code",
   "execution_count": 62,
   "metadata": {},
   "outputs": [
    {
     "data": {
      "text/html": [
       "<div>\n",
       "<style scoped>\n",
       "    .dataframe tbody tr th:only-of-type {\n",
       "        vertical-align: middle;\n",
       "    }\n",
       "\n",
       "    .dataframe tbody tr th {\n",
       "        vertical-align: top;\n",
       "    }\n",
       "\n",
       "    .dataframe thead th {\n",
       "        text-align: right;\n",
       "    }\n",
       "</style>\n",
       "<table border=\"1\" class=\"dataframe\">\n",
       "  <thead>\n",
       "    <tr style=\"text-align: right;\">\n",
       "      <th></th>\n",
       "      <th></th>\n",
       "      <th>pclass</th>\n",
       "      <th>1</th>\n",
       "      <th>2</th>\n",
       "      <th>3</th>\n",
       "    </tr>\n",
       "    <tr>\n",
       "      <th>sex</th>\n",
       "      <th>sibsp</th>\n",
       "      <th>parch</th>\n",
       "      <th></th>\n",
       "      <th></th>\n",
       "      <th></th>\n",
       "    </tr>\n",
       "  </thead>\n",
       "  <tbody>\n",
       "    <tr>\n",
       "      <th rowspan=\"2\" valign=\"top\">female</th>\n",
       "      <th rowspan=\"2\" valign=\"top\">0</th>\n",
       "      <th>0</th>\n",
       "      <td>0.268041</td>\n",
       "      <td>0.216495</td>\n",
       "      <td>0.515464</td>\n",
       "    </tr>\n",
       "    <tr>\n",
       "      <th>1</th>\n",
       "      <td>0.515152</td>\n",
       "      <td>0.242424</td>\n",
       "      <td>0.242424</td>\n",
       "    </tr>\n",
       "  </tbody>\n",
       "</table>\n",
       "</div>"
      ],
      "text/plain": [
       "pclass                     1         2         3\n",
       "sex    sibsp parch                              \n",
       "female 0     0      0.268041  0.216495  0.515464\n",
       "             1      0.515152  0.242424  0.242424"
      ]
     },
     "execution_count": 62,
     "metadata": {},
     "output_type": "execute_result"
    }
   ],
   "source": [
    "cpt.loc[[(\"female\", 0, 0), (\"female\", 0, 1)]]"
   ]
  },
  {
   "cell_type": "markdown",
   "metadata": {},
   "source": [
    "Here we can zero in on the differing conditional probabilities associated with a female passenger without siblings or spouse present who does or does not have parents/children present.\n",
    "Here we see that having a parent/child present makes this particular female passenger more likely to be in 1st class as compared to a similar female passenger without a parent/child present.\n",
    "Of course, this could be comparing a single female accompanying their wealthy parents and a widowed woman with her only child, heading to the New (to her) World and hopefully a better life."
   ]
  },
  {
   "cell_type": "markdown",
   "metadata": {
    "colab_type": "text",
    "id": "Ax3mv53GnZ72"
   },
   "source": [
    "## Bayes Rule and the Naive Bayes Classifier\n",
    "\n",
    "Seeing the bit of a mess we get when we grow our conditional probability models too beig, let's return to the idea of approximating the conditional probability distribution.\n",
    "We mentioned previously that all predictive models are at least implicitly conditional probability models (and many are explicitly conditional probability models).\n",
    "We also noted that you could, in theory, use a conditional probability distribution as a predictive model.\n",
    "The main obstacle here is that the conditional probability distribution grows exponentially in the number of variables.\n",
    "The usual alternative is to treat the conditional probability distribution as a function to be estimated and reduce it to a calculation instead of a lookup.\n",
    "This is essentially what numerical approaches such as logistic regression all the way up to deep learning do.\n",
    "\n",
    "An alternative is to make simplifying assumptions about the nature of the interactions among variables.\n",
    "Consider the following version of Bayes Rule:\n",
    "\n",
    "$P(A|B, C, D, E, F) \\propto P(B, C, D, E, F|A)P(A)$\n",
    "\n",
    "where we use $\\propto$ in order to ignore the normalizer.\n",
    "\n",
    "If each variable has 4 potential values, then the table representing these conditional probability distributions is $4^5$ or 1,024 values.\n",
    "Remember the Chain Rule of Probability:\n",
    "\n",
    "$P(A, B, C, D, E) = P(A|B, C, D, E)P(B|C, D, E)P(C|D, E)P(D|E)P(E)$\n",
    "\n",
    "We can apply this to a conditional probability as well:\n",
    "\n",
    "$P(B, C, D, E, F|A) = P(B|C, D, E, F, A)P(C|D, E, F, A)P(D|E, F, A)P(E|F, A)P(F|A)$\n",
    "\n",
    "And then remember the definition of conditional independence from above:\n",
    "\n",
    "$P(A|B, C) = P(A|C)$\n",
    "\n",
    "if A and C are conditionally independent of B.\n",
    "\n",
    "If we *assume* that all features are conditionally independent of each other, then our chain rule above reduces to:\n",
    "\n",
    "$P(B, C, D, E, F|A) = P(B|A)P(C|A)P(D|A)P(E|A)P(F|A)$\n",
    "\n",
    "which we can substitute back into our Bayes Rule:\n",
    "\n",
    "$P(A|B, C, D, E, F) \\propto P(B|A)P(C|A)P(D|A)P(E|A)P(F|A)P(A)$\n",
    "\n",
    "Each conditional probability distribution is now 4x4 or 16 values. We require 5 of them plus the 4 element prior distribution. Instead of 1,024 values we now estimate our posterior distribution using 5 times 16 element tables or 80 values time 4 = 320.\n",
    "\n",
    "This is quite a bit better than 1,024 and, of course, the savings are larger, the larger the conditional probability table that we're estimating.\n",
    "That is, the more variables we have and the more values those variables have.\n",
    "\n",
    "With this simplification in mind, how do we use it as a classifier?\n",
    "\n",
    "### Naive Bayes Classifier\n",
    "\n",
    "Returning to the Titanic example, we have the following:\n",
    "\n",
    "$P(survived|pclass, sex, decade, parch, sibsp) \\propto P(pclass|survived)P(sex|survived)P(decade|survived)P(parch|survived)P(sibsp|survived)$\n",
    "\n",
    "Let us suppose that we want to predict the fate of a 2nd class women in her 30s with no family on board Titanic:\n",
    "\n",
    "$P(survived|2, female, 30, 0, 0) \\propto P(2|survived)P(female|survived)P(30|survived)P(0|survived)P(0|survived)$\n",
    "\n",
    "We can make the prediction by calculating the above equation for each possible value of $survived$ (0 and 1):\n",
    "\n",
    "$P(survived=0|2, female, 30, 0, 0) \\propto P(2|0)P(female|0)P(30|0)P(0|0)P(0|0)$\n",
    "\n",
    "\n",
    "$P(survived=1|2, female, 30, 0, 0) \\propto P(2|1)P(female|1)P(30|1)P(0|1)P(0|1)$\n",
    "\n",
    "and pick the outcome that has the higher (estimated) posterior probaliity.\n",
    "This is the Naive Bayes Classifier, \"naive\" because we assume all features are independent of each other *given* the target variable.\n",
    "\n",
    "So, in general, the Naive Bayes Classifier involves:\n",
    "\n",
    "1. calculating prior probabilities for the target variable.\n",
    "2. calculating conditional probabilities, $P(X_i|T)$ where $X_i$ is some feature and $T$ is the target variable.\n",
    "\n",
    "and then when you want to classify something, you calculate:\n",
    "\n",
    "$P(T=t_j|X_1, X_2,...) \\propto \\prod_i P(X_i|T) P(T=t_j)$\n",
    "\n",
    "for each value of T, $t_j$.\n",
    "\n",
    "We noted that in a very large conditional probability table, we're likely to have empty subsets.\n",
    "This can happen in Naive Bayes as well.\n",
    "The general approach is to introduce *smoothing* via pseudocounts...we pretend we saw one count for every possible subset.\n",
    "This keeps the $\\prod$ from imploding on missing values.\n",
    "You can change the number of pseudocounts if you like...the distribution of the pseudocounts represents a prior on the conditional probabilities!\n",
    "Bayes is priors all the way down.\n",
    "\n",
    "Is this good for estimating posterior probabilities? No.\n",
    "Is it good for classification? Yes, many times because all it has to do is get the *ordering* of probabilities correct.\n",
    "\n",
    "Let's estimate a Naive Bayes Model just for pclass and sex so we can compare the results with the exactly probabilities we already estimated.\n",
    "After that, you can build a full model to determine our young woman's *likely* fate."
   ]
  },
  {
   "cell_type": "markdown",
   "metadata": {
    "colab_type": "text",
    "id": "bLWuHHdOyWzL"
   },
   "source": [
    "### Scikit Learn Naive Bayes\n",
    "\n",
    "Scikit-Learn has a number of implementations for [Naive Bayes](https://scikit-learn.org/stable/modules/naive_bayes.html).\n",
    "We'll be using CategoricalNB because our target variable and features are categorical variables."
   ]
  },
  {
   "cell_type": "code",
   "execution_count": 63,
   "metadata": {
    "colab": {},
    "colab_type": "code",
    "id": "rKvmdaYZx2Jn"
   },
   "outputs": [],
   "source": [
    "from sklearn.naive_bayes import CategoricalNB"
   ]
  },
  {
   "cell_type": "markdown",
   "metadata": {
    "colab_type": "text",
    "id": "9nDHqT_6yrhK"
   },
   "source": [
    "As we've already noted, one of the problems for using Conditional Probability distributions is that some of the \"cells\" (subsets) may be empty and have no values.\n",
    "This is still possible for the Naive Bayes Classifier.\n",
    "The constructor for CategoricalNB takes a parameter, `alpha`, that determines the number of \"pseudocounts\" each subset gets.\n",
    "This is a form of smoothing or regularization as well that can be used to prevent overfitting.\n",
    "In Bayesian terms, this is a prior (in Bayesland, it's priors all the way down)."
   ]
  },
  {
   "cell_type": "code",
   "execution_count": 64,
   "metadata": {
    "colab": {},
    "colab_type": "code",
    "id": "pFVtquDkzQkG"
   },
   "outputs": [],
   "source": [
    "clf = CategoricalNB()"
   ]
  },
  {
   "cell_type": "markdown",
   "metadata": {
    "colab_type": "text",
    "id": "GZL-44v-0Ffv"
   },
   "source": [
    "Unfortunately, the CategoricalNB does not work arbitrary strings.\n",
    "Instead, we need to encode our data using the OrdinalEncoder."
   ]
  },
  {
   "cell_type": "code",
   "execution_count": 65,
   "metadata": {
    "colab": {},
    "colab_type": "code",
    "id": "pQWkpofv1PYK"
   },
   "outputs": [],
   "source": [
    "from sklearn.preprocessing import OrdinalEncoder"
   ]
  },
  {
   "cell_type": "code",
   "execution_count": 66,
   "metadata": {
    "colab": {},
    "colab_type": "code",
    "id": "P1RTJqc41TpH"
   },
   "outputs": [],
   "source": [
    "encoder = OrdinalEncoder()"
   ]
  },
  {
   "cell_type": "markdown",
   "metadata": {
    "colab_type": "text",
    "id": "rss7n-eX2q_3"
   },
   "source": [
    "We have to get rid of all the rows that don't have age values or the Encoder will fail."
   ]
  },
  {
   "cell_type": "code",
   "execution_count": 67,
   "metadata": {
    "colab": {},
    "colab_type": "code",
    "id": "4kNGvzir14lA"
   },
   "outputs": [],
   "source": [
    "with_age = titanic[titanic[\"age\"].notnull()]"
   ]
  },
  {
   "cell_type": "markdown",
   "metadata": {
    "colab_type": "text",
    "id": "fWzOiVPA2yQ_"
   },
   "source": [
    "We now run the Encoder:"
   ]
  },
  {
   "cell_type": "code",
   "execution_count": 68,
   "metadata": {
    "colab": {
     "base_uri": "https://localhost:8080/",
     "height": 34
    },
    "colab_type": "code",
    "id": "WDuLcgx01WuG",
    "outputId": "5ac6962b-2d1e-4bee-a28d-2208897463e2"
   },
   "outputs": [
    {
     "data": {
      "text/plain": [
       "OrdinalEncoder()"
      ]
     },
     "execution_count": 68,
     "metadata": {},
     "output_type": "execute_result"
    }
   ],
   "source": [
    "encoder.fit(with_age[[\"pclass\", \"sex\"]])"
   ]
  },
  {
   "cell_type": "markdown",
   "metadata": {
    "colab_type": "text",
    "id": "TvrwV6x_2-kp"
   },
   "source": [
    "And here we can see the encoded categories:"
   ]
  },
  {
   "cell_type": "code",
   "execution_count": 69,
   "metadata": {
    "colab": {
     "base_uri": "https://localhost:8080/",
     "height": 34
    },
    "colab_type": "code",
    "id": "J5HPjcZu1Wqc",
    "outputId": "db81ab14-b713-45b5-8113-d9c6b9e9ddad"
   },
   "outputs": [
    {
     "data": {
      "text/plain": [
       "[array([1, 2, 3]), array(['female', 'male'], dtype=object)]"
      ]
     },
     "execution_count": 69,
     "metadata": {},
     "output_type": "execute_result"
    }
   ],
   "source": [
    "encoder.categories_"
   ]
  },
  {
   "cell_type": "markdown",
   "metadata": {
    "colab_type": "text",
    "id": "5trEnqGP3FaP"
   },
   "source": [
    "We can now fit our classifier using data for passenger class and sex.\n",
    "We use the encoder to transform it first."
   ]
  },
  {
   "cell_type": "code",
   "execution_count": 70,
   "metadata": {
    "colab": {
     "base_uri": "https://localhost:8080/",
     "height": 34
    },
    "colab_type": "code",
    "id": "_ijQcpBtzWSb",
    "outputId": "d03065f6-2d1b-412e-df81-c42a98a36d59"
   },
   "outputs": [
    {
     "data": {
      "text/plain": [
       "CategoricalNB()"
      ]
     },
     "execution_count": 70,
     "metadata": {},
     "output_type": "execute_result"
    }
   ],
   "source": [
    "clf.fit(encoder.transform(titanic[[\"pclass\", \"sex\"]]), titanic[\"survived\"])"
   ]
  },
  {
   "cell_type": "markdown",
   "metadata": {
    "colab_type": "text",
    "id": "VZFmCDF24bI0"
   },
   "source": [
    "We can now make a prediction for a first class female represented as a Tuple (1, 'female') which we first transform.\n",
    "The predict function expects a \"2d Array-like\"...basically, a List of Lists or Tuples:"
   ]
  },
  {
   "cell_type": "code",
   "execution_count": 71,
   "metadata": {
    "colab": {
     "base_uri": "https://localhost:8080/",
     "height": 34
    },
    "colab_type": "code",
    "id": "4M8zlI8m38LK",
    "outputId": "eac447bf-c0de-4d8b-f544-b22b475d8604"
   },
   "outputs": [
    {
     "data": {
      "text/plain": [
       "array([1])"
      ]
     },
     "execution_count": 71,
     "metadata": {},
     "output_type": "execute_result"
    }
   ],
   "source": [
    "clf.predict(encoder.transform([(1, 'female')]))"
   ]
  },
  {
   "cell_type": "markdown",
   "metadata": {
    "colab_type": "text",
    "id": "_f7hn0RV4tA6"
   },
   "source": [
    "Our classifier predicts that she'll survive.\n",
    "What's the raw probability?"
   ]
  },
  {
   "cell_type": "code",
   "execution_count": 72,
   "metadata": {
    "colab": {
     "base_uri": "https://localhost:8080/",
     "height": 34
    },
    "colab_type": "code",
    "id": "R-qXrViyzWPm",
    "outputId": "4fa0daa0-1a5e-4d0f-b145-175e554207ed"
   },
   "outputs": [
    {
     "data": {
      "text/plain": [
       "array([[0.12594192, 0.87405808]])"
      ]
     },
     "execution_count": 72,
     "metadata": {},
     "output_type": "execute_result"
    }
   ],
   "source": [
    "clf.predict_proba(encoder.transform([(1, 'female')]))"
   ]
  },
  {
   "cell_type": "markdown",
   "metadata": {
    "colab_type": "text",
    "id": "K2eMghJW45vA"
   },
   "source": [
    "We get two probabilities...the probability of 0 (not surviving) and 1 (surviving).\n",
    "If we refer to our table above, the value isn't *hugely* off.\n",
    "The empirical estimate is 3% and 97%.\n",
    "The important point is that the *ordering* is still the same."
   ]
  },
  {
   "cell_type": "code",
   "execution_count": 73,
   "metadata": {},
   "outputs": [
    {
     "name": "stdout",
     "output_type": "stream",
     "text": [
      "P(survived|pclass, sex)\n"
     ]
    },
    {
     "data": {
      "text/html": [
       "<div>\n",
       "<style scoped>\n",
       "    .dataframe tbody tr th:only-of-type {\n",
       "        vertical-align: middle;\n",
       "    }\n",
       "\n",
       "    .dataframe tbody tr th {\n",
       "        vertical-align: top;\n",
       "    }\n",
       "\n",
       "    .dataframe thead th {\n",
       "        text-align: right;\n",
       "    }\n",
       "</style>\n",
       "<table border=\"1\" class=\"dataframe\">\n",
       "  <thead>\n",
       "    <tr style=\"text-align: right;\">\n",
       "      <th></th>\n",
       "      <th>survived</th>\n",
       "      <th>0</th>\n",
       "      <th>1</th>\n",
       "    </tr>\n",
       "    <tr>\n",
       "      <th>pclass</th>\n",
       "      <th>sex</th>\n",
       "      <th></th>\n",
       "      <th></th>\n",
       "    </tr>\n",
       "  </thead>\n",
       "  <tbody>\n",
       "    <tr>\n",
       "      <th rowspan=\"2\" valign=\"top\">1</th>\n",
       "      <th>female</th>\n",
       "      <td>0.034722</td>\n",
       "      <td>0.965278</td>\n",
       "    </tr>\n",
       "    <tr>\n",
       "      <th>male</th>\n",
       "      <td>0.659218</td>\n",
       "      <td>0.340782</td>\n",
       "    </tr>\n",
       "    <tr>\n",
       "      <th rowspan=\"2\" valign=\"top\">2</th>\n",
       "      <th>female</th>\n",
       "      <td>0.113208</td>\n",
       "      <td>0.886792</td>\n",
       "    </tr>\n",
       "    <tr>\n",
       "      <th>male</th>\n",
       "      <td>0.853801</td>\n",
       "      <td>0.146199</td>\n",
       "    </tr>\n",
       "    <tr>\n",
       "      <th rowspan=\"2\" valign=\"top\">3</th>\n",
       "      <th>female</th>\n",
       "      <td>0.509259</td>\n",
       "      <td>0.490741</td>\n",
       "    </tr>\n",
       "    <tr>\n",
       "      <th>male</th>\n",
       "      <td>0.847870</td>\n",
       "      <td>0.152130</td>\n",
       "    </tr>\n",
       "  </tbody>\n",
       "</table>\n",
       "</div>"
      ],
      "text/plain": [
       "survived              0         1\n",
       "pclass sex                       \n",
       "1      female  0.034722  0.965278\n",
       "       male    0.659218  0.340782\n",
       "2      female  0.113208  0.886792\n",
       "       male    0.853801  0.146199\n",
       "3      female  0.509259  0.490741\n",
       "       male    0.847870  0.152130"
      ]
     },
     "execution_count": 73,
     "metadata": {},
     "output_type": "execute_result"
    }
   ],
   "source": [
    "survived_pclass_and_sex = conditional_probability(titanic, \"survived\", [\"pclass\", \"sex\"], \"name\")\n",
    "survived_pclass_and_sex"
   ]
  },
  {
   "cell_type": "markdown",
   "metadata": {
    "colab_type": "text",
    "id": "K2eMghJW45vA"
   },
   "source": [
    "What about for all the other possiblities?"
   ]
  },
  {
   "cell_type": "code",
   "execution_count": 74,
   "metadata": {
    "colab": {
     "base_uri": "https://localhost:8080/",
     "height": 119
    },
    "colab_type": "code",
    "id": "nGDQLXBz5RJe",
    "outputId": "8d02611c-5ff6-41d9-ea49-66add1f8231e"
   },
   "outputs": [
    {
     "name": "stdout",
     "output_type": "stream",
     "text": [
      "(1, 'male') [0.61739075 0.38260925] 0.659217877094972 0.3407821229050279\n",
      "(1, 'female') [0.12594192 0.87405808] 0.034722222222222224 0.9652777777777778\n",
      "(2, 'male') [0.77607252 0.22392748] 0.8538011695906432 0.14619883040935672\n",
      "(2, 'female') [0.23633297 0.76366703] 0.11320754716981132 0.8867924528301887\n",
      "(3, 'male') [0.88375635 0.11624365] 0.847870182555781 0.15212981744421908\n",
      "(3, 'female') [0.40436241 0.59563759] 0.5092592592592593 0.49074074074074076\n"
     ]
    }
   ],
   "source": [
    "for tup in [(1, 'male'), (1, 'female'), (2, 'male'), (2, 'female'), (3, 'male'), (3, 'female')]:\n",
    "    result = clf.predict_proba(encoder.transform([tup]))\n",
    "    # grab the appropriate two rows\n",
    "    entry = survived_pclass_and_sex.loc[[tup]]\n",
    "    not_survived, survived = entry.values[0]\n",
    "    print(tup, result[0], not_survived, survived)"
   ]
  },
  {
   "cell_type": "markdown",
   "metadata": {
    "colab_type": "text",
    "id": "Xq3G26Mn85Zo"
   },
   "source": [
    "<div style=\"background: tomato; margin:20px; padding: 20px;\">\n",
    "    <strong>Note</strong>\n",
    "    <p>\n",
    "        <strong>This is output is bad.</strong>\n",
    "Don't ever do this...don't just print out raw data structures.\n",
    "People have to go through your code to figure out what each of the things are.\n",
    "Instead, take the time to make nice tables.</p>\n",
    "</div>"
   ]
  },
  {
   "cell_type": "code",
   "execution_count": 75,
   "metadata": {
    "colab": {
     "base_uri": "https://localhost:8080/",
     "height": 34
    },
    "colab_type": "code",
    "id": "-otVpL_59EBR",
    "outputId": "baeb2efc-571a-4df6-b736-a814e8d39788"
   },
   "outputs": [],
   "source": [
    "#!pip install -U tabulate"
   ]
  },
  {
   "cell_type": "code",
   "execution_count": 76,
   "metadata": {
    "colab": {},
    "colab_type": "code",
    "id": "5wSgnFq-9qV7"
   },
   "outputs": [],
   "source": [
    "from tabulate import tabulate"
   ]
  },
  {
   "cell_type": "code",
   "execution_count": 77,
   "metadata": {
    "colab": {},
    "colab_type": "code",
    "id": "5o6i9_FG9G-M"
   },
   "outputs": [],
   "source": [
    "table = []\n",
    "for tup in [(1, 'male'), (1, 'female'), (2, 'male'), (2, 'female'), (3, 'male'), (3, 'female')]:\n",
    "    result = clf.predict_proba(encoder.transform([tup]))\n",
    "    # grab the appropriate two rows\n",
    "    entry = survived_pclass_and_sex.loc[[tup]]\n",
    "    not_survived, survived = entry.values[0]\n",
    "    row = list(tup) + list(result[0]) + [not_survived, survived]\n",
    "    table.append(row)"
   ]
  },
  {
   "cell_type": "code",
   "execution_count": 78,
   "metadata": {
    "colab": {
     "base_uri": "https://localhost:8080/",
     "height": 153
    },
    "colab_type": "code",
    "id": "gnHzpW4_9mkz",
    "outputId": "ea6dcc5c-f89c-4785-801a-857b76d245c0"
   },
   "outputs": [
    {
     "name": "stdout",
     "output_type": "stream",
     "text": [
      "  pclass  sex       NBC not survived    NBC survived    Empirical not survived    Empirical survived\n",
      "--------  ------  ------------------  --------------  ------------------------  --------------------\n",
      "       1  male                  0.62            0.38                      0.66                  0.34\n",
      "       1  female                0.13            0.87                      0.03                  0.97\n",
      "       2  male                  0.78            0.22                      0.85                  0.15\n",
      "       2  female                0.24            0.76                      0.11                  0.89\n",
      "       3  male                  0.88            0.12                      0.85                  0.15\n",
      "       3  female                0.40            0.60                      0.51                  0.49\n"
     ]
    }
   ],
   "source": [
    "print(tabulate(table, headers=['pclass', 'sex', 'NBC not survived', 'NBC survived', 'Empirical not survived', 'Empirical survived'], floatfmt=\".2f\"))"
   ]
  },
  {
   "cell_type": "markdown",
   "metadata": {
    "colab_type": "text",
    "id": "Wrkg9mmc7I8p"
   },
   "source": [
    "\"NBC\" represents posterior probabilities estimated by the Naive Bayes Classifier and \"Empirical\" is what we estimated above, directly from the data.\n",
    "We're not *primarily* interested in whether or not the estimates of the conditional probability by the NBC are correct.\n",
    "We're interested in seeing if the predicted outcomes (ordering of probabilities) are correct.\n",
    "\n",
    "For first class males, the probabilities aren't far off.\n",
    "For first class females, they are also very similar.\n",
    "\n",
    "For second class males, the probabilities are again, close enough in the sense that both models would predict survival or non-survival for the same person (the models agree).\n",
    "For second class females, the models also agree.\n",
    "\n",
    "For third class males, the models agree.\n",
    "For third class females, however, the models do not agree.\n",
    "The empirical distribution predicts that third class females do not survive while the Naive Bayes Classifier predicts that third class females do survive.\n",
    "The empirical probability, however, is very nearly a toss-up so this is not unexpected.\n",
    "Our results could be because of the smoothing or the Naive Bayes Assumption.\n",
    "\n",
    "\n",
    "<div style=\"background: palegreen; margin:20px; padding: 20px;\">\n",
    "    <strong>Review</strong>\n",
    "    <p>Build a full Naive Bayes Classifier using pclass, sex, decade, parch, and sibsp. Make 5 predictions.</p>\n",
    "    <p>(This is a Lab question)</p>\n",
    "</div>"
   ]
  },
  {
   "cell_type": "markdown",
   "metadata": {
    "colab_type": "text",
    "id": "d6SUQAQP_iIO"
   },
   "source": [
    "## Summary\n",
    "\n",
    "We covered a lot in this notebook.\n",
    "\n",
    "1. We discussed basic concepts in probability including the \"urn\" model.\n",
    "1. We talked about the importance of \"i.i.d\" or independently and identically distributed data.\n",
    "1. We talked about \"tidy\" data.\n",
    "1. We stressed the importance of domain knowledge.\n",
    "1. We looked at how we might interpret empirical relative frequencies as probabilities.\n",
    "1. Transform numerical variables into categorical variables so we could use discrete probability distributions.\n",
    "1. We noted that every probability $P(A)$ is really a marginal probability over a joint probability $P(A, *)$ or a conditional probability $P(A|*)$ where \"*\" is \"absolutely everything else\".\n",
    "1. We applied joint probabilities and conditional probabilities to empirical data, $P(A, B)$ and $P(A|B)$.\n",
    "1. We demonstrated how we might interpret conditional probabilities as a predictive model.\n",
    "1. We discussed how conditional probabilities implicitly underlie most predictive models and explicitly underlie many numerical models such as logistic regression, Support Vector Machines (SVM), and artificial neural networks through function approximation of the conditional probability distribution. $P(A|B) = f(A, B)$.\n",
    "1. We derived the Naive Bayes Classifier from Bayes Rule and applied it to a subset of the Titanic data.\n",
    "\n",
    "We'll be covering many of these concepts again throughout the semester, either implicitly or explicitly.\n",
    "\n",
    "**For a similar data set, you should be able to:**\n",
    "\n",
    "1. Transform numerical variables into categories or \"buckets\" (\"discretize\").\n",
    "2. Calculate relative frequencies and give an interpretation of them as probabilities.\n",
    "3. Calculate joint and conditional probability distributions from data and interpret them correctly.\n",
    "4. Fit a Naive Bayes Classifier model to data and make predictions with it.\n"
   ]
  }
 ],
 "metadata": {
  "colab": {
   "collapsed_sections": [],
   "name": "titanic.ipynb",
   "provenance": [],
   "toc_visible": true
  },
  "kernelspec": {
   "display_name": "Python (en685648)",
   "language": "python",
   "name": "en685648"
  },
  "language_info": {
   "codemirror_mode": {
    "name": "ipython",
    "version": 3
   },
   "file_extension": ".py",
   "mimetype": "text/x-python",
   "name": "python",
   "nbconvert_exporter": "python",
   "pygments_lexer": "ipython3",
   "version": "3.8.5"
  },
  "toc": {
   "colors": {
    "hover_highlight": "#DAA520",
    "navigate_num": "#000000",
    "navigate_text": "#333333",
    "running_highlight": "#FF0000",
    "selected_highlight": "#FFD700",
    "sidebar_border": "#EEEEEE",
    "wrapper_background": "#FFFFFF"
   },
   "moveMenuLeft": true,
   "nav_menu": {
    "height": "512px",
    "width": "252px"
   },
   "navigate_menu": true,
   "number_sections": true,
   "sideBar": true,
   "threshold": 4,
   "toc_cell": false,
   "toc_section_display": "block",
   "toc_window_display": false,
   "widenNotebook": false
  }
 },
 "nbformat": 4,
 "nbformat_minor": 4
}
